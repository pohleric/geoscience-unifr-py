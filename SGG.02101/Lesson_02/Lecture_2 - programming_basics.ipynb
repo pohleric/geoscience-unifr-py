{
 "cells": [
  {
   "cell_type": "markdown",
   "metadata": {},
   "source": [
    "![header](figures/Header_SGG_02101.png)\n",
    "\n",
    "\n",
    "# Programming basics\n",
    "\n",
    "Programming aims to **find solutions to our problems** that we cannot (or do not want to) solve manually.\n",
    "\n",
    "For a quick overview on your understanding, please fill out the questionnaire: https://tinyurl.com/w5metyhv"
   ]
  },
  {
   "cell_type": "code",
   "execution_count": 1,
   "metadata": {},
   "outputs": [
    {
     "data": {
      "text/plain": [
       "6"
      ]
     },
     "execution_count": 1,
     "metadata": {},
     "output_type": "execute_result"
    }
   ],
   "source": [
    "3 + 3"
   ]
  },
  {
   "cell_type": "markdown",
   "metadata": {},
   "source": [
    "## Programming language Python\n",
    "We will use `Python` as our programming language. Key points on `Python`:\n",
    "- Omnipresent language in operating systems and scientific computing \n",
    "- Large user numbers and user-made packages\n",
    "- Huge amount of documentation and user groups\n",
    "- Object oriented (designed to be used without the need for detailed knowledge about computer components)\n",
    "- Fast despite being high level language\n",
    "\n",
    "`Python` is a stand-alone software. There are different user interfaces available to make it easier to work with it, e.g.:\n",
    "- (base version / terminal)\n",
    "- Pycharm, Spyder, ...\n",
    "- **Jupyter Notebooks** \n",
    "\n",
    "![image_R_APIs](figures/api_python.png)\n",
    "\n",
    "*Figure 1: The forms/flavors of `Python`. From left to right: Console/terminal, Pycharm, Jupyter Notebook.*"
   ]
  },
  {
   "cell_type": "markdown",
   "metadata": {},
   "source": [
    "### Jupyter and Renkulab\n",
    "- Jupyter Notebooks have a simple, and intuitive design (website). \n",
    "- Allows saving the output in form of a website with outputs and images inside (good for sharing your work)\n",
    "\n",
    "Jupyter (Notebooks) can run on your own computer. Because this requires the installation and configuration of two programs (Anaconda, and Python) this can cause some problems, which would take a lot of time to solve for many students. Especially when installing so-called external `libaries` or `packages`, which require additional installation and configuration. Therefore, we use the `JupyterLab`/`RenkuLab` environment (a special form developped by the Swiss Data Science Center).\n",
    "\n",
    "![structure_renkulab](figures/python_RENKU_flow.jpg)\n",
    "\n",
    "*Figure 2: Layercake environment. `Python` is the basis to do the programming. If used in PyCharm or Jupyter directly, users have individual installations with slight variations (and problems). Renkulab is running on a dedicated server and provides a \"copy\" of a running Python-version and Jupyter environment that allows every user to work with the same software.*\n",
    "\n",
    "**RenkuLab** is a centralized server that runs Jupyter for us. In our case, this will be the RenkuLab (https://renkulab.io). On this server we have created a working environment for you. This working environment is an installation of Jupyter, Python, and all needed packages.\n",
    "You can log in to (https://renkulab.io) using your **SWITCH account** and use it as if it was your own Jupyter installation. Renkulab will run inside your browser. All you need is thus a browser! But it is recommended to use a laptop (not a smartphone) so you can better see the content and have a proper keyboard.\n",
    "\n",
    "> **NOTE:** Some browsers might cause problems (especially Safari). We tested everythin\n",
    "\n",
    "> Make sure to save your jupyter notebooks <font color=red>**and copy them to your personal computers**  </font> after the classes.\n",
    "\n"
   ]
  },
  {
   "cell_type": "markdown",
   "metadata": {},
   "source": [
    "## Working with online resources\n",
    "> From Quantitative Methods I (-> Geostatistic) Lecture 2\n",
    "\n",
    "Programming aims to **find solutions to our problems**! It is not of central scope, or even impossible, to know all the programming syntax. \n",
    "It is more important to know that most solutions for programming-related issues have already been dealt with by others. These solutions often result from someone asking in online forums \"How can I solve this particular problem?\". It might be a challenge to find these solutions because you will have to know the search terms.<br> (**note:** *searching in English will often have a higher success rate because the English speaking community is the biggest*)\n",
    "\n",
    "\n",
    "You can also find plenty of R online books, courses and tutorials. \n",
    "\n",
    "* In English: A large variety of online courses and tutorials exists\n",
    "    * \"R for Data Science\" by R4DS (R for data science) written by Wickham and Grolemund https://r4ds.had.co.nz/\n",
    "    * Official R guide for beginners (a bit tech-savy!): https://cran.r-project.org/doc/manuals/r-release/R-intro.pdf\n",
    "\n",
    "* In German: \n",
    "    * \"Angewandte Statistik - Methodensammlung mit R\" Hedderich and Sachs (https://link.springer.com/book/10.1007%2F978-3-662-45691-0)\n",
    "\n",
    "<br/><br/>\n",
    "A good source to look for specific questions is the website of stackexchange:\n",
    "\n",
    "* https://stackoverflow.com/questions/tagged/r\n",
    "\n",
    "* ChatGPT: ChatGPT can also be extremely useful **understanding** code and get information why your code is not working. <font color=red> $\\Rightarrow$ Do not use to ChatGPT to write all your code. You will not learn! Use it as an assistance, and when you get stuck. ChatGPT fails often to solve complex problems. The time you will spent to tell chatGPT the details of your problem is the same as learning it yourself.</font>\n",
    "![chatgpt](figures/chatgpt_r.jpg)\n",
    "*Figure 3: Examples using ChatGPT to get example code and understand an error message.*\n",
    "\n",
    "\n",
    "<font color=blue> $\\Rightarrow$ You will come accross the terms IDE (integrated development environment) and GUI (graphical user interface). If you are going to program more seriously in the future it is recommended to download such an IDE/GUI platform. They will help to organize bigger programming task. However, for this course it is absolutely not neccessary because Jupyter is providing us with all neccessary functionalities for the course.\n",
    "\n",
    "</font>\n",
    "\n",
    "\n",
    "***\n"
   ]
  },
  {
   "cell_type": "markdown",
   "metadata": {},
   "source": [
    "***\n",
    "## Programming\n",
    "\n",
    "> From QM I / Geostatistic (SGG.00272/SGG.01101) Lecture 2:\n",
    "\n",
    "The individual pieces of a program:\n",
    "\n",
    "* **input:** Get data from the keyboard, a file, or some other device. \n",
    "* **output:** Display data on the screen or send data to a file or other device. \n",
    "* **math:** Perform basic mathematical operations like addition and multiplication.\n",
    "* **conditional execution:** Check for certain conditions and execute the appropriate code. \n",
    "* **repetition:** Perform some action repeatedly, usually with some variation.\n",
    "\n",
    "*(free after: Allen Downey - Think Python www.thinkpython.com)*\n",
    "\n",
    "![image_programming](figures/programming_overview_bakery_code_v3.jpg)\n",
    "\n",
    "*Figure 4: Programming analogy: A bakery where inputs (ingredients) used with the right methods (kneading, baking) produces the output (bread, pastries).*\n",
    "\n",
    "<br/><br/>\n",
    "\n",
    "\n",
    "### Why programming?\n",
    "\n",
    "- <font color=red>Automated **problem solving**</font>\n",
    "    - vs. manual work (comfort)\n",
    "- <font color=red>Application of advanced methods</font>\n",
    "    - Quantitative methods require (complex) mathematical operations, too difficult to apply by hand in many cases\n",
    "- <font color=red>Recurring application</font>\n",
    "    - Same data format and operations but different data (e.g. climate diagrams, population growth, demography, COVID)\n",
    "        - Anything where the data is updated but the format stays the same\n",
    "    - You can change the input data and all caluclations/analyses are performed the same way.\n",
    "- <font color=red>Reproducibility </font>\n",
    "    - Allow others to come to the same results (Scientific standard) \n",
    "- <font color=red>Large data amounts</font>\n",
    "- <font color=red>Interdisciplinarity</font>\n",
    "    - Dealing with data from different fields\n",
    "    - Different formats\n",
    "    - Merging them into combined analysis\n",
    "    \n",
    "### How to write your programs?\n",
    "\n",
    "- <font color=red>Concept / Idea !</font>\n",
    "    - Understand the problem (Human language)\n",
    "    - Translate into logic and mathematical operations\n",
    "    - Think of what kind of data needs to be used\n",
    "- <font color=red>Single case solution</font>\n",
    "    - Testing the logical and mathematical operations\n",
    "    - Use training data or a small sample of the original dataset\n",
    "- <font color=red>Upscaling </font>\n",
    "    - Application to the general case / all the data\n",
    "    - Loops\n",
    "    - Functions (self-made)\n",
    "\n",
    "\n"
   ]
  },
  {
   "cell_type": "markdown",
   "metadata": {},
   "source": [
    "<font color=green>**For newcomers (and those who forgot)**:\n",
    "This course is build up on Quantitative Methods I. In QM I, an introduction to programming was given and we cannot repeat all of this here. You should be able to understand the programming examples that will follow. \n",
    "\n",
    "<font color=green>In order to \"catch up\", a deatailed tutorial script that goes through the most important aspects is provided on moodle. It is highly recommended that you practice by yourself so that at the end you can understand the code of this Lecture. You have three weeks time. Do little by little. Do not hesitate to play around in the script (change things and see what happens). If everything \"breaks\" you can just download the file again.\n",
    "\n",
    "<font color=green>The renkulab setup is explained at the end - also look at the \"Renku Setup PDF\" on moodle. The practice script is provided in a plain `R` script format. This can be opened in `R` or `Rstudio`. **It is recommended to use `Rstudio` on your personal computers**. If you have `Jupyter` installed on your personal computer, you can copy the content of the script (plain text format) and paste it into multiple \"coding\" cells within a new `Jupyter` Notebook. The script is very long, so it would be difficult to read it if all is in one cell. \n",
    "\n",
    "<font color=green>Instructions on how to install `R` and `Rstudio` on your own personal computer are provided in a separate document on moodle.\n",
    "</font>\n",
    "***\n"
   ]
  },
  {
   "cell_type": "markdown",
   "metadata": {},
   "source": [
    "#### Programming examples \n",
    "\n",
    "In quantitative analysis we deal with data and a question that we aim to answer. Examples from SGG.00272 are:\n",
    "- *Did the COVID deaths increase in the second wave of the pandemic?*\n",
    "- *Did air temperatures rise significantly over the last 50 years in Switzerland?*\n",
    "\n",
    "We used statistical analysis, such as statistical tests and linear regression, as well as graphical respresentations of the data to answer these questions. The datasets that were the basis for these analyses are sometimes very large (too large in some cases to open e.g. in Excel). \n",
    "\n",
    "In `R` we can open many different data formats (e.g. tables in plain text format, images in various formats, satellite data in special formats). \n",
    "\n"
   ]
  },
  {
   "cell_type": "markdown",
   "metadata": {},
   "source": [
    "***\n",
    "### How to write your programs - step by step\n",
    "In SGG.00272, you learned already how to write programs in the Jupyter Notebook. The two types of **cells** (this one is a markdown cell, and the cells below are program code cells) serve the purpose of documenting and calculating. We will therefore use the markdown cells to write down the ideas, and the code cells to run the code we derive from our ideas. \n",
    "\n",
    "#### Data\n",
    "A concept or an idea arises of course from a problem. We will generate one by creating data after this overview. The first one will be some numbers, and the second one a table of movies with ratings how suitable they are for different moods.\n",
    "\n",
    "#### Concept/Idea\n",
    "At the beginning of a program is your idea of what you want to do. If you have a concept of how to solve the problem, you can work on translating it into program code. The more concrete your idea is on what a program shall do, the better.\n",
    "\n",
    "A simple example:\n",
    "\n",
    "You want to find the smallest number in a vector; a real world example could be **who is the smallest person in the first row?**. We use the variable `mydata1` that represents a `vector`(it is like a list of values) of data as an example. The concept could look like this:\n",
    "<font color=blue>\n",
    "1. Start by assuming that the first value (**the first person**) is the smallest number (person)\n",
    "2. Go through all the values (students), one by one, and test if maybe another value (person) is smaller than the first value\n",
    "3. If that is the case, mark this value as the smallest value unless we find another value that is even smaller.\n",
    "4. Continue until we went through all the values\n",
    "</font>\n",
    "\n",
    "The computer does of course not understand our instructions like this. We have to use operations to control the \n",
    "- **flow** and to do the \n",
    "- **logic**\n",
    "\n",
    "<br/><br/>\n",
    "#### Single case solution\n",
    "The basis to solve if a value is smaller than another is a logical operator\n",
    "- `<` smaller\n",
    "- `<=` smaller or equal\n",
    "- `>` greater\n",
    "- `>=` greater or equal\n",
    "- `!=` not equal\n",
    "- `==` equal\n",
    "\n",
    "<font color=red> $\\Rightarrow$ The single equal sign `=` is used to assign a variable, not for logical operations!</font>\n",
    "\n",
    "#### Upscaling\n",
    "Once we created, tested, and veryfied the single case solution, we can apply our method to the entire dataset we want to investigate. This addresses points 2 to 4 of our concept outline.\n",
    "\n",
    "The **flow** operations become important now. How do we ensure that we go through **all** the data, and implement the **logic**.\n",
    "\n",
    "**Control flow statements** are the solution. They comprise loops and conditional execution commands:\n",
    "- `for()` loops\n",
    "- `if()` statements\n",
    "\n",
    "<br/>"
   ]
  },
  {
   "cell_type": "markdown",
   "metadata": {},
   "source": [
    "### Example 1\n",
    "\n",
    "##### Data generation\n",
    "The methods to open and access data are often the first step --> data basis. In the following we recap two methods to get started with data."
   ]
  },
  {
   "cell_type": "code",
   "execution_count": null,
   "metadata": {
    "scrolled": true
   },
   "outputs": [],
   "source": [
    "# Create a vector with data that we typed in by hand\n",
    "mydata1 = c(190,154,169,187.8)  # the height of the students in the first row in cm\n",
    "mydata1"
   ]
  },
  {
   "cell_type": "markdown",
   "metadata": {},
   "source": [
    "##### Single case solution "
   ]
  },
  {
   "cell_type": "code",
   "execution_count": null,
   "metadata": {},
   "outputs": [],
   "source": [
    "# single case solution with example data\n",
    "smallest_number = 190  # corresponding to the first value of mydata1\n",
    "value_to_compare = 154\n",
    "smallest_number < value_to_compare \n"
   ]
  },
  {
   "cell_type": "markdown",
   "metadata": {},
   "source": [
    "The basis for our program will be this comparison. However, we have to now think of the **flow** so that we can do a comparison with all the values.\n",
    "\n",
    "<br/><br/>\n",
    "\n",
    "##### Upscaling \n",
    "Our concecpt requires to go bigger, because we do not just want to compare two values, but find the smallest value of all of the values in our vector `mydata1`.\n",
    "\n",
    "We will translate all the individual parts of our concept into code, one by one."
   ]
  },
  {
   "cell_type": "code",
   "execution_count": null,
   "metadata": {},
   "outputs": [],
   "source": [
    "# --- translating our concept --- #\n",
    "# 1 - take first value as smallest number to start with\n",
    "smallest_number = mydata1[1]\n",
    "\n",
    "# 2 - there are two things we want to do:\n",
    "# 2.1 - go through all values\n",
    "for(value in mydata1){\n",
    "    \n",
    "}\n",
    "# 2.2 - test if a values is smaller than the one we think is the smallest one\n",
    "# value < smallest_number\n",
    "\n",
    "# 3 - if we find a smaller value, then we assign it as the new smallest value\n",
    "test_true_or_false = (value < smallest_number)\n",
    "# test_true_or_false\n",
    "\n",
    "if(test_true_or_false){\n",
    "    smallest_number = value\n",
    "}\n",
    "\n",
    "# 4 - Point 4 is actually covered by point 2.1 (go through all the values)"
   ]
  },
  {
   "cell_type": "code",
   "execution_count": null,
   "metadata": {},
   "outputs": [],
   "source": [
    "for(value in mydata1){\n",
    "    print(value)\n",
    "    \n",
    "}"
   ]
  },
  {
   "cell_type": "markdown",
   "metadata": {},
   "source": [
    "The program is not ready yet. So far, each individual step stands by itself. We have to think about the **order of the indvidual tasks** now.\n",
    "\n",
    "We have to add them together in a way that it corresponds to our concept. In particular, we have to do the test (2.2) for every value. \n",
    "- So the test must be **in** the `for`-loop (2.1)\n",
    "- And point (3 - overwite the smallest number) needs to be **after** the test."
   ]
  },
  {
   "cell_type": "code",
   "execution_count": null,
   "metadata": {},
   "outputs": [],
   "source": [
    "smallest_number = mydata1[1]\n",
    "for(value in mydata1){\n",
    "    if(value < smallest_number){\n",
    "        smallest_number = value\n",
    "#         print(\"Found smaller number:\")\n",
    "#         print(value)\n",
    "    }\n",
    "}\n",
    "\n",
    "paste('The smallest number in our dataset is:',smallest_number)"
   ]
  },
  {
   "cell_type": "code",
   "execution_count": null,
   "metadata": {},
   "outputs": [],
   "source": [
    "mydata1\n"
   ]
  },
  {
   "cell_type": "markdown",
   "metadata": {},
   "source": [
    "***\n",
    "The **logic** in this example is the test, whether `value` is smaller than the value of the variable `smallest_number`.\n",
    "\n",
    "The **flow** in this example is controled by the `for` loop to go through each value of the vector `mydata1`, and by the `if` statement, that only allows to overwrite the variable `smallest_number` **if** a value is smaller.\n",
    "\n",
    "The first category is hence called:\n",
    "- logical operation/statement\n",
    "\n",
    "And the second one:\n",
    "- control flow operation/statement\n",
    "\n",
    "***"
   ]
  },
  {
   "cell_type": "markdown",
   "metadata": {},
   "source": [
    "### Example 2\n",
    "\n",
    "<font color=red>Find all the movies in `mydata2` (see below) that are good to watch while traveling.</font>\n",
    "\n",
    "What do we need in our concept? Follow the link and select your answers:\n",
    "https://tinyurl.com/r6h24edc\n"
   ]
  },
  {
   "cell_type": "code",
   "execution_count": null,
   "metadata": {},
   "outputs": [],
   "source": [
    "# read in external data (here in form of a text-file table)\n",
    "mydata2 = read.table('../../data/movie_list.csv', sep=';', header=TRUE)\n",
    "mydata2"
   ]
  },
  {
   "cell_type": "markdown",
   "metadata": {},
   "source": [
    "#### Part 1\n",
    "Start with your concept:\n",
    "\n",
    "1. Select the data that describes if the movie is a **potential Travel** category movie\n",
    "2. Test if the category is actually **Travel**\n",
    "3. Remember **which** (indices!) of the movies is such a category\n",
    "4. **Select** the data that will tell us the movie name\n",
    "5. Use the indices to **select** the movie name\n",
    "\n"
   ]
  },
  {
   "cell_type": "markdown",
   "metadata": {},
   "source": [
    "<br/>\n",
    "<br/>\n",
    "\n",
    "#### Part 2\n",
    "Translating the concept into code:"
   ]
  },
  {
   "cell_type": "code",
   "execution_count": null,
   "metadata": {},
   "outputs": [],
   "source": [
    "mydata2$Mood"
   ]
  },
  {
   "cell_type": "code",
   "execution_count": null,
   "metadata": {},
   "outputs": [],
   "source": [
    "# 1 - where is the information stored?\n",
    "# you can have also a look at the data again to find the respective column by calling the variable\n",
    "# mydata2  # outcomment(remove first '#') and run\n",
    "category = mydata2$Mood\n",
    "category_to_find = 'Travel'\n",
    "\n",
    "# 2 - test\n",
    "category == category_to_find\n",
    "# mydata2$Mood\n",
    "# # 3 - remember the position\n",
    "index_to_remember = which(category == category_to_find)\n",
    "\n",
    "# index_to_remember\n",
    "# # 4 - select movie name data\n",
    "movie_names = mydata2$Name\n",
    "# movie_names\n",
    "# # 5 - select the movie names using the indetified indices\n",
    "movie_names[index_to_remember]"
   ]
  },
  {
   "cell_type": "code",
   "execution_count": null,
   "metadata": {},
   "outputs": [],
   "source": [
    "mydata2"
   ]
  },
  {
   "cell_type": "code",
   "execution_count": null,
   "metadata": {},
   "outputs": [],
   "source": [
    "mydata2$Name[which(mydata2$Mood == 'Travel')]"
   ]
  },
  {
   "cell_type": "markdown",
   "metadata": {},
   "source": [
    "***\n",
    "Unlike the first example, we do not need a `loop` or `conditional` control flow statements. We directly get the results. If we had two movie files, we could need a loop. Imagine the data was split into two parts:"
   ]
  },
  {
   "cell_type": "code",
   "execution_count": null,
   "metadata": {},
   "outputs": [],
   "source": [
    "mydata3 = mydata2[1:4,] # rows 1 to 4 of mydata2\n",
    "mydata4 = mydata2[5:NROW(mydata2),]  # rows 5 to the end of mydata2\n",
    "mydata3\n",
    "mydata4\n",
    "\n",
    "# creates a list object that has mydata3 in position 1, and mydata4 in position 2\n",
    "movie_list = list(mydata3, mydata4)"
   ]
  },
  {
   "cell_type": "code",
   "execution_count": null,
   "metadata": {},
   "outputs": [],
   "source": [
    "# using the same code as before but with a loop that goes though the different movie files\n",
    "\n",
    "# What we are looking for does not change, so we can have it outside the loop\n",
    "category_to_find = 'Travel'\n",
    "\n",
    "for(data in movie_list){\n",
    "    # we have to change the variable name, because we are not looking in mydata2 anymore\n",
    "    category = data$Mood  # <-- we now look in \"data\", a variable that corresponds to either mydata3 or mydata4\n",
    "    index_to_remember = which(category == category_to_find)\n",
    "    movie_names = data$Name  # <-- changed mydata2 to \"data\"\n",
    "    \n",
    "    print(movie_names[index_to_remember])\n",
    "}\n"
   ]
  },
  {
   "cell_type": "code",
   "execution_count": null,
   "metadata": {},
   "outputs": [],
   "source": [
    "a = list(mydata1, '5')\n",
    "a"
   ]
  },
  {
   "cell_type": "markdown",
   "metadata": {},
   "source": [
    "***\n",
    "\n",
    "## Data, data types, indices, and functions\n",
    "\n",
    "### Data and data types\n",
    "Data refers to all the values, numbers, texts, variables that we deal with. That can be a single number or a huge data.frame or images.\n",
    "\n",
    "For the purpose of demonstration, the files and datasets are small. Much bigger files, like the Worldbank data (SGG.00272) can be read in as well.\n",
    "\n",
    "`mydata2` showcases a dataset that consists of different **data types**. The entire data object, saved as the variable `mydata2` is a `data.frame` object. The columns have different data types. In Jupyter Notebooks these are indicated with the `<chr>` and `<int>` descriptions underneath the column names.\n",
    "\n",
    "`<chr>` stands for character, which is simply speaking any kind of text. The character data type - sometimes also called **string** - is non-numeric. We cannot perform numerical operations with it. We can, however, attach it to other characters, e.g. with the `paste()` function.\n"
   ]
  },
  {
   "cell_type": "code",
   "execution_count": null,
   "metadata": {
    "scrolled": true
   },
   "outputs": [],
   "source": [
    "paste('Some text', 'and some more text')"
   ]
  },
  {
   "cell_type": "markdown",
   "metadata": {},
   "source": [
    "The other data type in `mydata2` is **integer** (`<int>`) - whole numbers. Integers can be used in numerical operations. There are more data types like **floating point numbers** `<float>`. Integers and floats (short for floating point numbers) can be used in numerical operations, like addition, subtraction, etc. Integers, unlike floats, are **also used as indices** to get a value at a certain **position**. \n",
    "<br/>\n"
   ]
  },
  {
   "cell_type": "code",
   "execution_count": null,
   "metadata": {},
   "outputs": [],
   "source": [
    "# example numerical operation with an integer and a float\n",
    "# 100 + 10.4\n",
    "\n",
    "# # or\n",
    "# mydata1\n",
    "# mean(mydata1)\n",
    "# mean(c(TRUE,TRUE))\n",
    "\n",
    "TRUE == 1\n",
    "FALSE == 0"
   ]
  },
  {
   "cell_type": "code",
   "execution_count": null,
   "metadata": {},
   "outputs": [],
   "source": [
    "# logical operations with numerics and characters\n",
    "5 == 5\n",
    "'acd' == 'acd'  # works also for characters\n",
    "\n",
    "5 > 5\n",
    "# 'Apple' > 'Pear' - NO, do not do that !!!!\n"
   ]
  },
  {
   "cell_type": "code",
   "execution_count": null,
   "metadata": {
    "scrolled": true
   },
   "outputs": [],
   "source": [
    "# Object (data) types -  the class() function tells us what data or object type we have\n",
    "class(5)\n",
    "class(mydata1)\n",
    "class(mydata2)\n",
    "class('abc')"
   ]
  },
  {
   "cell_type": "markdown",
   "metadata": {},
   "source": [
    "### Indices\n",
    "\n",
    "The bread and butter of selecting the data that you need. Indices (sgl. index) are the positions (data type `int`) in vectors and data.frames. \n",
    "- In **1D** (e.g. vectors) objects, we need **1 index**, and \n",
    "- in **2D** (e.g. data.frame, image) we need **2 indices** to select data."
   ]
  },
  {
   "cell_type": "code",
   "execution_count": null,
   "metadata": {
    "scrolled": true
   },
   "outputs": [],
   "source": [
    "# example of using an integer as index in a 1D object\n",
    "mydata1\n",
    "mydata1[2]"
   ]
  },
  {
   "cell_type": "code",
   "execution_count": null,
   "metadata": {
    "scrolled": true
   },
   "outputs": [],
   "source": [
    "# example of using integers as indices in 2 dimensions\n",
    "# mydata2\n",
    "\n",
    "mydata2[3,1]  # 3rd row, 1st column"
   ]
  },
  {
   "cell_type": "markdown",
   "metadata": {},
   "source": [
    "#### Data selection with integers\n",
    "Finding indices is very important. We need these to create subsets (data we are interested in), like the movies that are good for traveling, or if we want to inspect data of a country but the original file has data for many countries.\n",
    "\n",
    "Two steps are required: \n",
    "1. a **logical** operation, like comparing a character string (\"Travel\") or numerical value (snow height > 20 cm) with the entries of the dataset that contains the relevant information (e.g. column \"Mood\" for the movies, or a dataset with multiple snow heights).\n",
    "2. Identify **where** the logical expression is TRUE.\n",
    "\n",
    "Step 1 gives TRUE and FALSE value. Step 2 only gives back the position, where step 1 yields TRUE.\n",
    "\n",
    "- `>=`, `==`, etc. - Step 1\n",
    "- `which()` - Step 2\n"
   ]
  },
  {
   "cell_type": "code",
   "execution_count": null,
   "metadata": {
    "scrolled": true
   },
   "outputs": [],
   "source": [
    "mydata2$Mood[5] = NA\n",
    "\n",
    "# mydata2$Mood == 'Travel'\n",
    "which(mydata2$Mood == 'Travel')"
   ]
  },
  {
   "cell_type": "markdown",
   "metadata": {},
   "source": [
    "<font color=green> There are several examples on indices in the `R` script. Try to understand the different ways on how to use indices and why it matters. </font>\n",
    "***"
   ]
  },
  {
   "cell_type": "markdown",
   "metadata": {},
   "source": [
    "## Plotting\n",
    "\n",
    "`R` can produce very high quality figures. These can be saved in PDF and other formats.  Some different kind of plots are available. To create plots, one of the following functions is needed to start with:\n",
    "- `plot()` - the most generic way to plot\n",
    "- `barplot()` - barplots to show e.g. quantities of categories\n",
    "- `hist()` - a plot for histograms and densities\n",
    "- `boxplot()` - calculates the quartiles (box), 1.5* InterQaurtileRange(IQR), and points outside the 1.5\\*IQR and plots the results\n",
    "\n",
    "\n",
    "### The anatomy of a figure \n",
    "> Repetition from QM I, Lecture 5\n",
    "\n",
    "The following figure contains most elements of an `R` plot and their names, as well as the functions to decorate it.\n",
    "\n",
    "\n",
    "![figure anatomy](figures/overview_plot_units2.png)\n",
    "\n",
    "*Figure 5: Layout of a plot and naming of central elements*\n",
    "\n",
    "### `plot( )`\n",
    "In Figure 4 several elements are shown that a figure consists of. The training script will showcase the addition of different elements and increasing control over them. The most basic `plot()` function does not need many arguments to be plotted.\n",
    "\n",
    "Here is a list of all the different functions that we can use for plotting together with the most important arguments:\n",
    "\n",
    "- `plot()` - the generic plotting function of `R` for data with cartesian coordinates (x and y)\n",
    "    - Arguments:\n",
    "    - `xlab` - text of the x-axis \n",
    "    - `ylab` - text of the y-axis\n",
    "    - `axes` - plot the axes ? TRUE(standard) or FALSE  \n",
    "    - `ann` - should `xlab` and `ylab` be plotted ? TRUE(standard) or FALSE\n",
    "    - `col` - the color for the points/line\n",
    "    - `type` - shall the data be plotted as points `\"p\"` / lines `\"l\"` /points and line both `\"b\"` / or bars `\"h\"`?\n",
    "    - `xlim` - two values defining from where to where the axis should extend. E.g. xlim=c(0,100) will limit the x-axis to 0 to 100\n",
    "    - `ylim` - two values from where to where the y-axis should extend\n",
    "    - `main` - a title (e.g. main='This is the plot title')\n",
    "- `axis()` - plot an axis\n",
    "    - Arguments:\n",
    "    - `side` - which side shall the axis be plotted; in clock-wise direction (1-bottom, 2-left, 3-top, 4-right)\n",
    "- `par()` - Adjust the figure space, e.g. to create multiple sub-plots, or to plot another dataset with different values on top\n",
    "    - Arguments:\n",
    "    - `mfrow` - split the figure into multiple parts (`n*m` , with n=number of rows, m=number of columns). E.g. mfrow=c(2,3) will give you a total of 6 plotting spaces; 2 rows and 3 columns.\n",
    "    - `new` - tell R that the next plotting command will plot on top of an exisitng plot `par(new=TRUE)`\n",
    "    - `mar` - margins, i.e. the space from the figure border to the actual graph. 4 values (for each side individually must be provided, e.g. `mar=c(5,5,4,5)` are 5 spaces for all but the top margin (=4)\n",
    "- `lines()` - add lines to an existing plot \n",
    "    - Arguments:\n",
    "    - `x` and `y` positions (the same way as in the `plot()` function)\n",
    "    - `lty` - line type - same as for `plot()`, e.g. 1-solid line; 2-dashed line; 3-dotted line\n",
    "    - `col` - color\n",
    "- `points()` - add points to an existing plot \n",
    "    - Arguments:\n",
    "    - `x` and `y` positions (the same way as in the `plot()` and `lines()` functions)\n",
    "    - `pch` - point character type - same as for `plot()`, e.g. 1 to 21 for various shapes\n",
    "    - `col` - color\n",
    "- `mtext()` - adds text to your plot\n",
    "    - Arguments:\n",
    "    - `text` - the text to be plotted\n",
    "    - `side` - which side of the plot (1,2,3,4)\n",
    "    - `line` - how far away from the figure border (positive-further outside; negative-inside the plot)\n",
    "    \n",
    "### Colors\n",
    "This code is a representation of a color as combination of **Red**, **Green**, and **Blue** with values between 0 and 256 for each of the 3 RGB colors (**in hexadecimal: 00 to FF**)\n",
    "- <font color='#FF0000'> red: `#FF0000`</font>\n",
    "- <font color='#AA0000'> darkred: `#AA0000`</font>\n",
    "- <font color='#660000'> darkred2: `#660000`</font>\n",
    "- <font color='#00FF00'> green: `#00FF00`</font>\n",
    "- <font color='#00AA00'> darkgreen: `#00AA00`</font>\n",
    "- <font color='#0000FF'> blue: `#0000FF`</font>\n",
    "- <font color='#00FFFF'> turquoise: `#00FFFF`</font>\n",
    "- <font color='#FFFF00'> yellow: `#FFFF00`</font>\n",
    "- <font color='#FFAA00'> orange: `#FFAA00`</font>\n",
    "- <font color='#FF00FF'> pink: `#FF00FF`</font>\n",
    "- <font color='#000000'> black: `#000000`</font>"
   ]
  },
  {
   "cell_type": "markdown",
   "metadata": {},
   "source": [
    "##### plot( )"
   ]
  },
  {
   "cell_type": "code",
   "execution_count": null,
   "metadata": {},
   "outputs": [],
   "source": [
    "# Example elements of a plot\n",
    "df = data.frame(x = c(3,5,7,9),  \n",
    "                y = c(4,7,6,12)) \n",
    "plot(x = df$x, \n",
    "     y = df$y, \n",
    "     xlab = 'Label of the x-axis',\n",
    "     ylab='Label of the y-axis',\n",
    "     lwd=2,\n",
    "     col='#00FF00',\n",
    "     lty=1,\n",
    "     main='Playing around with plot',\n",
    "     pch=2,\n",
    "     cex=9,    \n",
    "     type = 'p')"
   ]
  },
  {
   "cell_type": "code",
   "execution_count": null,
   "metadata": {},
   "outputs": [],
   "source": [
    "# Example additional elements\n",
    "plot(x = df$x, \n",
    "     y = df$y)\n",
    "lines(x = df$x, \n",
    "      y = df$y + 1, # slightly higher\n",
    "      col='orange',\n",
    "      lwd=5,\n",
    "      lty=3)\n",
    "\n",
    "\n",
    "grid()\n",
    "abline(a=0, b=1, lty=3, col='green', lwd=3)  # with slope and intercept\n",
    "abline(h=10, lty=4, col='pink', lwd=3)  # horizontal fixed\n",
    "abline(v=3, lty=5, col='red', lwd=3)    # vertical fixed\n",
    "legend('bottomleft', \n",
    "       legend=c('original','shifted'),\n",
    "       col=c('black', 'orange'),\n",
    "       pch=c(1, -1),\n",
    "       lty=c(-1, 3),\n",
    "       bg='lightgrey',\n",
    "       lwd=3,\n",
    "       cex=1)"
   ]
  },
  {
   "cell_type": "code",
   "execution_count": null,
   "metadata": {},
   "outputs": [],
   "source": [
    "# Example plot over another plot\n",
    "plot(x = df$x, \n",
    "     y = df$y,\n",
    "     cex=3)\n",
    "par(new=TRUE)\n",
    "plot(x = df$x, \n",
    "     y = df$y + 20000,  # much higher\n",
    "     col='orange',\n",
    "     pch=2, axes=FALSE, ann=FALSE)\n",
    "axis(4, col='orange')      "
   ]
  },
  {
   "cell_type": "markdown",
   "metadata": {},
   "source": [
    "##### hist( )\n",
    "The `hist()` function calculates and plots a histogram from a series of data points. It will divide the data into groups (`bins`,`breaks` - x-axis) and reports the count (number of observations) on the y-axis."
   ]
  },
  {
   "cell_type": "code",
   "execution_count": null,
   "metadata": {},
   "outputs": [],
   "source": [
    "df$y"
   ]
  },
  {
   "cell_type": "code",
   "execution_count": null,
   "metadata": {},
   "outputs": [],
   "source": [
    "hist(df$y,\n",
    "    xlab='The units of our data [?]')"
   ]
  },
  {
   "cell_type": "markdown",
   "metadata": {},
   "source": [
    "##### barplot( )\n",
    "A value (y-axis) for different categories or classes (not following a physically meaningful scale)."
   ]
  },
  {
   "cell_type": "code",
   "execution_count": null,
   "metadata": {},
   "outputs": [],
   "source": [
    "barplot(df$y,\n",
    "       names.arg = c('Class1', 'Class2','Class100','another label'))"
   ]
  },
  {
   "cell_type": "markdown",
   "metadata": {},
   "source": [
    "##### boxplot( )\n",
    "Calculates the data distribution statistics:\n",
    "- 25% of the data\n",
    "- 50% of the data \n",
    "- 75% of the data\n",
    "- Inter Quartile Range (IQR = distance between 75% and 25%) - the \"box\"\n",
    "- 1.5* IQR - the \"whiskers\"\n",
    "- and the points outside the 1.5*IQR"
   ]
  },
  {
   "cell_type": "code",
   "execution_count": null,
   "metadata": {},
   "outputs": [],
   "source": [
    "mydata2$Duration\n",
    "boxplot(mydata2$Duration)"
   ]
  },
  {
   "cell_type": "markdown",
   "metadata": {},
   "source": [
    "###  How to change the appearance?\n",
    "\n",
    "Some things are easy to guess but some are not. Quick check if you know/remember: https://tinyurl.com/3pumejx6\n",
    "\n"
   ]
  },
  {
   "cell_type": "markdown",
   "metadata": {},
   "source": [
    "\n",
    "### Legend\n",
    "As soon as two or more datasets are used in one plot, we should use a legend to show which of the points or lines represent which dataset. The `legend()` function does that for us.\n",
    "It requires the following arguments:\n",
    "- `x` and `y` - x and y positions in the figure (alternatively one of the relative positions \"top\",\"right\",\"bottom\",\"left\", or a combination of these like \"topleft\", \"bottomright\", etc.)\n",
    "- `legend` - a vector of text strings (e.g. `legend=c('dataset 1', 'dataset 2')`)\n",
    "- `pch` - which point character. Either a single value for all the legend entries or as a vector (`pch=c(1,3)` - `-1` if no point shall be plotted)\n",
    "- `lty` - which line type shall be used. Either a single value for all the legend entries or as a vector (`lty=c(1,3)` - `-1` if no line shall be plotted)\n",
    "- `bg` - the background color (e.g. 'white')\n",
    "\n"
   ]
  },
  {
   "cell_type": "markdown",
   "metadata": {},
   "source": [
    "### Plot on top\n",
    "- `par(new=TRUE)` - creates a new plot on top of the existing one (Attention: the value ranges in x and y are NOT the same as before!!!)\n",
    "- `plot(same_x_values, new_y_values)`\n",
    "- `axis(4)` - 4 = right-hand side axis ; side 1 = bottom, side 2 = left, side 3 = top"
   ]
  },
  {
   "cell_type": "markdown",
   "metadata": {},
   "source": [
    "### Saving figures\n",
    "- `pdf(filename)` - arguments on figure output size: `width = 6, height = 5` (units in inches)\n",
    "- `dev.off()` - finishes writing the PDF output\n",
    "     - The output PDF is written in the folder of your noteboook.\n"
   ]
  },
  {
   "cell_type": "markdown",
   "metadata": {},
   "source": [
    "### Output Examples\n",
    "All made only with `R`\n",
    "\n",
    "![showcase](figures/image_example5.png)\n",
    "\n",
    "*Figure 6: plotting examples using only `R`*\n"
   ]
  },
  {
   "cell_type": "markdown",
   "metadata": {},
   "source": [
    "***\n",
    "## Overview of functions used in QM I / Geostatistic\n",
    "\n",
    "- `c()` - creates a vector\n",
    "- `data.frame()` - creates a data frame (like a matrix but can contain different data types)\n",
    "- `length()` - returns the length of a vector or a list\n",
    "- `NROW()` - returns the number of rows of a matrix or data.frame\n",
    "- `NCOL()` - returns the number of columns of a matrix or data.frame\n",
    "- `seq()` - creates a sequence of numbers; if only one argument is given, the sequence will be from 1 to this argument.\n",
    "    - `seq(3)` will return `1,2,3`\n",
    "    - `seq(from=1, to=3)` will also return `1,2,3`\n",
    "    - `seq(from=1, to=3, by=2)` will return `1,3`\n",
    "- `x^n` - taking a value x to the power of n (e.g. `2^3 = 2*2*2`)\n",
    "- `paste()` - combines all arguments into one `character` string \n",
    "- `print()` - prints a **single** `character` string \n",
    "- `return()` - **only** inside your self-written `functions` to give back an object (`character`, `a value`, an enitre `data.frame` )\n",
    "- `for(x in sequence/vector/data.frame){do something}`\n",
    "- `if(TRUE condition){do something}`\n",
    "- `read.table()` - read a text file (**.txt, .csv** files)\n",
    "    - Arguments:\n",
    "    - `file` - the filename with path e.g. \"C:\\\\Downloads\\\\myfile.txt\" or \"/Users/myname/Documents/anotherfile.csv\"\n",
    "    - `sep` - the data seperator, e.g. space (sep=' '), comma (sep=','), or tabstop (sep='\\t')\n",
    "    - `header` - is there a first row that represents the column names? (TRUE-standard/FALSE)\n",
    "    - `na.strings` - the symbols in the dataset to represent missing data. Can be multiple ones, e.g. `na.strings=c(-9999,'NA','*')`\n",
    "    - `check.names` - makes sure there are no strange symbols in the column names. Results, however, also in numeric column names to get a leading X, e.g. 2000 -> `X2000`. `check.names=FALSE` prevents that\n",
    "- `head()` - shows the first few rows of a matrix/data frame\n",
    "- `colnames()` - returns the column names of a data.frame or a matrix\n",
    "- `rownames()` - returns the row names of a data.frame or a matrix\n",
    "\n",
    "- `grepl()` - searches for strings/words in lists/vectors of strings\n",
    "    - Arguments:\n",
    "    - `pattern` - what do we search, e.g. `\"CO2\"`\n",
    "    - `x` - where do we search for, e.g. vector/list of strings/words\n",
    "    - returns TRUE/FALSE if the search found the string or not\n",
    "\n",
    "- `which()` - returns the index/indices of vectors,matrix, data.frames, where a conditional statement is TRUE\n",
    "    - Arguments:\n",
    "    - a test in the form of `x >= 12`. If x is a list/column/row of values, the `which()` function will give back the positions in this list where x is equal or greater than 12\n",
    "\n",
    "***\n",
    "   \n"
   ]
  }
 ],
 "metadata": {
  "kernelspec": {
   "display_name": "Python3",
   "language": "python",
   "name": "python3"
  },
  "language_info": {
   "codemirror_mode": {
    "name": "ipython",
    "version": 3
   },
   "file_extension": ".py",
   "mimetype": "text/x-python",
   "name": "python",
   "nbconvert_exporter": "python",
   "pygments_lexer": "ipython3",
   "version": "3.10.16"
  }
 },
 "nbformat": 4,
 "nbformat_minor": 4
}
