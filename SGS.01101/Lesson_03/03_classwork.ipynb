{
 "cells": [
  {
   "cell_type": "markdown",
   "metadata": {},
   "source": [
    "![title](https://www.dropbox.com/scl/fi/4te3zawuuvrd8g2iv6vmk/Header_SGS.01101_fancy.png?rlkey=eub0vjjwjqitlmxpf73o9c919&dl=1)"
   ]
  },
  {
   "cell_type": "markdown",
   "metadata": {
    "tags": []
   },
   "source": [
    "# Lesson 3 - Python programming"
   ]
  },
  {
   "cell_type": "markdown",
   "metadata": {},
   "source": [
    "## Introduction"
   ]
  },
  {
   "cell_type": "markdown",
   "metadata": {},
   "source": [
    "### Scope\n",
    "\n",
    "The aim of this lecture is to learn basics in programming with the language `Python`. In particular, this notebook will demonstrate:\n",
    "\n",
    "* Basics\n",
    "* Data structures\n",
    "* Indexing/indices\n",
    "* Functions\n",
    "* Control flow statements (loops and logic)\n"
   ]
  },
  {
   "cell_type": "markdown",
   "metadata": {},
   "source": [
    "\n",
    "Python is maybe the most popular open source language in science due to its versatility. Python is a language so there are rules (syntax). Due to the large user pool, there are thousands of pre-made (already programmed by others) modules that allow analysis of various data formats and application of various methods easily.\n",
    "\n",
    "\n",
    "\n",
    "We recall the baseline elements of programming from the previous lecture:\n",
    "\n",
    "* **input:** Get data from the keyboard, a file, or some other device. \n",
    "* **output:** Display data on the screen or send data to a file or other device. \n",
    "* **math:** Perform basic mathematical operations like addition and multiplication.\n",
    "* **conditional execution:** Check for certain conditions and execute the appropriate code. \n",
    "* **repetition:** Perform some action repeatedly, usually with some variation.\n",
    "\n"
   ]
  },
  {
   "cell_type": "markdown",
   "metadata": {},
   "source": [
    "The example from the previous lesson showed this function: `print('Hello World!')`.\n",
    "\n",
    "In one version, you saw a promt in which you entered the message that the `print()` function would `output`. This makes it already two of the elements.\n",
    "- `input`: We gave the `print()` function the input `'Hello World'` or whatever you wrote in the prompt.\n",
    "- `output`: We get the text output `Hello World!`\n",
    "\n",
    "Not so obvious are things that happen invisible for us in the `print()` function. But printing the sentence `'Hello World!'` actually covers **four** elements from the list. The additional two are:\n",
    "- `math`: in the background R takes the input and applies methods to create a string object, and defines how to display it on the screen \n",
    "- `conditional execution`: the print function checks if the input is valid \n",
    "\n",
    "*The `print()` function is actually written in a different programming language and many lines long. Great that someone else did that programming for us already  (╯°□°)╯*\n",
    "\n",
    "***"
   ]
  },
  {
   "cell_type": "markdown",
   "metadata": {},
   "source": [
    "## Basics\n",
    "### Comments"
   ]
  },
  {
   "cell_type": "code",
   "execution_count": 1,
   "metadata": {},
   "outputs": [],
   "source": [
    "# 2+2\n",
    "# This is \"only\" a comment (in fact, it is very useful)\n",
    "# A comment is created by using the \"#\" symbol. Everything after this symbol is not\n",
    "# executed by Python.\n",
    "# You will see no output from this cell ... that's how comments behave"
   ]
  },
  {
   "cell_type": "markdown",
   "metadata": {},
   "source": [
    "### Print Function\n",
    "\n",
    "The **`print()`** function can be used either directly with a string, or with a variable that represents a string:\n"
   ]
  },
  {
   "cell_type": "code",
   "execution_count": 2,
   "metadata": {},
   "outputs": [
    {
     "name": "stdout",
     "output_type": "stream",
     "text": [
      "Hello World\n"
     ]
    }
   ],
   "source": [
    "# directly with a string\n",
    "print(\"Hello World\")"
   ]
  },
  {
   "cell_type": "code",
   "execution_count": 3,
   "metadata": {},
   "outputs": [
    {
     "name": "stdout",
     "output_type": "stream",
     "text": [
      "Hello World\n"
     ]
    }
   ],
   "source": [
    "# with a variable\n",
    "string1=\"Hello World\"\n",
    "print(string1)"
   ]
  },
  {
   "cell_type": "markdown",
   "metadata": {},
   "source": [
    "***\n",
    "### *Exercise 1*\n",
    "Use the `print()` function to:\n",
    "\n",
    "- Print the string `\"My favorite number is:\"` \n",
    "- and in a next line to print your favorite number\n",
    "- Use the `+` function to combine the two (the sentence and the number) in one line, and then `print()` it\n",
    "- The `+` only works if both elements are strings (or numbers); You can use the `str()` function to transform something into a string.\n"
   ]
  },
  {
   "cell_type": "code",
   "execution_count": 4,
   "metadata": {},
   "outputs": [],
   "source": [
    "# write your code here:\n",
    "# - remember the operator to combine strings \"+\"\n",
    "# - remember \"+\" does not work if one element is a number and the other one is a string\n",
    "# - the \"str()\" function transforms any input into a string !\n",
    "\n"
   ]
  },
  {
   "cell_type": "markdown",
   "metadata": {},
   "source": [
    "***"
   ]
  },
  {
   "cell_type": "markdown",
   "metadata": {},
   "source": [
    "### Relational Operators\n",
    "\n",
    "| Symbol | Task Performed |\n",
    "|----|---|\n",
    "| == | True, if it is equal |\n",
    "| !=  | True, if not equal to |\n",
    "| < | less than |\n",
    "| > | greater than |\n",
    "| <=  | less than or equal to |\n",
    "| >=  | greater than or equal to |"
   ]
  },
  {
   "cell_type": "code",
   "execution_count": 5,
   "metadata": {},
   "outputs": [
    {
     "data": {
      "text/plain": [
       "False"
      ]
     },
     "execution_count": 5,
     "metadata": {},
     "output_type": "execute_result"
    }
   ],
   "source": [
    "# What is the first and what is the second line of code doing?\n",
    "z = 10\n",
    "z == 1"
   ]
  },
  {
   "cell_type": "code",
   "execution_count": 6,
   "metadata": {},
   "outputs": [
    {
     "data": {
      "text/plain": [
       "False"
      ]
     },
     "execution_count": 6,
     "metadata": {},
     "output_type": "execute_result"
    }
   ],
   "source": [
    "5>10"
   ]
  },
  {
   "cell_type": "code",
   "execution_count": 7,
   "metadata": {},
   "outputs": [
    {
     "data": {
      "text/plain": [
       "False"
      ]
     },
     "execution_count": 7,
     "metadata": {},
     "output_type": "execute_result"
    }
   ],
   "source": [
    "z==1"
   ]
  },
  {
   "cell_type": "code",
   "execution_count": 8,
   "metadata": {},
   "outputs": [
    {
     "data": {
      "text/plain": [
       "True"
      ]
     },
     "execution_count": 8,
     "metadata": {},
     "output_type": "execute_result"
    }
   ],
   "source": [
    "z!=2"
   ]
  },
  {
   "cell_type": "code",
   "execution_count": 9,
   "metadata": {},
   "outputs": [
    {
     "data": {
      "text/plain": [
       "True"
      ]
     },
     "execution_count": 9,
     "metadata": {},
     "output_type": "execute_result"
    }
   ],
   "source": [
    "z>1"
   ]
  },
  {
   "cell_type": "code",
   "execution_count": 10,
   "metadata": {},
   "outputs": [
    {
     "data": {
      "text/plain": [
       "False"
      ]
     },
     "execution_count": 10,
     "metadata": {},
     "output_type": "execute_result"
    }
   ],
   "source": [
    "z<3"
   ]
  },
  {
   "cell_type": "code",
   "execution_count": 11,
   "metadata": {},
   "outputs": [
    {
     "data": {
      "text/plain": [
       "False"
      ]
     },
     "execution_count": 11,
     "metadata": {},
     "output_type": "execute_result"
    }
   ],
   "source": [
    "5>10"
   ]
  },
  {
   "cell_type": "markdown",
   "metadata": {},
   "source": [
    "## Packages\n",
    "Python is extremely popular because of a large community and their contributions in form of `packages` or `libraries`. A package is a collection of `functions` and `definitions` on how to handle and process data in a specific way. There are basic ones like `numpy` or `math` that provide ways to handle **matrices** and give constants like **pi** and trigonometric functions like **cosinus**. Packages must be installed once before using them (all packages we will use in this course are already installed), and loaded when we want to use them.\n",
    "\n",
    "The cell below shows how a package is loaded. Once loaded, all the functions of that package are available to us. These functions can be accessed through the `namespace` and the `\".\"` symbol; in the example below, `numpy` is the namespace and `array()` is the function of that namespace.\n"
   ]
  },
  {
   "cell_type": "code",
   "execution_count": 12,
   "metadata": {},
   "outputs": [],
   "source": [
    "# Loading the numpy package\n",
    "import numpy"
   ]
  },
  {
   "cell_type": "code",
   "execution_count": 13,
   "metadata": {},
   "outputs": [
    {
     "data": {
      "text/plain": [
       "array([1, 2, 3])"
      ]
     },
     "execution_count": 13,
     "metadata": {},
     "output_type": "execute_result"
    }
   ],
   "source": [
    "numpy.array([1,2,3])"
   ]
  },
  {
   "cell_type": "markdown",
   "metadata": {},
   "source": [
    "### Import \"alias\"\n",
    "\n",
    "Programmers are lazy. Instead of writing a long package name `namespace` over and over again, it is possible to define that a package name should be shortened. For the same example as above, we can instead do an alias load and call the function from this alias."
   ]
  },
  {
   "cell_type": "code",
   "execution_count": 14,
   "metadata": {},
   "outputs": [
    {
     "data": {
      "text/plain": [
       "array([1, 2, 3])"
      ]
     },
     "execution_count": 14,
     "metadata": {},
     "output_type": "execute_result"
    }
   ],
   "source": [
    "import numpy as np\n",
    "np.array([1,2,3])"
   ]
  },
  {
   "cell_type": "markdown",
   "metadata": {},
   "source": [
    "### Namespace \".\"\n",
    "\n",
    "A package contains usually several functions, definitions, and variables. To indicate these belong to a specific package, the `\".\"` visually shows us this connection. A package has a specific name, so within this space -- hence `namespace`-- we find these functions and values. Below you see some examples how different values and functions from the numpy package are called."
   ]
  },
  {
   "cell_type": "code",
   "execution_count": 15,
   "metadata": {},
   "outputs": [
    {
     "data": {
      "text/plain": [
       "3.141592653589793"
      ]
     },
     "execution_count": 15,
     "metadata": {},
     "output_type": "execute_result"
    }
   ],
   "source": [
    "np.pi"
   ]
  },
  {
   "cell_type": "code",
   "execution_count": 16,
   "metadata": {},
   "outputs": [
    {
     "data": {
      "text/plain": [
       "np.float64(-0.9999999999997864)"
      ]
     },
     "execution_count": 16,
     "metadata": {},
     "output_type": "execute_result"
    }
   ],
   "source": [
    "np.cos(3.141592)"
   ]
  },
  {
   "cell_type": "markdown",
   "metadata": {},
   "source": [
    "### Namespace \".\", \".\", ...\n",
    "\n",
    "For some data structures (see below), specific functions become available. For example, a function that would insert a number into a list makes only sense if we have a list! This might lead to seeing multiple dots combined `\".\"`. Here is an example with a list, where we count how many times the value `4` is inside this list."
   ]
  },
  {
   "cell_type": "code",
   "execution_count": 17,
   "metadata": {},
   "outputs": [
    {
     "data": {
      "text/plain": [
       "list"
      ]
     },
     "execution_count": 17,
     "metadata": {},
     "output_type": "execute_result"
    }
   ],
   "source": [
    "a = [4,5,6,4]\n",
    "type(a)"
   ]
  },
  {
   "cell_type": "code",
   "execution_count": 18,
   "metadata": {},
   "outputs": [
    {
     "data": {
      "text/plain": [
       "2"
      ]
     },
     "execution_count": 18,
     "metadata": {},
     "output_type": "execute_result"
    }
   ],
   "source": [
    "a.count(4)"
   ]
  },
  {
   "cell_type": "markdown",
   "metadata": {},
   "source": [
    "## Data Structures\n",
    "In simple terms, it is the collection or group of data in a particular structure. An analogy with food could be that you store milk in a bottle, and biscuits in a box. There are some data structures that are more suitable to store a certain kind of data (milk in a bottle vs. cookies in a carton box).\n",
    "\n",
    "The main data structures in `Python` are:\n",
    "- `lists`: any concatenation of single data entries without otherwise specified structure --> `[]` or `list()`\n",
    "- `array`: similar to lists but strictly numeric data; Used for matrix representation; Normally using the `numpy` package --> `numpy.array([])`(1D), `numpy.array([[],[]])`(2D), ...\n",
    "- `dictionaries`: any data organized with specific `keys` --> `{\"a\":[1,2,3]}` (a list called `a`)\n",
    "- `pandas.DataFrame`: like matrices/tables with headers and option to represent time-series --> `pandas.DataFrame()`\n",
    "\n",
    "`Python` is a real programming language and thus it is sometimes \"picky\", meaning it requires specific data `structures`, and `data types`. You might see errors related to wrong data types and structures. Often you can translate the structure or data type into a different structure or type, e.g. \n",
    "\n",
    "- `list` to `matrix`: `numpy.array(my_list)`\n",
    "- `float` to `string`: `str(my_number)`\n",
    "  \n",
    "\n",
    "### Lists\n",
    "Lists are the most simple form of data structures in `Python`. They are initiated with the `[]` symbols which is the equivalent to writing `list([])`. You can use the `type()` function to find out about the `data structure` or `data type`.\n",
    "\n",
    "\n",
    "Values are included simply by separating them with a comma,\n",
    "e.g.:`[1,2,3,9,10]`"
   ]
  },
  {
   "cell_type": "code",
   "execution_count": 19,
   "metadata": {},
   "outputs": [
    {
     "data": {
      "text/plain": [
       "list"
      ]
     },
     "execution_count": 19,
     "metadata": {},
     "output_type": "execute_result"
    }
   ],
   "source": [
    "var1 = [1,2,4]\n",
    "type(var1)"
   ]
  },
  {
   "cell_type": "code",
   "execution_count": 20,
   "metadata": {},
   "outputs": [
    {
     "data": {
      "text/plain": [
       "True"
      ]
     },
     "execution_count": 20,
     "metadata": {},
     "output_type": "execute_result"
    }
   ],
   "source": [
    "# You can check (True/False) if a variable is of a certain data structure (list, matrix, list,...),\n",
    "# like so:\n",
    "\n",
    "isinstance(var1, list)  \n",
    "# 1. argument is the variable, 2. argument is which structure "
   ]
  },
  {
   "cell_type": "markdown",
   "metadata": {},
   "source": [
    "### Matrix (Arrays)\n",
    "<div>\n",
    "    <img src=\"https://drive.switch.ch/index.php/s/Htjt9X9IBDY8lVo/download\", width='200'>\n",
    "</div>\n",
    "\n",
    "A `matrix` is defined by 2 dimensions. More generally, for any kind of dimension (e.g. a cube), we talk about an `array`. So a matrix is a special case of an array. The 2 dimensions are the rows and columns. \n",
    "\n",
    "Arrays can be of any desired dimension (1D, 2D, 3D, 4D, ...). For arrays we use usually the `numpy` package, which is very efficient for calculations. `numpy` is used in many other packages because of that, like in `pandas`, which we will use mostly during this course."
   ]
  },
  {
   "cell_type": "code",
   "execution_count": 21,
   "metadata": {},
   "outputs": [],
   "source": [
    "import numpy as np"
   ]
  },
  {
   "cell_type": "code",
   "execution_count": 22,
   "metadata": {},
   "outputs": [
    {
     "data": {
      "text/plain": [
       "array([1, 2])"
      ]
     },
     "execution_count": 22,
     "metadata": {},
     "output_type": "execute_result"
    }
   ],
   "source": [
    "# 1D\n",
    "a = np.array([1,2])\n",
    "a"
   ]
  },
  {
   "cell_type": "code",
   "execution_count": 23,
   "metadata": {},
   "outputs": [
    {
     "data": {
      "text/plain": [
       "array([[1, 2],\n",
       "       [3, 4]])"
      ]
     },
     "execution_count": 23,
     "metadata": {},
     "output_type": "execute_result"
    }
   ],
   "source": [
    "# 2D\n",
    "b = np.array([[1,2],[3,4]])\n",
    "b"
   ]
  },
  {
   "cell_type": "markdown",
   "metadata": {},
   "source": [
    "As our two variables `a` and `b` are `numpy.arrays` now, we have access to functions and properties of these **objects**. We can, for example, look at the dimension of the array using their inherent property `shape`."
   ]
  },
  {
   "cell_type": "code",
   "execution_count": 24,
   "metadata": {},
   "outputs": [
    {
     "data": {
      "text/plain": [
       "(2, 2)"
      ]
     },
     "execution_count": 24,
     "metadata": {},
     "output_type": "execute_result"
    }
   ],
   "source": [
    "b.shape\n",
    "# 2 rows, 2 columns"
   ]
  },
  {
   "cell_type": "markdown",
   "metadata": {},
   "source": [
    "### Pandas DataFrame\n",
    "`pandas` is a package that facilitates working with spreadsheet data. It combines reading functions (text, Excel, ...), organizing functions, for example for dates and times, selecting data from querries, and also includes a rich set of plotting functions for visualizing.\n",
    "\n",
    "A `pd` (short for `pandas`) `DataFrame`: \n",
    "- can store `numeric` and `character` data types\n",
    "- can have multiple dimensions like a `matrix`\n",
    "\n",
    "In the cell below, the function `DataFrame()` is used to convert the 2D array `b` into a `DataFrame`.\n"
   ]
  },
  {
   "cell_type": "code",
   "execution_count": 25,
   "metadata": {},
   "outputs": [],
   "source": [
    "import pandas as pd"
   ]
  },
  {
   "cell_type": "code",
   "execution_count": 26,
   "metadata": {},
   "outputs": [
    {
     "data": {
      "text/html": [
       "<div>\n",
       "<style scoped>\n",
       "    .dataframe tbody tr th:only-of-type {\n",
       "        vertical-align: middle;\n",
       "    }\n",
       "\n",
       "    .dataframe tbody tr th {\n",
       "        vertical-align: top;\n",
       "    }\n",
       "\n",
       "    .dataframe thead th {\n",
       "        text-align: right;\n",
       "    }\n",
       "</style>\n",
       "<table border=\"1\" class=\"dataframe\">\n",
       "  <thead>\n",
       "    <tr style=\"text-align: right;\">\n",
       "      <th></th>\n",
       "      <th>0</th>\n",
       "      <th>1</th>\n",
       "    </tr>\n",
       "  </thead>\n",
       "  <tbody>\n",
       "    <tr>\n",
       "      <th>0</th>\n",
       "      <td>1</td>\n",
       "      <td>2</td>\n",
       "    </tr>\n",
       "    <tr>\n",
       "      <th>1</th>\n",
       "      <td>3</td>\n",
       "      <td>4</td>\n",
       "    </tr>\n",
       "  </tbody>\n",
       "</table>\n",
       "</div>"
      ],
      "text/plain": [
       "   0  1\n",
       "0  1  2\n",
       "1  3  4"
      ]
     },
     "execution_count": 26,
     "metadata": {},
     "output_type": "execute_result"
    }
   ],
   "source": [
    "df1 = pd.DataFrame(b)\n",
    "df1"
   ]
  },
  {
   "cell_type": "markdown",
   "metadata": {},
   "source": [
    "Note how the top-row, and the left-hand side row are displayed with **bold numbers**. These are the `DataFrame`-`columns` and `DataFrame`-`index` names.\n",
    "\n",
    "These are properties of the `DataFrame` and so they are accessible with `\".columns\"` and `\".index\"`."
   ]
  },
  {
   "cell_type": "code",
   "execution_count": 27,
   "metadata": {},
   "outputs": [
    {
     "data": {
      "text/plain": [
       "RangeIndex(start=0, stop=2, step=1)"
      ]
     },
     "execution_count": 27,
     "metadata": {},
     "output_type": "execute_result"
    }
   ],
   "source": [
    "df1.columns"
   ]
  },
  {
   "cell_type": "markdown",
   "metadata": {},
   "source": [
    "Since `df1` is now a `pandas` object, we also have many functions available; also accessible using `\".\"`, e.g. the `mean` for each row with `\".mean()\"`. \n",
    "\n",
    "\n",
    "***Note: the functions are called with the `()`, and the properties without ~~`()`~~***. "
   ]
  },
  {
   "cell_type": "code",
   "execution_count": 28,
   "metadata": {},
   "outputs": [
    {
     "data": {
      "text/plain": [
       "0    2.0\n",
       "1    3.0\n",
       "dtype: float64"
      ]
     },
     "execution_count": 28,
     "metadata": {},
     "output_type": "execute_result"
    }
   ],
   "source": [
    "df1.mean()"
   ]
  },
  {
   "cell_type": "markdown",
   "metadata": {},
   "source": [
    "#### Pandas Columns and Index\n",
    "When reading in data from a spreadsheet files, you usually have column names. If you read in time-series you often use the date and time as first information (row names). We can assign column names and row names with the respective properties `.columns` and `.index`.\n"
   ]
  },
  {
   "cell_type": "code",
   "execution_count": 29,
   "metadata": {},
   "outputs": [
    {
     "data": {
      "text/html": [
       "<div>\n",
       "<style scoped>\n",
       "    .dataframe tbody tr th:only-of-type {\n",
       "        vertical-align: middle;\n",
       "    }\n",
       "\n",
       "    .dataframe tbody tr th {\n",
       "        vertical-align: top;\n",
       "    }\n",
       "\n",
       "    .dataframe thead th {\n",
       "        text-align: right;\n",
       "    }\n",
       "</style>\n",
       "<table border=\"1\" class=\"dataframe\">\n",
       "  <thead>\n",
       "    <tr style=\"text-align: right;\">\n",
       "      <th></th>\n",
       "      <th>Column1</th>\n",
       "      <th>Column2</th>\n",
       "    </tr>\n",
       "  </thead>\n",
       "  <tbody>\n",
       "    <tr>\n",
       "      <th>0</th>\n",
       "      <td>1</td>\n",
       "      <td>2</td>\n",
       "    </tr>\n",
       "    <tr>\n",
       "      <th>1</th>\n",
       "      <td>3</td>\n",
       "      <td>4</td>\n",
       "    </tr>\n",
       "  </tbody>\n",
       "</table>\n",
       "</div>"
      ],
      "text/plain": [
       "   Column1  Column2\n",
       "0        1        2\n",
       "1        3        4"
      ]
     },
     "execution_count": 29,
     "metadata": {},
     "output_type": "execute_result"
    }
   ],
   "source": [
    "df1.columns = ['Column1', 'Column2']\n",
    "df1"
   ]
  },
  {
   "cell_type": "code",
   "execution_count": 30,
   "metadata": {},
   "outputs": [
    {
     "data": {
      "text/html": [
       "<div>\n",
       "<style scoped>\n",
       "    .dataframe tbody tr th:only-of-type {\n",
       "        vertical-align: middle;\n",
       "    }\n",
       "\n",
       "    .dataframe tbody tr th {\n",
       "        vertical-align: top;\n",
       "    }\n",
       "\n",
       "    .dataframe thead th {\n",
       "        text-align: right;\n",
       "    }\n",
       "</style>\n",
       "<table border=\"1\" class=\"dataframe\">\n",
       "  <thead>\n",
       "    <tr style=\"text-align: right;\">\n",
       "      <th></th>\n",
       "      <th>Column1</th>\n",
       "      <th>Column2</th>\n",
       "    </tr>\n",
       "  </thead>\n",
       "  <tbody>\n",
       "    <tr>\n",
       "      <th>Row A</th>\n",
       "      <td>1</td>\n",
       "      <td>2</td>\n",
       "    </tr>\n",
       "    <tr>\n",
       "      <th>Row B</th>\n",
       "      <td>3</td>\n",
       "      <td>4</td>\n",
       "    </tr>\n",
       "  </tbody>\n",
       "</table>\n",
       "</div>"
      ],
      "text/plain": [
       "       Column1  Column2\n",
       "Row A        1        2\n",
       "Row B        3        4"
      ]
     },
     "execution_count": 30,
     "metadata": {},
     "output_type": "execute_result"
    }
   ],
   "source": [
    "df1.index = ['Row A', 'Row B']\n",
    "df1"
   ]
  },
  {
   "cell_type": "markdown",
   "metadata": {},
   "source": [
    "<div id=\"Indexing\"/>\n",
    "    \n",
    "## Indexing \n",
    "\n",
    "\n",
    "Indexing refers to finding or accessing the data **at certain positions** in your variables. There are slightly different ways of using indices, depending on the **data structure** (list, array, DataFrame).\n",
    "\n",
    "For multidimensional data (e.g. array, DataFrame), we also need to provide more than one index (**row-index, column-index**).\n",
    "\n",
    "<span style=\"color:red\">\n",
    "    \n",
    "- In `Python`, indexing starts at **0** ! So the first position has the index value 0\n",
    "- Indices are always in brackets `[2]` (3rd value).\n",
    "- To get all positions, we use the `:` symbol --> `[:]`\n",
    "- To count backwards (starting at the end we use minus symbol and start counting at `-1` for the last position) --> `[-1]`\n",
    "- A `:` can also be used to give a range, e.g. index **1 to 3** `[1:4]` -- This might be the most confusing one because we use  `:4`. The example below shows the locations of the indices. It is similar to saying a time like \"from 1 to 4 p.m.\" would be the hours 1 + 2 + 3 but not 4.\n",
    "\n",
    "\n",
    "\n",
    "\n",
    "</span>\n",
    "\n",
    "```\n",
    "Example: [0:3]\n",
    "\n",
    "Index:    0   1   2   3   4   5   6  \n",
    "         | 0 | 1 | 2 | 3 | 4 | 5 |\n",
    "           ^       ^  \n",
    "Start at 1, Stop at 3\n",
    "\n",
    "```"
   ]
  },
  {
   "cell_type": "markdown",
   "metadata": {},
   "source": [
    "### List"
   ]
  },
  {
   "cell_type": "code",
   "execution_count": 40,
   "metadata": {},
   "outputs": [
    {
     "data": {
      "text/plain": [
       "['apple', 'orange', 'carrot', 'potato']"
      ]
     },
     "execution_count": 40,
     "metadata": {},
     "output_type": "execute_result"
    }
   ],
   "source": [
    "# List\n",
    "shopping_list = ['apple', 'orange', 'carrot','potato']\n",
    "shopping_list"
   ]
  },
  {
   "cell_type": "markdown",
   "metadata": {},
   "source": [
    "### Array"
   ]
  },
  {
   "cell_type": "code",
   "execution_count": 32,
   "metadata": {},
   "outputs": [
    {
     "data": {
      "text/plain": [
       "array([[1, 2, 3],\n",
       "       [4, 5, 6]])"
      ]
     },
     "execution_count": 32,
     "metadata": {},
     "output_type": "execute_result"
    }
   ],
   "source": [
    "m2 = np.array([[1,2,3],[4,5,6]])\n",
    "m2"
   ]
  },
  {
   "cell_type": "code",
   "execution_count": 33,
   "metadata": {},
   "outputs": [
    {
     "data": {
      "text/plain": [
       "np.int64(6)"
      ]
     },
     "execution_count": 33,
     "metadata": {},
     "output_type": "execute_result"
    }
   ],
   "source": [
    "m2[1,2]"
   ]
  },
  {
   "cell_type": "markdown",
   "metadata": {},
   "source": [
    "### DataFrame\n",
    "\n",
    "`pandas` DataFrames use the functions `loc` and `iloc` for acces via indices. The `loc` function uses the column and row names, whereas `iloc` uses the position (**i** for index). "
   ]
  },
  {
   "cell_type": "code",
   "execution_count": 34,
   "metadata": {},
   "outputs": [
    {
     "data": {
      "text/html": [
       "<div>\n",
       "<style scoped>\n",
       "    .dataframe tbody tr th:only-of-type {\n",
       "        vertical-align: middle;\n",
       "    }\n",
       "\n",
       "    .dataframe tbody tr th {\n",
       "        vertical-align: top;\n",
       "    }\n",
       "\n",
       "    .dataframe thead th {\n",
       "        text-align: right;\n",
       "    }\n",
       "</style>\n",
       "<table border=\"1\" class=\"dataframe\">\n",
       "  <thead>\n",
       "    <tr style=\"text-align: right;\">\n",
       "      <th></th>\n",
       "      <th>Column1</th>\n",
       "      <th>Column2</th>\n",
       "      <th>Column3</th>\n",
       "    </tr>\n",
       "  </thead>\n",
       "  <tbody>\n",
       "    <tr>\n",
       "      <th>A</th>\n",
       "      <td>1</td>\n",
       "      <td>2</td>\n",
       "      <td>3</td>\n",
       "    </tr>\n",
       "    <tr>\n",
       "      <th>B</th>\n",
       "      <td>4</td>\n",
       "      <td>5</td>\n",
       "      <td>6</td>\n",
       "    </tr>\n",
       "  </tbody>\n",
       "</table>\n",
       "</div>"
      ],
      "text/plain": [
       "   Column1  Column2  Column3\n",
       "A        1        2        3\n",
       "B        4        5        6"
      ]
     },
     "execution_count": 34,
     "metadata": {},
     "output_type": "execute_result"
    }
   ],
   "source": [
    "df2 = pd.DataFrame(m2)\n",
    "\n",
    "# Assigning names to columns and rows\n",
    "df2.columns = ['Column1', 'Column2', 'Column3']\n",
    "df2.index = ['A', 'B']\n",
    "df2"
   ]
  },
  {
   "cell_type": "markdown",
   "metadata": {},
   "source": [
    "#### Using '.loc[row_name][col_name]'\n",
    "The `.loc` function takes for a 2D DataFrame 2 arguments in the form: `df.loc[in,jn]`, where `in` is the row `name`, and `jn` the column `name`."
   ]
  },
  {
   "cell_type": "code",
   "execution_count": 35,
   "metadata": {},
   "outputs": [
    {
     "data": {
      "text/plain": [
       "np.int64(2)"
      ]
     },
     "execution_count": 35,
     "metadata": {},
     "output_type": "execute_result"
    }
   ],
   "source": [
    "df2.loc[\"A\",\"Column2\"]"
   ]
  },
  {
   "cell_type": "code",
   "execution_count": 36,
   "metadata": {},
   "outputs": [
    {
     "data": {
      "text/plain": [
       "np.int64(5)"
      ]
     },
     "execution_count": 36,
     "metadata": {},
     "output_type": "execute_result"
    }
   ],
   "source": [
    "df2.loc[\"B\",\"Column2\"]"
   ]
  },
  {
   "cell_type": "markdown",
   "metadata": {},
   "source": [
    "#### Using '.iloc[row_index][col_index]'\n",
    "The `.iloc` function takes for a 2D DataFrame 2 arguments in the form: `df.iloc[i,j]`, where `i` is the row `index`, and `j` is the column `index`."
   ]
  },
  {
   "cell_type": "code",
   "execution_count": 37,
   "metadata": {},
   "outputs": [
    {
     "data": {
      "text/plain": [
       "np.int64(2)"
      ]
     },
     "execution_count": 37,
     "metadata": {},
     "output_type": "execute_result"
    }
   ],
   "source": [
    "df2.iloc[0,1]  # same as df2.loc['A','Column2']"
   ]
  },
  {
   "cell_type": "code",
   "execution_count": 38,
   "metadata": {},
   "outputs": [
    {
     "data": {
      "text/plain": [
       "np.int64(5)"
      ]
     },
     "execution_count": 38,
     "metadata": {},
     "output_type": "execute_result"
    }
   ],
   "source": [
    "df2.iloc[1,1]  # same as df2.loc[\"B\",\"Column2\"]"
   ]
  },
  {
   "cell_type": "markdown",
   "metadata": {},
   "source": [
    "***\n",
    "### *Exercise 2*\n",
    "\n",
    "Use indexing to get the data stored in \n",
    "- the **2**nd position in the list `var1`\n",
    "- the **3**rd position of the `shopping_list`\n",
    "- the **1**st row, **3**rd column of the data frame `df2`"
   ]
  },
  {
   "cell_type": "code",
   "execution_count": 39,
   "metadata": {},
   "outputs": [
    {
     "ename": "SyntaxError",
     "evalue": "invalid syntax (402574901.py, line 1)",
     "output_type": "error",
     "traceback": [
      "\u001b[0;36m  Cell \u001b[0;32mIn[39], line 1\u001b[0;36m\u001b[0m\n\u001b[0;31m    var1[?]\u001b[0m\n\u001b[0m         ^\u001b[0m\n\u001b[0;31mSyntaxError\u001b[0m\u001b[0;31m:\u001b[0m invalid syntax\n"
     ]
    }
   ],
   "source": [
    "var1[?]"
   ]
  },
  {
   "cell_type": "code",
   "execution_count": null,
   "metadata": {},
   "outputs": [],
   "source": [
    "shopping_list[?]"
   ]
  },
  {
   "cell_type": "code",
   "execution_count": null,
   "metadata": {},
   "outputs": [],
   "source": [
    "df2[?,?]"
   ]
  },
  {
   "cell_type": "markdown",
   "metadata": {},
   "source": [
    "***"
   ]
  },
  {
   "cell_type": "markdown",
   "metadata": {},
   "source": [
    "<font color=blue> $\\Rightarrow$ Indices can be used to **assess** OR to **assign** data</font>"
   ]
  },
  {
   "cell_type": "code",
   "execution_count": null,
   "metadata": {},
   "outputs": [],
   "source": [
    "# write your code here:\n",
    "var1[1] = \"Eric\"\n",
    "var1"
   ]
  },
  {
   "cell_type": "code",
   "execution_count": null,
   "metadata": {},
   "outputs": [],
   "source": [
    "shopping_list[2] = 'Eric'\n",
    "shopping_list"
   ]
  },
  {
   "cell_type": "code",
   "execution_count": 41,
   "metadata": {},
   "outputs": [
    {
     "name": "stderr",
     "output_type": "stream",
     "text": [
      "/tmp/ipykernel_20620/1382737659.py:1: FutureWarning: Setting an item of incompatible dtype is deprecated and will raise an error in a future version of pandas. Value 'Eric' has dtype incompatible with int64, please explicitly cast to a compatible dtype first.\n",
      "  df2.iloc[0,2] = 'Eric'\n"
     ]
    },
    {
     "data": {
      "text/html": [
       "<div>\n",
       "<style scoped>\n",
       "    .dataframe tbody tr th:only-of-type {\n",
       "        vertical-align: middle;\n",
       "    }\n",
       "\n",
       "    .dataframe tbody tr th {\n",
       "        vertical-align: top;\n",
       "    }\n",
       "\n",
       "    .dataframe thead th {\n",
       "        text-align: right;\n",
       "    }\n",
       "</style>\n",
       "<table border=\"1\" class=\"dataframe\">\n",
       "  <thead>\n",
       "    <tr style=\"text-align: right;\">\n",
       "      <th></th>\n",
       "      <th>Column1</th>\n",
       "      <th>Column2</th>\n",
       "      <th>Column3</th>\n",
       "    </tr>\n",
       "  </thead>\n",
       "  <tbody>\n",
       "    <tr>\n",
       "      <th>A</th>\n",
       "      <td>1</td>\n",
       "      <td>2</td>\n",
       "      <td>Eric</td>\n",
       "    </tr>\n",
       "    <tr>\n",
       "      <th>B</th>\n",
       "      <td>4</td>\n",
       "      <td>5</td>\n",
       "      <td>6</td>\n",
       "    </tr>\n",
       "  </tbody>\n",
       "</table>\n",
       "</div>"
      ],
      "text/plain": [
       "   Column1  Column2 Column3\n",
       "A        1        2    Eric\n",
       "B        4        5       6"
      ]
     },
     "execution_count": 41,
     "metadata": {},
     "output_type": "execute_result"
    }
   ],
   "source": [
    "df2.iloc[0,2] = 'Eric'\n",
    "df2"
   ]
  },
  {
   "cell_type": "markdown",
   "metadata": {},
   "source": [
    "***\n",
    "## Indexing multiple items\n",
    "With the above methods, we can get always **1** item only. In the following you see how to get multiple items from the data structures in`Python`.\n",
    "\n",
    "- You can use a **sequence** (of indices) for this, or a **start** and **end+1** index.\n",
    "- Think of the **slicing** as using the values `x`+`n`, as in `a[x:x+n]`\n",
    "    - if `x` is for example `2`, and `n` is the number of values you want to have (e.g. `2`), this gives:\n",
    "        - `a[2:2+2]` or `a[2:4]`\n",
    "\n",
    "Remember the way indices are located ([Section \"Indexing\"](#Indexing)). We require for the end index to increase its number by `+1`. Check out the examples below.\n",
    "\n",
    "\n",
    "### List\n"
   ]
  },
  {
   "cell_type": "code",
   "execution_count": 48,
   "metadata": {},
   "outputs": [
    {
     "data": {
      "text/plain": [
       "[1, 2, 7, 8]"
      ]
     },
     "execution_count": 48,
     "metadata": {},
     "output_type": "execute_result"
    }
   ],
   "source": [
    "var1 = [1,2,7,8]\n",
    "var1"
   ]
  },
  {
   "cell_type": "code",
   "execution_count": 50,
   "metadata": {},
   "outputs": [
    {
     "data": {
      "text/plain": [
       "[2, 7]"
      ]
     },
     "execution_count": 50,
     "metadata": {},
     "output_type": "execute_result"
    }
   ],
   "source": [
    "var1[1:3] "
   ]
  },
  {
   "cell_type": "code",
   "execution_count": 51,
   "metadata": {},
   "outputs": [
    {
     "data": {
      "text/plain": [
       "['apple', 'orange', 'carrot', 'potato']"
      ]
     },
     "execution_count": 51,
     "metadata": {},
     "output_type": "execute_result"
    }
   ],
   "source": [
    "shopping_list"
   ]
  },
  {
   "cell_type": "code",
   "execution_count": 52,
   "metadata": {},
   "outputs": [
    {
     "data": {
      "text/plain": [
       "['orange', 'carrot']"
      ]
     },
     "execution_count": 52,
     "metadata": {},
     "output_type": "execute_result"
    }
   ],
   "source": [
    "shopping_list[1:1+2]"
   ]
  },
  {
   "cell_type": "markdown",
   "metadata": {},
   "source": [
    "### Array"
   ]
  },
  {
   "cell_type": "code",
   "execution_count": 53,
   "metadata": {},
   "outputs": [
    {
     "data": {
      "text/plain": [
       "array([[2],\n",
       "       [5]])"
      ]
     },
     "execution_count": 53,
     "metadata": {},
     "output_type": "execute_result"
    }
   ],
   "source": [
    "m2[0:3,1:2]  # the first part (0:3) means from row 0 to 2, and the second part (1:2) means from column 1 to 1="
   ]
  },
  {
   "cell_type": "markdown",
   "metadata": {},
   "source": [
    "### DataFrame"
   ]
  },
  {
   "cell_type": "code",
   "execution_count": 68,
   "metadata": {},
   "outputs": [
    {
     "data": {
      "text/html": [
       "<div>\n",
       "<style scoped>\n",
       "    .dataframe tbody tr th:only-of-type {\n",
       "        vertical-align: middle;\n",
       "    }\n",
       "\n",
       "    .dataframe tbody tr th {\n",
       "        vertical-align: top;\n",
       "    }\n",
       "\n",
       "    .dataframe thead th {\n",
       "        text-align: right;\n",
       "    }\n",
       "</style>\n",
       "<table border=\"1\" class=\"dataframe\">\n",
       "  <thead>\n",
       "    <tr style=\"text-align: right;\">\n",
       "      <th></th>\n",
       "      <th>Column2</th>\n",
       "      <th>Column3</th>\n",
       "    </tr>\n",
       "  </thead>\n",
       "  <tbody>\n",
       "    <tr>\n",
       "      <th>A</th>\n",
       "      <td>2</td>\n",
       "      <td>Eric</td>\n",
       "    </tr>\n",
       "    <tr>\n",
       "      <th>B</th>\n",
       "      <td>5</td>\n",
       "      <td>6</td>\n",
       "    </tr>\n",
       "  </tbody>\n",
       "</table>\n",
       "</div>"
      ],
      "text/plain": [
       "   Column2 Column3\n",
       "A        2    Eric\n",
       "B        5       6"
      ]
     },
     "execution_count": 68,
     "metadata": {},
     "output_type": "execute_result"
    }
   ],
   "source": [
    "df2.iloc[0:2,1:3]"
   ]
  },
  {
   "cell_type": "code",
   "execution_count": 71,
   "metadata": {},
   "outputs": [
    {
     "data": {
      "text/plain": [
       "Column1       1\n",
       "Column2       2\n",
       "Column3    Eric\n",
       "Name: A, dtype: object"
      ]
     },
     "execution_count": 71,
     "metadata": {},
     "output_type": "execute_result"
    }
   ],
   "source": [
    "df2.iloc[0,:]"
   ]
  },
  {
   "cell_type": "markdown",
   "metadata": {},
   "source": [
    "<font color=blue>$\\Rightarrow$A sequence of indices using an additional `list` </font><br>\n",
    "***Note: Here we do not have a slice but two single indices (0 and 2)***"
   ]
  },
  {
   "cell_type": "code",
   "execution_count": 75,
   "metadata": {},
   "outputs": [
    {
     "data": {
      "text/html": [
       "<div>\n",
       "<style scoped>\n",
       "    .dataframe tbody tr th:only-of-type {\n",
       "        vertical-align: middle;\n",
       "    }\n",
       "\n",
       "    .dataframe tbody tr th {\n",
       "        vertical-align: top;\n",
       "    }\n",
       "\n",
       "    .dataframe thead th {\n",
       "        text-align: right;\n",
       "    }\n",
       "</style>\n",
       "<table border=\"1\" class=\"dataframe\">\n",
       "  <thead>\n",
       "    <tr style=\"text-align: right;\">\n",
       "      <th></th>\n",
       "      <th>Column1</th>\n",
       "      <th>Column3</th>\n",
       "    </tr>\n",
       "  </thead>\n",
       "  <tbody>\n",
       "    <tr>\n",
       "      <th>A</th>\n",
       "      <td>1</td>\n",
       "      <td>Eric</td>\n",
       "    </tr>\n",
       "    <tr>\n",
       "      <th>B</th>\n",
       "      <td>4</td>\n",
       "      <td>6</td>\n",
       "    </tr>\n",
       "  </tbody>\n",
       "</table>\n",
       "</div>"
      ],
      "text/plain": [
       "   Column1 Column3\n",
       "A        1    Eric\n",
       "B        4       6"
      ]
     },
     "execution_count": 75,
     "metadata": {},
     "output_type": "execute_result"
    }
   ],
   "source": [
    "index_vector = [0,2]\n",
    "df2.iloc[: ,index_vector]"
   ]
  },
  {
   "cell_type": "markdown",
   "metadata": {},
   "source": [
    "***\n",
    "### *Exercise 3*\n",
    "Below you see the DataFrame called `df3`. \n",
    "You can actually use the indices even more flexibly. Instead of writing `df3.iloc[:,:]`, we will now use :\n",
    "- `df3.iloc[start:stop:increment, start:stop:increment]`\n",
    "  \n",
    "You have one example where the rows C and E are extracted. Try to reverse the order by choosing:\n",
    "- a negative increment (e.g. `ii = -1`. You need to adjust start and end accordingly (you start at the back and go towards the front!\n",
    "- How can you get a subset of df3 with rows (F,E,D) and columns (6,5,4) (both reversed)?"
   ]
  },
  {
   "cell_type": "code",
   "execution_count": 127,
   "metadata": {},
   "outputs": [
    {
     "data": {
      "text/html": [
       "<div>\n",
       "<style scoped>\n",
       "    .dataframe tbody tr th:only-of-type {\n",
       "        vertical-align: middle;\n",
       "    }\n",
       "\n",
       "    .dataframe tbody tr th {\n",
       "        vertical-align: top;\n",
       "    }\n",
       "\n",
       "    .dataframe thead th {\n",
       "        text-align: right;\n",
       "    }\n",
       "</style>\n",
       "<table border=\"1\" class=\"dataframe\">\n",
       "  <thead>\n",
       "    <tr style=\"text-align: right;\">\n",
       "      <th></th>\n",
       "      <th>Column 1</th>\n",
       "      <th>Column 2</th>\n",
       "      <th>Column 3</th>\n",
       "      <th>Column 4</th>\n",
       "      <th>Column 5</th>\n",
       "      <th>Column 6</th>\n",
       "      <th>Column 7</th>\n",
       "    </tr>\n",
       "  </thead>\n",
       "  <tbody>\n",
       "    <tr>\n",
       "      <th>A</th>\n",
       "      <td>1</td>\n",
       "      <td>7</td>\n",
       "      <td>13</td>\n",
       "      <td>19</td>\n",
       "      <td>25</td>\n",
       "      <td>31</td>\n",
       "      <td>37</td>\n",
       "    </tr>\n",
       "    <tr>\n",
       "      <th>B</th>\n",
       "      <td>2</td>\n",
       "      <td>8</td>\n",
       "      <td>14</td>\n",
       "      <td>20</td>\n",
       "      <td>26</td>\n",
       "      <td>32</td>\n",
       "      <td>38</td>\n",
       "    </tr>\n",
       "    <tr>\n",
       "      <th>C</th>\n",
       "      <td>3</td>\n",
       "      <td>9</td>\n",
       "      <td>15</td>\n",
       "      <td>21</td>\n",
       "      <td>27</td>\n",
       "      <td>33</td>\n",
       "      <td>39</td>\n",
       "    </tr>\n",
       "    <tr>\n",
       "      <th>D</th>\n",
       "      <td>4</td>\n",
       "      <td>10</td>\n",
       "      <td>16</td>\n",
       "      <td>22</td>\n",
       "      <td>28</td>\n",
       "      <td>34</td>\n",
       "      <td>40</td>\n",
       "    </tr>\n",
       "    <tr>\n",
       "      <th>E</th>\n",
       "      <td>5</td>\n",
       "      <td>11</td>\n",
       "      <td>17</td>\n",
       "      <td>23</td>\n",
       "      <td>29</td>\n",
       "      <td>35</td>\n",
       "      <td>41</td>\n",
       "    </tr>\n",
       "    <tr>\n",
       "      <th>F</th>\n",
       "      <td>6</td>\n",
       "      <td>12</td>\n",
       "      <td>18</td>\n",
       "      <td>24</td>\n",
       "      <td>30</td>\n",
       "      <td>36</td>\n",
       "      <td>42</td>\n",
       "    </tr>\n",
       "  </tbody>\n",
       "</table>\n",
       "</div>"
      ],
      "text/plain": [
       "   Column 1  Column 2  Column 3  Column 4  Column 5  Column 6  Column 7\n",
       "A         1         7        13        19        25        31        37\n",
       "B         2         8        14        20        26        32        38\n",
       "C         3         9        15        21        27        33        39\n",
       "D         4        10        16        22        28        34        40\n",
       "E         5        11        17        23        29        35        41\n",
       "F         6        12        18        24        30        36        42"
      ]
     },
     "execution_count": 127,
     "metadata": {},
     "output_type": "execute_result"
    }
   ],
   "source": [
    "data = np.arange(1, 43).reshape(6, 7, order='F')\n",
    "df3 = pd.DataFrame(data,\n",
    "                  columns=['Column 1', 'Column 2', 'Column 3', 'Column 4', 'Column 5', 'Column 6', 'Column 7'],\n",
    "                  index=['A','B','C','D','E','F'])\n",
    "df3"
   ]
  },
  {
   "cell_type": "code",
   "execution_count": 133,
   "metadata": {},
   "outputs": [
    {
     "data": {
      "text/html": [
       "<div>\n",
       "<style scoped>\n",
       "    .dataframe tbody tr th:only-of-type {\n",
       "        vertical-align: middle;\n",
       "    }\n",
       "\n",
       "    .dataframe tbody tr th {\n",
       "        vertical-align: top;\n",
       "    }\n",
       "\n",
       "    .dataframe thead th {\n",
       "        text-align: right;\n",
       "    }\n",
       "</style>\n",
       "<table border=\"1\" class=\"dataframe\">\n",
       "  <thead>\n",
       "    <tr style=\"text-align: right;\">\n",
       "      <th></th>\n",
       "      <th>Column 1</th>\n",
       "      <th>Column 2</th>\n",
       "      <th>Column 3</th>\n",
       "      <th>Column 4</th>\n",
       "      <th>Column 5</th>\n",
       "      <th>Column 6</th>\n",
       "      <th>Column 7</th>\n",
       "    </tr>\n",
       "  </thead>\n",
       "  <tbody>\n",
       "    <tr>\n",
       "      <th>C</th>\n",
       "      <td>3</td>\n",
       "      <td>9</td>\n",
       "      <td>15</td>\n",
       "      <td>21</td>\n",
       "      <td>27</td>\n",
       "      <td>33</td>\n",
       "      <td>39</td>\n",
       "    </tr>\n",
       "    <tr>\n",
       "      <th>E</th>\n",
       "      <td>5</td>\n",
       "      <td>11</td>\n",
       "      <td>17</td>\n",
       "      <td>23</td>\n",
       "      <td>29</td>\n",
       "      <td>35</td>\n",
       "      <td>41</td>\n",
       "    </tr>\n",
       "  </tbody>\n",
       "</table>\n",
       "</div>"
      ],
      "text/plain": [
       "   Column 1  Column 2  Column 3  Column 4  Column 5  Column 6  Column 7\n",
       "C         3         9        15        21        27        33        39\n",
       "E         5        11        17        23        29        35        41"
      ]
     },
     "execution_count": 133,
     "metadata": {},
     "output_type": "execute_result"
    }
   ],
   "source": [
    "i0 = 2  # start row index\n",
    "i1 = 5  # end row index\n",
    "ii = 2  # increment (e.g. jump 2 instead of 1 row)\n",
    "# 2:5:2 -> From 2 to 5 by steps of 2. This yields: row3(i=2), row5(i=4)\n",
    "df3.iloc[i0:i1:ii,:]"
   ]
  },
  {
   "cell_type": "markdown",
   "metadata": {},
   "source": [
    "***"
   ]
  },
  {
   "cell_type": "markdown",
   "metadata": {},
   "source": [
    "## Functions\n",
    "\n",
    "We have already used several functions. You can identify them easily in `Python` because they always require **parenthesis**:\n",
    "- `print()` to print\n",
    "- `pd.DataFrame()` to make a DataFrame\n",
    "- ...\n",
    "\n",
    "You have also seen already that we can provide `arguments` to functions:\n",
    "- `pd.DataFrame(data=, columns=)`\n",
    "- You can find out about the arguments in the `help()` description - see below.\n",
    "- Alternatively you can turn on \"Contextual Help\" --> Menu --> Help --> Contextual Help"
   ]
  },
  {
   "cell_type": "code",
   "execution_count": 140,
   "metadata": {},
   "outputs": [],
   "source": [
    "# Try pressing the [Tab] key inside the parenthesis!\n",
    "# help(pd.DataFrame())\n"
   ]
  },
  {
   "cell_type": "markdown",
   "metadata": {},
   "source": [
    "### Defining a new function\n",
    "Below are examples of self-made functions.\n",
    "\n",
    "The most simple function:"
   ]
  },
  {
   "cell_type": "code",
   "execution_count": 145,
   "metadata": {},
   "outputs": [],
   "source": [
    "def thesimplestfunction():\n",
    "    # here could be an operation\n",
    "    # but this is a very simple function that does absolutely nothing\n",
    "    return \n"
   ]
  },
  {
   "cell_type": "markdown",
   "metadata": {},
   "source": [
    "### Using (calling) the function\n",
    "We execute or \"call\" the function the same way, we did with the other ones before"
   ]
  },
  {
   "cell_type": "code",
   "execution_count": 146,
   "metadata": {},
   "outputs": [],
   "source": [
    "thesimplestfunction()"
   ]
  },
  {
   "cell_type": "markdown",
   "metadata": {},
   "source": [
    "<font color=blue>$\\Rightarrow$But the real reasons to use our own functions are to do `math`, `conditional execution`, and `repetition`</font>"
   ]
  },
  {
   "cell_type": "code",
   "execution_count": 150,
   "metadata": {},
   "outputs": [],
   "source": [
    "def greet(name):\n",
    "    #This function greets a person, whose name is passed in as an argument\n",
    "    text_string = \"Hello, \" + name + \". Good morning!\"\n",
    "    print(text_string)\n"
   ]
  },
  {
   "cell_type": "code",
   "execution_count": 151,
   "metadata": {},
   "outputs": [
    {
     "name": "stdout",
     "output_type": "stream",
     "text": [
      "Hello, Nicolas. Good morning!\n"
     ]
    }
   ],
   "source": [
    "greet('Nicolas')"
   ]
  },
  {
   "cell_type": "markdown",
   "metadata": {},
   "source": [
    "***\n",
    "### *Exercise 4*\n",
    "- Change the `greet` function into a function that prints your age (copy & paste is your friend!)"
   ]
  },
  {
   "cell_type": "code",
   "execution_count": null,
   "metadata": {},
   "outputs": [],
   "source": [
    "# write your code here\n"
   ]
  },
  {
   "cell_type": "markdown",
   "metadata": {},
   "source": [
    "***"
   ]
  },
  {
   "cell_type": "markdown",
   "metadata": {},
   "source": [
    "### Pandas - Some more useful functions \n",
    "As said before, we will mainly work with `pandas.DataFrame` and there are several built-in functions available.\n",
    "\n",
    "There are plenty related to statistics:\n",
    "- mean()\n",
    "- max()\n",
    "- min()\n",
    "- std()\n",
    "- median()\n",
    "\n",
    "When you use e.g. the `.mean()` you will receive the mean values **for each column**. Why is that? The `.mean()` function has an `argument` (additional information on how to execute the function) that is called `axis=`. The default is `axis=0` (which is the `index` / y-direction).\n",
    "\n",
    "Look in the example below and:\n",
    "- Add the argument `axis=0` in the function (df3.mean(axis=0)). Does this change the result?\n",
    "- Change the argument value of axis to 1.\n",
    "- What happens if you change the value to `None`?"
   ]
  },
  {
   "cell_type": "code",
   "execution_count": 161,
   "metadata": {},
   "outputs": [
    {
     "data": {
      "text/plain": [
       "Column 1     3.5\n",
       "Column 2     9.5\n",
       "Column 3    15.5\n",
       "Column 4    21.5\n",
       "Column 5    27.5\n",
       "Column 6    33.5\n",
       "Column 7    39.5\n",
       "dtype: float64"
      ]
     },
     "execution_count": 161,
     "metadata": {},
     "output_type": "execute_result"
    }
   ],
   "source": [
    "df3.mean()"
   ]
  },
  {
   "cell_type": "markdown",
   "metadata": {},
   "source": [
    "***\n",
    "## Control Flow Statements\n",
    "Often we need to control how our program executes a task, to include `conditional` information, or simply to prevent our model from crashing. \n",
    "\n",
    "\n",
    "- A navigation app will suggest the route ***`for`*** which the travel time will be the shortest\n",
    "\n",
    "- The app should take a different route ***`if`*** there is a traffic jam on the shortest route, and use a different combination of possible paths ***`if`*** we are on foot, or ***`if`*** we are going by car. \n",
    "\n",
    "- And ***`while`*** we are driving, the app should still check if the jam persists or dissolves, so we can reevaluate if we should go back to the old route\n",
    "\n"
   ]
  },
  {
   "cell_type": "markdown",
   "metadata": {},
   "source": [
    "![Gmap.png](https://www.dropbox.com/scl/fi/eyqvxydf118jyrhdz9b8l/01101_L3_gmap.jpg?rlkey=3yajszof5wy7t9kh8nyb448nu&dl=1)\n",
    "\n",
    "*Figure 1: Control flow in navigation example. Depending on transport means, here by foot (left) or by car (right), and depending on traffic situation, a different route is the fastest.*"
   ]
  },
  {
   "cell_type": "markdown",
   "metadata": {},
   "source": [
    "Control flow statements are created similar to a function\n",
    "```\n",
    "if(value1 conditional value2){\n",
    "        # then some operation\n",
    "}\n",
    "```\n",
    "\n"
   ]
  },
  {
   "cell_type": "markdown",
   "metadata": {},
   "source": [
    "### If and Else Statements\n",
    "    \n",
    "#### if\n",
    "- check if something is True \n",
    "    - if it is True --> do it\n",
    "    - if it is not True (False) --> don't do it\n",
    " "
   ]
  },
  {
   "cell_type": "markdown",
   "metadata": {},
   "source": [
    "Notice that the conditional statement is within the `parenthesis` (`( )`), and what shall be done is within the `swirly brackets` (`{ }`)"
   ]
  },
  {
   "cell_type": "code",
   "execution_count": null,
   "metadata": {},
   "outputs": [],
   "source": [
    "num = 3\n",
    "if(num <= 30){\n",
    "    print(\"The value of the variable 'num' is smaller or equal to 30 (TRUE)\")\n",
    "    }"
   ]
  },
  {
   "cell_type": "code",
   "execution_count": null,
   "metadata": {},
   "outputs": [],
   "source": [
    "# Nothing is outputted because num > 10 is FALSE\n",
    "num = 3\n",
    "if(num > 30){\n",
    "    print('Is this TRUE? If it is printed it is!')\n",
    "    }"
   ]
  },
  {
   "cell_type": "code",
   "execution_count": null,
   "metadata": {},
   "outputs": [],
   "source": [
    "if(TRUE){\n",
    "    print(\"TRUE is True\")\n",
    "    }"
   ]
  },
  {
   "cell_type": "code",
   "execution_count": null,
   "metadata": {},
   "outputs": [],
   "source": [
    "# Note that 1 stands also for TRUE and 0 for FALSE\n",
    "if(1){\n",
    "    print(\"1 is TRUE\")\n",
    "    }\n",
    "if(0){\n",
    "    print(\"0 is FALSE\")\n",
    "    }\n",
    "\n",
    "if(!0){\n",
    "    print(\"The exclamation mark means <<not>>; and 'not FALSE equals TRUE'\")\n",
    "    }"
   ]
  },
  {
   "cell_type": "markdown",
   "metadata": {},
   "source": [
    "#### else: \n",
    "- if resulted in FALSE. Now another action can take place (not neccessary to have an `else`):\n",
    "    - do something if and only if the `if` is FALSE"
   ]
  },
  {
   "cell_type": "code",
   "execution_count": null,
   "metadata": {},
   "outputs": [],
   "source": [
    "# the else statement executes whenever the previous if statement is FALSE\n",
    "# else needs to be ALWAYS directly behind the swirly bracket of the previous if\n",
    "num = 4\n",
    "if(num == 1){\n",
    "    print(\"num is 1\")\n",
    "}else{  # <- the else needs to be here\n",
    "    print(\"num is not 1\")\n",
    "}"
   ]
  },
  {
   "cell_type": "markdown",
   "metadata": {},
   "source": [
    "### Or / Not / And"
   ]
  },
  {
   "cell_type": "markdown",
   "metadata": {},
   "source": [
    "| Logical Operator | Name |\tDescription |\n",
    "| --- | --- | --- |\n",
    "| **&** |AND|\tIf both the operands are TRUE then condition becomes TRUE. |\n",
    "| **$|$** |OR|\tIf any of the two operands are TRUE then condition becomes TRUE. |\n",
    "| **!** |NOT|\tUsed to reverse the logical (not FALSE becomes TRUE, not TRUE becomes FALSE) |"
   ]
  },
  {
   "cell_type": "code",
   "execution_count": null,
   "metadata": {},
   "outputs": [],
   "source": [
    "num = 4\n",
    "num > 0 & num  > 15\n",
    "# You can use parenthesis to make it more clear\n",
    "# (num > 0) & (num > 15)"
   ]
  },
  {
   "cell_type": "code",
   "execution_count": null,
   "metadata": {},
   "outputs": [],
   "source": [
    "# both the conditions are true, so the num will be printed out\n",
    "if(num > 0 & num  < 15){\n",
    "    print(paste(num , \"is bigger than 0 and smaller than 15\"))\n",
    "}\n",
    "    "
   ]
  },
  {
   "cell_type": "code",
   "execution_count": null,
   "metadata": {},
   "outputs": [],
   "source": [
    "# | this operator means \"OR\"\n",
    "# num > 0 is True, num > 15 is False\n",
    "# Since the first condition is True, the overall condition is True (is EITHER statement True?)\n",
    "num = 4\n",
    "num > 0 | num  > 15"
   ]
  },
  {
   "cell_type": "markdown",
   "metadata": {},
   "source": [
    "### The \"for\" loop\n",
    "For loops iterates over a given `sequence`, `vector`, or `list`.\n",
    "You will see that the structure is again similar to what we had before:\n",
    "\n",
    "```\n",
    "for(value in sequence){\n",
    "    # do something (with the value)\n",
    "}\n",
    "```\n",
    "\n",
    "Here is an example:"
   ]
  },
  {
   "cell_type": "code",
   "execution_count": null,
   "metadata": {},
   "outputs": [],
   "source": [
    "# looping through a sequence\n",
    "sequence = seq(from = 1,to = 10,by = 2)\n",
    "for(i in sequence){\n",
    "    print(i)\n",
    "}"
   ]
  },
  {
   "cell_type": "code",
   "execution_count": null,
   "metadata": {},
   "outputs": [],
   "source": [
    "# looping through a vector and print the values\n",
    "primes = c(2, 3, 5, 7)\n",
    "for(prime in primes){\n",
    "    print(prime)\n",
    "}\n",
    "    "
   ]
  },
  {
   "cell_type": "code",
   "execution_count": null,
   "metadata": {},
   "outputs": [],
   "source": [
    "# looping through a list\n",
    "for(i in shopping_list){\n",
    "    print(i)\n",
    "}"
   ]
  },
  {
   "cell_type": "markdown",
   "metadata": {},
   "source": [
    "***\n",
    "### *Exercise 5*\n",
    "Write a program that counts the number of common elements in the vectors \n",
    "\n",
    "`a = c(1, 1, 2, 3, 5, 8, 13, 21, 34, 55, 89)` and \n",
    "\n",
    "\n",
    "`b = c(1, 2, 3, 4, 5, 6, 7, 8, 9, 10, 11, 12, 13)`"
   ]
  },
  {
   "cell_type": "code",
   "execution_count": null,
   "metadata": {},
   "outputs": [],
   "source": [
    "# replace the ???\n",
    "a = c(1, 1, 2, 3, 5, 8, 13, 21, 34, 55, 89) \n",
    "b = c(1, 2, 3, 4, 5, 6, 7, 8, 9, 10, 11, 12, 13)\n",
    "counted_in_both = ???\n",
    "for(i in ???){\n",
    "    for(j in ???){\n",
    "        if(??? == ???){\n",
    "            counted_in_both = counted_in_both + 1\n",
    "        }\n",
    "    }\n",
    "}\n",
    "counted_in_both"
   ]
  },
  {
   "cell_type": "markdown",
   "metadata": {},
   "source": [
    "***"
   ]
  },
  {
   "cell_type": "code",
   "execution_count": null,
   "metadata": {},
   "outputs": [],
   "source": []
  }
 ],
 "metadata": {
  "kernelspec": {
   "display_name": "Python 3 (ipykernel)",
   "language": "python",
   "name": "python3"
  },
  "language_info": {
   "codemirror_mode": {
    "name": "ipython",
    "version": 3
   },
   "file_extension": ".py",
   "mimetype": "text/x-python",
   "name": "python",
   "nbconvert_exporter": "python",
   "pygments_lexer": "ipython3",
   "version": "3.10.11"
  }
 },
 "nbformat": 4,
 "nbformat_minor": 4
}
