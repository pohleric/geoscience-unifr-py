{
 "cells": [
  {
   "cell_type": "markdown",
   "metadata": {},
   "source": [
    "![title](https://www.dropbox.com/scl/fi/4te3zawuuvrd8g2iv6vmk/Header_SGS.01101_fancy.png?rlkey=eub0vjjwjqitlmxpf73o9c919&dl=1)"
   ]
  },
  {
   "cell_type": "markdown",
   "metadata": {
    "tags": []
   },
   "source": [
    "# Lesson 3 - Python programming"
   ]
  },
  {
   "cell_type": "markdown",
   "metadata": {},
   "source": [
    "## Introduction"
   ]
  },
  {
   "cell_type": "markdown",
   "metadata": {},
   "source": [
    "### Scope\n",
    "\n",
    "The aim of this lecture is to learn basics in programming with the language `Python`. In particular, this notebook will demonstrate:\n",
    "\n",
    "* Basics\n",
    "* Data structures\n",
    "* Indexing/indices\n",
    "* Functions\n",
    "* Control flow statements (loops and logic)\n"
   ]
  },
  {
   "cell_type": "markdown",
   "metadata": {},
   "source": [
    "\n",
    "Python is maybe the most popular open source language in science due to its versatility. Python is a language, so there are rules (syntax) - the more you practice, the better you will get. Due to the large user pool, there are thousands of pre-made (already programmed by others) modules that allow analysis of various data formats and application of various methods easily.\n",
    "\n",
    "\n",
    "\n",
    "We recall the baseline elements of programming from the previous lecture:\n",
    "\n",
    "* **input:** Get data from the keyboard, a file, or some other device. \n",
    "* **output:** Display data on the screen or send data to a file or other device. \n",
    "* **math:** Perform basic mathematical operations like addition and multiplication.\n",
    "* **conditional execution:** Check for certain conditions and execute the appropriate code. \n",
    "* **repetition:** Perform some action repeatedly, usually with some variation.\n",
    "\n"
   ]
  },
  {
   "cell_type": "markdown",
   "metadata": {},
   "source": [
    "The example from the previous lesson showed this function: `print('Hello World!')`.\n",
    "\n",
    "In one version, you saw a prompt in which you entered the message that the `print()` function would `output`. This makes it already two of the elements.\n",
    "- `input`: We gave the `print()` function the input `'Hello World'` or whatever you wrote in the prompt.\n",
    "- `output`: We get the text output `Hello World!`\n",
    "\n",
    "Not so obvious are things that happen invisible for us in the `print()` function. But printing the sentence `'Hello World!'` actually covers **four** elements from the list. The additional two are:\n",
    "- `math`: in the background R takes the input and applies methods to create a string object, and defines how to display it on the screen \n",
    "- `conditional execution`: the print function checks if the input is valid \n",
    "\n",
    "*The `print()` function is actually written in a different programming language and many lines long. Great that someone else did that programming for us already  (╯°□°)╯*\n",
    "\n",
    "***"
   ]
  },
  {
   "cell_type": "markdown",
   "metadata": {},
   "source": [
    "## Basics\n",
    "### Comments"
   ]
  },
  {
   "cell_type": "code",
   "execution_count": null,
   "metadata": {},
   "outputs": [],
   "source": [
    "# 2+2\n",
    "# This is \"only\" a comment (in fact, it is very useful)\n",
    "# A comment is created by using the \"#\" symbol. Everything after this symbol is not\n",
    "# executed by Python.\n",
    "# You will see no output from this cell ... that's how comments behave"
   ]
  },
  {
   "cell_type": "markdown",
   "metadata": {},
   "source": [
    "### Print Function\n",
    "\n",
    "The **`print()`** function can be used either directly with a string, or with a variable that represents a string:\n"
   ]
  },
  {
   "cell_type": "code",
   "execution_count": null,
   "metadata": {},
   "outputs": [],
   "source": [
    "# directly with a string\n",
    "print(\"Hello World\")"
   ]
  },
  {
   "cell_type": "code",
   "execution_count": null,
   "metadata": {},
   "outputs": [],
   "source": [
    "# with a variable\n",
    "string1=\"Hello World\"\n",
    "print(string1)"
   ]
  },
  {
   "cell_type": "markdown",
   "metadata": {},
   "source": [
    "***\n",
    "### *Exercise 1*\n",
    "Use the `print()` function to:\n",
    "\n",
    "- Print the string `\"My favorite number is:\"` \n",
    "- and in a next line to print your favorite number\n",
    "- Use the `+` function to combine the two (the sentence and the number) in one line, and then `print()` it\n",
    "- The `+` only works if both elements are strings (or numbers); You can use the `str()` function to transform something into a string.\n"
   ]
  },
  {
   "cell_type": "code",
   "execution_count": null,
   "metadata": {},
   "outputs": [],
   "source": [
    "# write your code here:\n",
    "# - remember the operator to combine strings \"+\"\n",
    "# - remember \"+\" does not work if one element is a number and the other one is a string\n",
    "# - the \"str()\" function transforms any input into a string !\n",
    "\n"
   ]
  },
  {
   "cell_type": "markdown",
   "metadata": {},
   "source": [
    "***"
   ]
  },
  {
   "cell_type": "markdown",
   "metadata": {},
   "source": [
    "### Relational Operators\n",
    "\n",
    "| Symbol | Task Performed |\n",
    "|----|---|\n",
    "| == | True, if it is equal |\n",
    "| !=  | True, if not equal to |\n",
    "| < | less than |\n",
    "| > | greater than |\n",
    "| <=  | less than or equal to |\n",
    "| >=  | greater than or equal to |"
   ]
  },
  {
   "cell_type": "code",
   "execution_count": null,
   "metadata": {},
   "outputs": [],
   "source": [
    "# What is the first and what is the second line of code doing?\n",
    "z = 10\n",
    "z == 1"
   ]
  },
  {
   "cell_type": "code",
   "execution_count": null,
   "metadata": {},
   "outputs": [],
   "source": [
    "5>10"
   ]
  },
  {
   "cell_type": "code",
   "execution_count": null,
   "metadata": {},
   "outputs": [],
   "source": [
    "z==1"
   ]
  },
  {
   "cell_type": "code",
   "execution_count": null,
   "metadata": {},
   "outputs": [],
   "source": [
    "z!=2"
   ]
  },
  {
   "cell_type": "code",
   "execution_count": null,
   "metadata": {},
   "outputs": [],
   "source": [
    "z>1"
   ]
  },
  {
   "cell_type": "code",
   "execution_count": null,
   "metadata": {},
   "outputs": [],
   "source": [
    "z<3"
   ]
  },
  {
   "cell_type": "code",
   "execution_count": null,
   "metadata": {},
   "outputs": [],
   "source": [
    "5>10"
   ]
  },
  {
   "cell_type": "markdown",
   "metadata": {},
   "source": [
    "## Packages\n",
    "Python is extremely popular because of a large community and their contributions in form of `packages` or `libraries`. A package is a collection of `functions` and `definitions` on how to handle and process data in a specific way. There are basic ones like `numpy` or `math` that provide ways to handle **matrices** and give constants like **pi** and trigonometric functions like **cosinus**. Packages must be installed once before using them (all packages we will use in this course are already installed), and loaded when we want to use them.\n",
    "\n",
    "The cell below shows how a package is loaded. Once loaded, all the functions of that package are available to us. These functions can be accessed through the `namespace` and the `\".\"` symbol; in the example below, `numpy` is the namespace and `array()` is the function of that namespace.\n"
   ]
  },
  {
   "cell_type": "code",
   "execution_count": null,
   "metadata": {},
   "outputs": [],
   "source": [
    "# Loading the numpy package\n",
    "import numpy"
   ]
  },
  {
   "cell_type": "code",
   "execution_count": null,
   "metadata": {},
   "outputs": [],
   "source": [
    "numpy.array([1,2,3])"
   ]
  },
  {
   "cell_type": "markdown",
   "metadata": {},
   "source": [
    "### Import \"alias\"\n",
    "\n",
    "Programmers are lazy. Instead of writing a long package name (its `namespace`) over and over again, it is possible to define that a package name should be shortened. For the same example as above, we can instead do an alias load and call the function from this alias."
   ]
  },
  {
   "cell_type": "code",
   "execution_count": null,
   "metadata": {},
   "outputs": [],
   "source": [
    "import numpy as np\n",
    "np.array([1,2,3])"
   ]
  },
  {
   "cell_type": "markdown",
   "metadata": {},
   "source": [
    "### Namespace \".\"\n",
    "\n",
    "A package contains usually several functions, definitions, and variables. To indicate these belong to a specific package, the `\".\"` visually shows us this connection. A package has a specific name, so within this space -- hence `namespace`-- we find these functions and values. Below you see some examples how different values and functions from the numpy package are called."
   ]
  },
  {
   "cell_type": "code",
   "execution_count": null,
   "metadata": {},
   "outputs": [],
   "source": [
    "np.pi"
   ]
  },
  {
   "cell_type": "code",
   "execution_count": null,
   "metadata": {},
   "outputs": [],
   "source": [
    "np.cos(3.141592)"
   ]
  },
  {
   "cell_type": "markdown",
   "metadata": {},
   "source": [
    "### Namespace \".\", \".\", ...\n",
    "\n",
    "For some data structures (see below), specific functions become available. For example, a function that would insert a number into a list makes only sense if we have a list! This might lead to seeing multiple dots combined `\".\"`. Here is an example with a list, where we count how many times the value `4` is inside this list. The function `.count()` is directly implemented into/available to every `list()` everywhere in `Python`. "
   ]
  },
  {
   "cell_type": "code",
   "execution_count": null,
   "metadata": {},
   "outputs": [],
   "source": [
    "a = [4,5,6,4]\n",
    "type(a)"
   ]
  },
  {
   "cell_type": "code",
   "execution_count": null,
   "metadata": {},
   "outputs": [],
   "source": [
    "a.count(4)"
   ]
  },
  {
   "cell_type": "markdown",
   "metadata": {},
   "source": [
    "## Data Structures\n",
    "In simple terms, it is the collection or group of data in a particular structure. An analogy with food could be that you store milk in a bottle, and biscuits in a box. There are some data structures that are more suitable to store a certain kind of data (milk in a bottle vs. cookies in a carton box).\n",
    "\n",
    "The main data structures in `Python` are:\n",
    "- `lists`: any concatenation of single data entries without otherwise specified structure --> `[]` or `list()`\n",
    "- `array`: similar to lists but strictly numeric data; Used for matrix representation; Normally using the `numpy` package --> `numpy.array([])`(1D), `numpy.array([[],[]])`(2D), ...\n",
    "- `dictionaries`: any data organized with specific `keys` --> `{\"a\":[1,2,3]}` (a list called `a`)\n",
    "- `pandas.DataFrame`: like matrices/tables with headers and option to represent time-series --> `pandas.DataFrame()`\n",
    "\n",
    "`Python` is a real programming language and thus it is sometimes \"picky\", meaning it requires specific data `structures`, and `data types`. You might see errors related to wrong data types and structures. Often you can translate the structure or data type into a different structure or type, e.g. \n",
    "\n",
    "- `list` to `matrix`: `numpy.array(my_list)`\n",
    "- `float` to `string`: `str(my_number)`\n",
    "  \n",
    "\n",
    "### Lists\n",
    "Lists are the most simple form of data structures in `Python`. They are initiated with the `[]` symbols which is the equivalent to writing `list([])`. You can use the `type()` function to find out about the `data structure` or `data type`.\n",
    "\n",
    "\n",
    "Values are included simply by separating them with a comma,\n",
    "e.g.:`[1,2,3,9,10]`"
   ]
  },
  {
   "cell_type": "code",
   "execution_count": null,
   "metadata": {},
   "outputs": [],
   "source": [
    "var1 = [1,2,4]\n",
    "type(var1)"
   ]
  },
  {
   "cell_type": "code",
   "execution_count": null,
   "metadata": {},
   "outputs": [],
   "source": [
    "# You can check (True/False) if a variable is of a certain data structure (list, matrix, list,...),\n",
    "# like so:\n",
    "\n",
    "isinstance(var1, list)  \n",
    "# 1. argument is the variable, 2. argument is which structure "
   ]
  },
  {
   "cell_type": "markdown",
   "metadata": {},
   "source": [
    "### Matrix (Arrays)\n",
    "<div>\n",
    "    <img src=\"https://drive.switch.ch/index.php/s/Htjt9X9IBDY8lVo/download\", width='200'>\n",
    "</div>\n",
    "\n",
    "A `matrix` is defined by 2 dimensions. More generally, for any kind of dimension (e.g. a cube), we talk about an `array`. So a matrix is a special case of an array. The 2 dimensions are the rows and columns. \n",
    "\n",
    "Arrays can be of any desired dimension (1D, 2D, 3D, 4D, ...). For arrays we use usually the `numpy` package, which is very efficient for calculations. `numpy` is used in many other packages because of that, like in `pandas`, which we will use mostly during this course."
   ]
  },
  {
   "cell_type": "code",
   "execution_count": null,
   "metadata": {},
   "outputs": [],
   "source": [
    "import numpy as np"
   ]
  },
  {
   "cell_type": "code",
   "execution_count": null,
   "metadata": {},
   "outputs": [],
   "source": [
    "# 1D\n",
    "a = np.array([1,2])\n",
    "a"
   ]
  },
  {
   "cell_type": "code",
   "execution_count": null,
   "metadata": {},
   "outputs": [],
   "source": [
    "# 2D\n",
    "b = np.array([[1,2],[3,4]])\n",
    "b"
   ]
  },
  {
   "cell_type": "markdown",
   "metadata": {},
   "source": [
    "As our two variables `a` and `b` are `numpy.arrays` now, we have access to functions and properties of these **objects**. We can, for example, look at the dimension of the array using their inherent property `shape`."
   ]
  },
  {
   "cell_type": "code",
   "execution_count": null,
   "metadata": {},
   "outputs": [],
   "source": [
    "b.shape\n",
    "# 2 rows, 2 columns"
   ]
  },
  {
   "cell_type": "markdown",
   "metadata": {},
   "source": [
    "### Pandas DataFrame\n",
    "`pandas` is a package that facilitates working with spreadsheet data. It combines reading functions (text, Excel, ...), organizing functions, for example for dates and times, selecting data from querries, and also includes a rich set of plotting functions for visualizing.\n",
    "\n",
    "A `pd` (short for `pandas`) `DataFrame`: \n",
    "- can store `numeric` and `character` data types\n",
    "- can have multiple dimensions like a `matrix`\n",
    "\n",
    "In the cell below, the function `DataFrame()` is used to convert the 2D array `b` into a `DataFrame`.\n"
   ]
  },
  {
   "cell_type": "code",
   "execution_count": null,
   "metadata": {},
   "outputs": [],
   "source": [
    "import pandas as pd"
   ]
  },
  {
   "cell_type": "code",
   "execution_count": null,
   "metadata": {},
   "outputs": [],
   "source": [
    "df1 = pd.DataFrame(b)\n",
    "df1"
   ]
  },
  {
   "cell_type": "markdown",
   "metadata": {},
   "source": [
    "Note how the top-row, and the left-hand side row are displayed with **bold numbers**. These are the `DataFrame`-`columns` and `DataFrame`-`index` names.\n",
    "\n",
    "These are properties of the `DataFrame` and so they are accessible with `\".columns\"` and `\".index\"`."
   ]
  },
  {
   "cell_type": "code",
   "execution_count": null,
   "metadata": {},
   "outputs": [],
   "source": [
    "df1.columns"
   ]
  },
  {
   "cell_type": "markdown",
   "metadata": {},
   "source": [
    "Since `df1` is now a `pandas` object, we also have many functions available; also accessible using `\".\"`, e.g. the `mean` for each row with `\".mean()\"`. \n",
    "\n",
    "\n",
    "***Note: the functions are called with the `()`, and the properties without ~~`()`~~***. "
   ]
  },
  {
   "cell_type": "code",
   "execution_count": null,
   "metadata": {},
   "outputs": [],
   "source": [
    "df1.mean()"
   ]
  },
  {
   "cell_type": "markdown",
   "metadata": {},
   "source": [
    "#### Pandas Columns and Index\n",
    "When reading in data from a spreadsheet files, you usually have column names. If you read in time-series you often use the date and time as first information (row names). We can assign column names and row names with the respective properties `.columns` and `.index`.\n"
   ]
  },
  {
   "cell_type": "code",
   "execution_count": null,
   "metadata": {},
   "outputs": [],
   "source": [
    "df1.columns = ['Column1', 'Column2']\n",
    "df1"
   ]
  },
  {
   "cell_type": "code",
   "execution_count": null,
   "metadata": {},
   "outputs": [],
   "source": [
    "df1.index = ['Row A', 'Row B']\n",
    "df1"
   ]
  },
  {
   "cell_type": "markdown",
   "metadata": {},
   "source": [
    "<div id=\"Indexing\"/>\n",
    "    \n",
    "## Indexing \n",
    "\n",
    "\n",
    "Indexing refers to finding or accessing the data **at certain positions** in your variables. There are slightly different ways of using indices, depending on the **data structure** (list, array, DataFrame).\n",
    "\n",
    "For multidimensional data (e.g. array, DataFrame), we also need to provide more than one index (**row-index, column-index**).\n",
    "\n",
    "<span style=\"color:red\">\n",
    "    \n",
    "- In `Python`, indexing starts at **0** ! So the first position has the index value 0\n",
    "- Indices are always in brackets `[2]` (3rd value).\n",
    "- To get all positions, we use the `:` symbol --> `[:]`\n",
    "- To count backwards (starting at the end we use minus symbol and start counting at `-1` for the last position) --> `[-1]`\n",
    "- A `:` can also be used to give a range, e.g. index **1 to 3** `[1:4]` -- This might be the most confusing one because we use  `:4`. The example below shows the locations of the indices. It is similar to saying a time like \"from 1 to 4 p.m.\" would be the hours 1 + 2 + 3 but not 4.\n",
    "\n",
    "\n",
    "\n",
    "\n",
    "</span>\n",
    "\n",
    "```\n",
    "Example: [0:3]\n",
    "\n",
    "Index:    0   1   2   3   4   5   6  \n",
    "         | 0 | 1 | 2 | 3 | 4 | 5 |\n",
    "           ^       ^  \n",
    "Start at 1, Stop at 3\n",
    "\n",
    "```"
   ]
  },
  {
   "cell_type": "markdown",
   "metadata": {},
   "source": [
    "### List"
   ]
  },
  {
   "cell_type": "code",
   "execution_count": null,
   "metadata": {},
   "outputs": [],
   "source": [
    "# List\n",
    "shopping_list = ['apple', 'orange', 'carrot','potato']\n",
    "shopping_list"
   ]
  },
  {
   "cell_type": "markdown",
   "metadata": {},
   "source": [
    "### Array"
   ]
  },
  {
   "cell_type": "code",
   "execution_count": null,
   "metadata": {},
   "outputs": [],
   "source": [
    "m2 = np.array([[1,2,3],[4,5,6]])\n",
    "m2"
   ]
  },
  {
   "cell_type": "code",
   "execution_count": null,
   "metadata": {},
   "outputs": [],
   "source": [
    "m2[1,2]"
   ]
  },
  {
   "cell_type": "markdown",
   "metadata": {},
   "source": [
    "### DataFrame\n",
    "\n",
    "`pandas` DataFrames use the functions `loc` and `iloc` for acces via indices. The `loc` function uses the column and row names, whereas `iloc` uses the position (**i** for index). "
   ]
  },
  {
   "cell_type": "code",
   "execution_count": null,
   "metadata": {},
   "outputs": [],
   "source": [
    "df2 = pd.DataFrame(m2)\n",
    "\n",
    "# Assigning names to columns and rows\n",
    "df2.columns = ['Column1', 'Column2', 'Column3']\n",
    "df2.index = ['A', 'B']\n",
    "df2"
   ]
  },
  {
   "cell_type": "markdown",
   "metadata": {},
   "source": [
    "#### Using '.loc[row_name, col_name]'\n",
    "The `.loc` function takes for a 2D DataFrame 2 arguments in the form: `df.loc[in,jn]`, where `in` is the row `name`, and `jn` the column `name`."
   ]
  },
  {
   "cell_type": "code",
   "execution_count": null,
   "metadata": {},
   "outputs": [],
   "source": [
    "df2.loc[\"A\",\"Column2\"]"
   ]
  },
  {
   "cell_type": "code",
   "execution_count": null,
   "metadata": {},
   "outputs": [],
   "source": [
    "df2.loc[\"B\",\"Column2\"]"
   ]
  },
  {
   "cell_type": "code",
   "execution_count": null,
   "metadata": {},
   "outputs": [],
   "source": [
    "df2.loc[:,\"Column2\"]  # All rows"
   ]
  },
  {
   "cell_type": "markdown",
   "metadata": {},
   "source": [
    "#### Using '.iloc[row_index, col_index]'\n",
    "The `.iloc` function takes for a 2D DataFrame 2 arguments in the form: `df.iloc[i,j]`, where `i` is the row `index`, and `j` is the column `index`."
   ]
  },
  {
   "cell_type": "code",
   "execution_count": null,
   "metadata": {},
   "outputs": [],
   "source": [
    "df2.iloc[0,1]  # same as df2.loc['A','Column2']"
   ]
  },
  {
   "cell_type": "code",
   "execution_count": null,
   "metadata": {},
   "outputs": [],
   "source": [
    "df2.iloc[1,1]  # same as df2.loc[\"B\",\"Column2\"]"
   ]
  },
  {
   "cell_type": "markdown",
   "metadata": {},
   "source": [
    "***\n",
    "### *Exercise 2*\n",
    "\n",
    "Use indexing to get the data stored in \n",
    "- the **2**nd position in the list `var1`\n",
    "- the **3**rd position of the `shopping_list`\n",
    "- the **1**st row, **3**rd column of the data frame `df2`"
   ]
  },
  {
   "cell_type": "code",
   "execution_count": null,
   "metadata": {},
   "outputs": [],
   "source": [
    "var1[?]"
   ]
  },
  {
   "cell_type": "code",
   "execution_count": null,
   "metadata": {},
   "outputs": [],
   "source": [
    "shopping_list[?]"
   ]
  },
  {
   "cell_type": "code",
   "execution_count": null,
   "metadata": {},
   "outputs": [],
   "source": [
    "df2[?,?]"
   ]
  },
  {
   "cell_type": "markdown",
   "metadata": {},
   "source": [
    "***"
   ]
  },
  {
   "cell_type": "markdown",
   "metadata": {},
   "source": [
    "<font color=blue> $\\Rightarrow$ Indices can be used to **assess** OR to **assign** data</font>"
   ]
  },
  {
   "cell_type": "code",
   "execution_count": null,
   "metadata": {},
   "outputs": [],
   "source": [
    "# write your code here:\n",
    "var1[1] = \"Eric\"\n",
    "var1"
   ]
  },
  {
   "cell_type": "code",
   "execution_count": null,
   "metadata": {},
   "outputs": [],
   "source": [
    "shopping_list[2] = 'Eric'\n",
    "shopping_list"
   ]
  },
  {
   "cell_type": "code",
   "execution_count": null,
   "metadata": {},
   "outputs": [],
   "source": [
    "df2.iloc[0,2] = 'Eric'\n",
    "df2"
   ]
  },
  {
   "cell_type": "markdown",
   "metadata": {},
   "source": [
    "***\n",
    "## Indexing multiple items\n",
    "With the above methods, we can get always **1** item only. In the following you see how to get multiple items from the data structures in`Python`.\n",
    "\n",
    "- You can use a **sequence** (of indices) for this, or a **start** and **end+1** index.\n",
    "- Think of the **slicing** as using the values `x`+`n`, as in `a[x:x+n]`\n",
    "    - if `x` is for example `2`, and `n` is the number of values you want to have (e.g. `2`), this gives:\n",
    "        - `a[2:2+2]` or `a[2:4]`\n",
    "\n",
    "Remember the way indices are located ([Section \"Indexing\"](#Indexing)). We require for the end index to increase its number by `+1`. Check out the examples below.\n",
    "\n",
    "\n",
    "### List\n"
   ]
  },
  {
   "cell_type": "code",
   "execution_count": null,
   "metadata": {},
   "outputs": [],
   "source": [
    "var1 = [1,2,7,8]\n",
    "var1"
   ]
  },
  {
   "cell_type": "code",
   "execution_count": null,
   "metadata": {},
   "outputs": [],
   "source": [
    "var1[1:3] "
   ]
  },
  {
   "cell_type": "code",
   "execution_count": null,
   "metadata": {},
   "outputs": [],
   "source": [
    "shopping_list"
   ]
  },
  {
   "cell_type": "code",
   "execution_count": null,
   "metadata": {},
   "outputs": [],
   "source": [
    "shopping_list[1:1+2]"
   ]
  },
  {
   "cell_type": "markdown",
   "metadata": {},
   "source": [
    "### Array"
   ]
  },
  {
   "cell_type": "code",
   "execution_count": null,
   "metadata": {},
   "outputs": [],
   "source": [
    "m2[0:3,1:2]  # the first part (0:3) means from row 0 to 2, and the second part (1:2) means from column 1 to 1="
   ]
  },
  {
   "cell_type": "markdown",
   "metadata": {},
   "source": [
    "### DataFrame"
   ]
  },
  {
   "cell_type": "code",
   "execution_count": null,
   "metadata": {},
   "outputs": [],
   "source": [
    "df2.iloc[0:2,1:3]"
   ]
  },
  {
   "cell_type": "code",
   "execution_count": null,
   "metadata": {},
   "outputs": [],
   "source": [
    "df2.iloc[0,:]"
   ]
  },
  {
   "cell_type": "markdown",
   "metadata": {},
   "source": [
    "<font color=blue>$\\Rightarrow$A sequence of indices using an additional `list` </font><br>\n",
    "***Note: Here we do not have a slice but two single indices (0 and 2)***"
   ]
  },
  {
   "cell_type": "code",
   "execution_count": null,
   "metadata": {},
   "outputs": [],
   "source": [
    "index_vector = [0,2]\n",
    "df2.iloc[: ,index_vector]"
   ]
  },
  {
   "cell_type": "markdown",
   "metadata": {},
   "source": [
    "***\n",
    "### *Exercise 3*\n",
    "Below you see the DataFrame called `df3`. \n",
    "You can actually use the indices even more flexibly. Instead of writing `df3.iloc[:,:]`, we will now use :\n",
    "- `df3.iloc[start:stop:increment, start:stop:increment]`\n",
    "  \n",
    "You have one example where the rows C and E are extracted. Try to reverse the order by choosing:\n",
    "- a negative increment (e.g. `ii = -1`. You need to adjust start and end accordingly (you start at the back and go towards the front!\n",
    "- How can you get a subset of df3 with rows (F,E,D) and columns (6,5,4) (both reversed)?"
   ]
  },
  {
   "cell_type": "code",
   "execution_count": null,
   "metadata": {},
   "outputs": [],
   "source": [
    "data = np.arange(1, 43).reshape(6, 7, order='F')\n",
    "df3 = pd.DataFrame(data,\n",
    "                  columns=['Column 1', 'Column 2', 'Column 3', 'Column 4', 'Column 5', 'Column 6', 'Column 7'],\n",
    "                  index=['A','B','C','D','E','F'])\n",
    "df3"
   ]
  },
  {
   "cell_type": "code",
   "execution_count": null,
   "metadata": {},
   "outputs": [],
   "source": [
    "i0 = 2  # start row index\n",
    "i1 = 5  # end row index\n",
    "ii = 2  # increment (e.g. jump 2 instead of 1 row)\n",
    "# 2:5:2 -> From 2 to 5 by steps of 2. This yields: row3(i=2), row5(i=4)\n",
    "df3.iloc[i0:i1:ii,:]"
   ]
  },
  {
   "cell_type": "markdown",
   "metadata": {},
   "source": [
    "***"
   ]
  },
  {
   "cell_type": "markdown",
   "metadata": {},
   "source": [
    "## Functions\n",
    "\n",
    "We have already used several functions. You can identify them easily in `Python` because they always require **parenthesis**:\n",
    "- `print()` to print\n",
    "- `pd.DataFrame()` to make a DataFrame\n",
    "- ...\n",
    "\n",
    "You have also seen already that we can provide `arguments` to functions:\n",
    "- `pd.DataFrame(data=, columns=)`\n",
    "- You can find out about the arguments in the `help()` description - see below.\n",
    "- Alternatively you can turn on \"Contextual Help\" --> Menu --> Help --> Contextual Help"
   ]
  },
  {
   "cell_type": "code",
   "execution_count": null,
   "metadata": {},
   "outputs": [],
   "source": [
    "# Try pressing the [Tab] key inside the parenthesis!\n",
    "# help(pd.DataFrame())\n"
   ]
  },
  {
   "cell_type": "markdown",
   "metadata": {},
   "source": [
    "### Defining a new function\n",
    "Below are examples of self-made functions.\n",
    "\n",
    "The most simple function:"
   ]
  },
  {
   "cell_type": "code",
   "execution_count": null,
   "metadata": {},
   "outputs": [],
   "source": [
    "def thesimplestfunction():\n",
    "    # here could be an operation\n",
    "    # but this is a very simple function that does absolutely nothing\n",
    "    return \n"
   ]
  },
  {
   "cell_type": "markdown",
   "metadata": {},
   "source": [
    "### Using (calling) the function\n",
    "We execute or \"call\" the function the same way, we did with the other ones before"
   ]
  },
  {
   "cell_type": "code",
   "execution_count": null,
   "metadata": {},
   "outputs": [],
   "source": [
    "thesimplestfunction()"
   ]
  },
  {
   "cell_type": "markdown",
   "metadata": {},
   "source": [
    "<font color=blue>$\\Rightarrow$But the real reasons to use our own functions are to do `math`, `conditional execution`, and `repetition`</font>"
   ]
  },
  {
   "cell_type": "code",
   "execution_count": null,
   "metadata": {},
   "outputs": [],
   "source": [
    "def greet(name):\n",
    "    #This function greets a person, whose name is passed in as an argument\n",
    "    text_string = \"Hello, \" + name + \". Good morning!\"\n",
    "    print(text_string)\n"
   ]
  },
  {
   "cell_type": "code",
   "execution_count": null,
   "metadata": {},
   "outputs": [],
   "source": [
    "greet('Nicolas')"
   ]
  },
  {
   "cell_type": "markdown",
   "metadata": {},
   "source": [
    "***\n",
    "### *Exercise 4*\n",
    "- Change the `greet` function into a function that prints your age (copy & paste is your friend!)"
   ]
  },
  {
   "cell_type": "code",
   "execution_count": null,
   "metadata": {},
   "outputs": [],
   "source": [
    "# write your code here\n"
   ]
  },
  {
   "cell_type": "markdown",
   "metadata": {},
   "source": [
    "***"
   ]
  },
  {
   "cell_type": "markdown",
   "metadata": {},
   "source": [
    "### Pandas - Some more useful functions \n",
    "As said before, we will mainly work with `pandas.DataFrame` and there are several built-in functions available.\n",
    "\n",
    "There are plenty of functions related to statistics:\n",
    "- mean()\n",
    "- max()\n",
    "- min()\n",
    "- std()\n",
    "- median()\n",
    "- ...\n",
    "\n",
    "When you use e.g. the `.mean()` you will receive the mean values **for each column**. Why is that? The `.mean()` function has an `argument` (additional information on how to execute the function) that is called `axis=`. The default is `axis=0` (which is the `index` / y-direction).\n",
    "\n",
    "Look in the example below and:\n",
    "- Add the argument `axis=0` in the function (`df3.mean(axis=0)`). Does this change the result?\n",
    "- Change the argument value of axis to 1 (`axis=1`). What do you get as a result now?\n",
    "- What happens if you change the value to `None`?"
   ]
  },
  {
   "cell_type": "code",
   "execution_count": null,
   "metadata": {},
   "outputs": [],
   "source": [
    "df3.mean()"
   ]
  },
  {
   "cell_type": "markdown",
   "metadata": {},
   "source": [
    "***\n",
    "## Control Flow Statements\n",
    "Often we need to control how our program executes a task, to include `conditional` information, or simply to prevent our model from crashing. \n",
    "\n",
    "\n",
    "- A navigation app will suggest the route ***`for`*** which the travel time will be the shortest.\n",
    "\n",
    "- The app should take a different route ***`if`*** there is a traffic jam on the shortest route, and use a different combination of possible paths ***`if`*** we are on foot, or ***`if`*** we are going by car. \n",
    "\n",
    "- And ***`while`*** we are driving, the app should still check if the traffic jam persists or dissolves, so we can reevaluate if we should go back to the old route.\n",
    "\n"
   ]
  },
  {
   "cell_type": "markdown",
   "metadata": {},
   "source": [
    "![Gmap.png](https://www.dropbox.com/scl/fi/eyqvxydf118jyrhdz9b8l/01101_L3_gmap.jpg?rlkey=3yajszof5wy7t9kh8nyb448nu&dl=1)\n",
    "\n",
    "*Figure 1: Control flow in navigation example. Depending on transport means, here by foot (left) or by car (right), and depending on traffic situation, a different route is the fastest.*"
   ]
  },
  {
   "cell_type": "markdown",
   "metadata": {},
   "source": [
    "Control flow statements are created similar to a function\n",
    "```\n",
    "if value1 conditional value2:\n",
    "    # then some operation\n",
    "\n",
    "```\n",
    "\n"
   ]
  },
  {
   "cell_type": "markdown",
   "metadata": {},
   "source": [
    "### If and Else Statements\n",
    "    \n",
    "#### if\n",
    "- check if something is True \n",
    "    - if it is True --> do it\n",
    "    - if it is not True (False) --> don't do it\n",
    " "
   ]
  },
  {
   "cell_type": "markdown",
   "metadata": {},
   "source": [
    "Notice that the conditional statement is after an **indent** (slightly more to the right, e.g. two `spacebar` steps, the same way as for a function. "
   ]
  },
  {
   "cell_type": "code",
   "execution_count": null,
   "metadata": {},
   "outputs": [],
   "source": [
    "num = 3\n",
    "if num <= 30:\n",
    "    print(\"The value of the variable 'num' is smaller or equal to 30 (TRUE)\")\n",
    "    "
   ]
  },
  {
   "cell_type": "code",
   "execution_count": null,
   "metadata": {},
   "outputs": [],
   "source": [
    "# Nothing is outputted because num > 10 is FALSE\n",
    "num = 3\n",
    "if num > 30:\n",
    "    print('Is this TRUE? If it is printed it is!')\n",
    "    "
   ]
  },
  {
   "cell_type": "code",
   "execution_count": null,
   "metadata": {},
   "outputs": [],
   "source": [
    "if True:\n",
    "    print(\"True is True\")\n",
    "    "
   ]
  },
  {
   "cell_type": "code",
   "execution_count": null,
   "metadata": {},
   "outputs": [],
   "source": [
    "# Note that 1 stands also for TRUE and 0 for FALSE\n",
    "if 1:\n",
    "    print(\"1 is True\")\n",
    "if 0:\n",
    "    print(\"0 is FALSE\")\n",
    "\n",
    "if not 0:\n",
    "    print(\"Python is a positive language; the standard is True!\")\n",
    "    "
   ]
  },
  {
   "cell_type": "markdown",
   "metadata": {},
   "source": [
    "#### Else: \n",
    "If your conditional question inside `if` results in a `True` value, you will execute the indented command and skip it if the result was a `False`.\n",
    "\n",
    "If you are also interested in the negative case (`False`), you can use the `else` statement. This will be executed if you get a `False` answer to the `if` condition."
   ]
  },
  {
   "cell_type": "code",
   "execution_count": null,
   "metadata": {},
   "outputs": [],
   "source": [
    "# the else statement executes whenever the previous if statement is FALSE\n",
    "\n",
    "num = 4\n",
    "if num == 1:\n",
    "    print(\"num is 1\")\n",
    "else: \n",
    "    print(\"num is not 1\")"
   ]
  },
  {
   "cell_type": "markdown",
   "metadata": {},
   "source": [
    "### Or / Not / And\n",
    "\n",
    "How to combine multiple conditions? Often you want to test if values are ***within a certain value range***. E.g. you want to select values x, with `3 < x < 7`. These are two conditions that must be met **at the same time -> AND**:\n",
    "- `x > 3`\n",
    "- **AND**\n",
    "- `x < 7`\n",
    "\n",
    "Or you want to find the fruits in the `shopping_list`, whith:\n",
    "- `x == 'apple'`\n",
    "- **OR**\n",
    "- `x == 'orange'`"
   ]
  },
  {
   "cell_type": "markdown",
   "metadata": {},
   "source": [
    "| Logical Operator | Name |\tDescription |\n",
    "| --- | --- | --- |\n",
    "| **and** |AND|\tIf both the operands are TRUE then condition becomes TRUE. |\n",
    "| **or** |OR|\tIf any of the two operands are TRUE then condition becomes TRUE. |\n",
    "| **not** |NOT|\tUsed to reverse the logical (not FALSE becomes TRUE, not TRUE becomes FALSE) |"
   ]
  },
  {
   "cell_type": "code",
   "execution_count": null,
   "metadata": {},
   "outputs": [],
   "source": [
    "num = 4\n",
    "num > 0 and num  > 15\n",
    "\n",
    "# You can use parenthesis to make it more clear\n",
    "# (num > 0) and (num > 15)"
   ]
  },
  {
   "cell_type": "code",
   "execution_count": null,
   "metadata": {},
   "outputs": [],
   "source": [
    "# both the conditions are true, so the num will be printed out\n",
    "if num > 0 and num  < 15:\n",
    "    print(str(num) + \" is bigger than 0 and smaller than 15\")\n",
    "\n",
    "    "
   ]
  },
  {
   "cell_type": "code",
   "execution_count": null,
   "metadata": {},
   "outputs": [],
   "source": [
    "# the `or` operator\n",
    "# num > 0 is True, num > 15 is False\n",
    "# Since the first condition is True, the overall condition is True (is EITHER statement True?)\n",
    "num = 4\n",
    "num > 0 or num  > 15"
   ]
  },
  {
   "cell_type": "markdown",
   "metadata": {},
   "source": [
    "### The \"for\" loop\n",
    "For loops iterate over a given `range` or `list`, or through e.g. the values of a `DataFrame` column.\n",
    "You will see that the structure is again similar to what we had before:\n",
    "\n",
    "```\n",
    "for value in range:\n",
    "    # do something (with the value)\n",
    "\n",
    "```\n",
    "\n",
    "Here is an example:"
   ]
  },
  {
   "cell_type": "code",
   "execution_count": null,
   "metadata": {},
   "outputs": [],
   "source": [
    "# looping through a range\n",
    "for i in range(10):\n",
    "    print(i)"
   ]
  },
  {
   "cell_type": "code",
   "execution_count": null,
   "metadata": {},
   "outputs": [],
   "source": [
    "# looping through a list\n",
    "list1 = [1,2,3,4,'apple']\n",
    "for i in list1:\n",
    "    print(i)\n",
    "    "
   ]
  },
  {
   "cell_type": "code",
   "execution_count": null,
   "metadata": {},
   "outputs": [],
   "source": [
    "# looping through a another list\n",
    "for i in shopping_list:\n",
    "    print(i)\n"
   ]
  },
  {
   "cell_type": "markdown",
   "metadata": {},
   "source": [
    "## Summary\n",
    "This notebook shows the full range of basic programming theory we will work with in the following lessons and in the upcoming courses SGG.02101, SGG.00425.\n",
    "\n",
    "The list of key functions and ideas introduced were:\n",
    "- `print()`  # Prints any input. If you combine inputs, you must make sure they are of the same data type -->\n",
    "- `str()`    # Transforms any value into a string (text); useful when combining numbers and text for `print()`\n",
    "- logical operators: `==`, `>`, '`>=`, `!=`, ...\n",
    "- `import` and `import .. as ..`    # Importing packages like `pandas` or `numpy` with a short acronym `namespace`\n",
    "- `[ ]`     # Creating a list\n",
    "- `numpy.array()`    # Creating a `numpy` array\n",
    "- `pandas.DataFrame()`   # Creating a `pandas` DataFrame\n",
    "- Indices of `lists` (`my_list[0]`)\n",
    "- Indices of 2D `arrays` (`my_array[0,3]`)\n",
    "- Indices of `pandas.Dataframe` (`my_df.iloc[0,3]`)\n",
    "- Names of `pandas.Dataframe` (`my_df.loc[\"Row E\", \"Column 2\"]`)\n",
    "- `isinstance(my_variable, <type>)`  # Tests if a variable is a specific data/object type, with `<type>`: `list`, `pandas.DataFrame`, `int`, `float`, `str`, etc.\n",
    "- `def functionname():`   # Creating a function\n",
    "- `if`, `else`  # Conditional control flow\n",
    "- `and`, `or`   # Combining conditional controls"
   ]
  },
  {
   "cell_type": "code",
   "execution_count": null,
   "metadata": {},
   "outputs": [],
   "source": []
  }
 ],
 "metadata": {
  "kernelspec": {
   "display_name": "Python 3 (ipykernel)",
   "language": "python",
   "name": "python3"
  },
  "language_info": {
   "codemirror_mode": {
    "name": "ipython",
    "version": 3
   },
   "file_extension": ".py",
   "mimetype": "text/x-python",
   "name": "python",
   "nbconvert_exporter": "python",
   "pygments_lexer": "ipython3",
   "version": "3.10.11"
  }
 },
 "nbformat": 4,
 "nbformat_minor": 4
}
