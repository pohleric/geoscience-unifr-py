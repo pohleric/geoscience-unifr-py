{
 "cells": [
  {
   "cell_type": "markdown",
   "metadata": {},
   "source": [
    "## Tasks - Lecture 3 - Python programming"
   ]
  },
  {
   "cell_type": "markdown",
   "metadata": {
    "tags": []
   },
   "source": [
    "### To be completed in the second half of the class or after class\n",
    "\n",
    "Use this Jupyter notebook for the tasks. Solve the tasks in new cells and paragraphs at the bottom of this notebook.  The individual tasks are listed below. You can write in English, German, or French. Make sure to stick to these two rules:\n",
    "- Notebooks have to be submitted (uploaded) the latest <font color=red>**by the  submission deadline (see moodle)**</font> via Moodle.\n",
    "- The notebook filename must be in the format `Name1Name2Name3_LectureN.ipynb`\n",
    "\n",
    "where Name1, Name2 and Name3 are your family names, and the \"N\" in `LectureN` stands for the number of our lecture (today this is **3**), respectively. This means you have to **rename this notebook**. Notebooks must be submitted on **moodle**; one submission per group is enough! \n",
    "\n",
    "\n",
    "<font color=blue> Try to solve the assignments as best as possible. Understanding coding is a requirement to pass the exam! Therefore, you must pass the homework assignments (9/12) to be eligible for the exam!</font><br><br>\n",
    "\n",
    "\n",
    "***\n"
   ]
  },
  {
   "cell_type": "markdown",
   "metadata": {
    "tags": []
   },
   "source": [
    "## Tasks\n"
   ]
  },
  {
   "cell_type": "markdown",
   "metadata": {},
   "source": [
    "### 1. \n",
    "Fill in the `???` so that all of the statements evaluate to TRUE. \n",
    "Only change the values for variables in the first 4 lines. If you get an error message, read it carefully. There is a hint for \"var3\"."
   ]
  },
  {
   "cell_type": "code",
   "execution_count": null,
   "metadata": {},
   "outputs": [],
   "source": [
    "var1 = ???\n",
    "var6 = ???\n",
    "var2 = ???\n",
    "var3 = ???\n",
    "\n",
    "############################################\n",
    "## Don't edit anything below this comment ##\n",
    "############################################\n",
    "\n",
    "print(\"Test1: \" + str(var1 >= var6))\n",
    "print(\"Test2: \" + str(var2 != var1))             # the != means not equal to\n",
    "print(\"Test3: \" + str(var6 < var1 and var6 < var2))\n",
    "print(\"Test4: \" + str(var2/var6 == 2))\n",
    "\n",
    "# the following function \"isinstance(var3 , str)\" is doing exactly what you will hopefully think\n",
    "# it does; it checks if the variable is of type \"string\" (a text)\n",
    "\n",
    "print(\"Test5: \" + str(isinstance(var3 , str)))\n",
    "if not isinstance(var3 , str):\n",
    "    raise TypeError(\"var3 needs to be of type string (text)\")\n",
    "print(\"Test6: \" + str(len(var3) == 4))"
   ]
  },
  {
   "cell_type": "markdown",
   "metadata": {},
   "source": [
    "### 2. \n",
    "Create a function that greets a person \"Bonjour\"(6-16h), \"Bonsoir\"(16-22h) and \"Bonne Nuit\"(After 22h) based on the time of day. This function takes the `name` of the person and `time` as input arguments. Sample Input: `name= Eric`, `time = 1900` Sample Output: \"Bonsoir Eric!\". Remember that multiple logical operations can be combined, e.g.: (x > 4 & x <= 8).  \n",
    "\n",
    "![Flowchart_program_2](https://www.dropbox.com/scl/fi/n11p1k7yl723rwp1sk9fs/01101_L3_HW_2024-01-19.png?rlkey=x80olkaw3k4w3a05h1qszmkyk&dl=1)\n",
    "\n",
    "*Figure 1: Flowchart of task 2.*"
   ]
  },
  {
   "cell_type": "code",
   "execution_count": null,
   "metadata": {},
   "outputs": [],
   "source": [
    "# here is a rough outline:\n",
    "# use the print() function\n",
    "# Use the time as integer, like 23 or 6 (not \"06\")\n",
    "\n",
    "def greet(name, time):\n",
    "    if time > 6 and time < 16:\n",
    "        print(\"Some text \" + name)\n",
    "    \n",
    "    if ??? ??? ???:\n",
    "        ???\n",
    "    \n",
    "    if ??? ??? ???:\n",
    "        ???\n",
    "    "
   ]
  },
  {
   "cell_type": "code",
   "execution_count": null,
   "metadata": {},
   "outputs": [],
   "source": [
    "# test the three different cases\n",
    "# Provide the time as integer, like 23 or 6 (not \"06\")\n",
    "# The \"name\" argument must also be of a specific data type: float? int? str? \n",
    "greet(name=???, time=???)\n",
    "greet(name=???, time=???)\n",
    "greet(name=???, time=???)\n"
   ]
  },
  {
   "cell_type": "markdown",
   "metadata": {},
   "source": [
    "### 3. \n",
    "Display a small image (similar to a matrix) \n",
    "\n",
    "![parrot](https://www.dropbox.com/scl/fi/gv96mb2fjvi494fyjrsdq/01101_L3_HW_parrot_2024-01-19.png?rlkey=pox4g91m0rzwdjuiea94nzo0s&dl=1)\n",
    "\n",
    "You find the image in the folder \"Lesson_03\". Run the cell below to display the image. \n"
   ]
  },
  {
   "cell_type": "code",
   "execution_count": null,
   "metadata": {},
   "outputs": [],
   "source": [
    "# Loading packages for plotting and reading the text-file\n",
    "import matplotlib.pyplot as plt\n",
    "import pandas as pd"
   ]
  },
  {
   "cell_type": "code",
   "execution_count": null,
   "metadata": {},
   "outputs": [],
   "source": [
    "df_parrot = pd.read_table(\"Parrot_EGA_monochrome_palette.txt\", sep=' ')\n",
    "arr1 = df_parrot.values  # We are working only with the array (part of the DataFrame)\n",
    "\n",
    "plt.imshow(arr1)"
   ]
  },
  {
   "cell_type": "code",
   "execution_count": null,
   "metadata": {},
   "outputs": [],
   "source": [
    "# the dataframe values (just a matrix without column names etc.)\n",
    "arr1"
   ]
  },
  {
   "cell_type": "markdown",
   "metadata": {},
   "source": [
    "### 3.1 \n",
    "\n",
    "- How many pixels are dark in column 30 (dark: pixel values of less than 30) ?\n",
    "    - Use a for loop to go through each pixel of column 30 \n",
    "    - and test for each pixel the condition (a value smaller than 30)\n",
    "    "
   ]
  },
  {
   "cell_type": "code",
   "execution_count": null,
   "metadata": {},
   "outputs": [],
   "source": [
    "# you need a variable to count the dark pixels, e.g.:\n",
    "px_dark_cnt = 0\n",
    "\n",
    "# you need to go through the column number 30\n",
    "for value_i in arr1[:,???]:   # remember where the index starts; which number is column 30?\n",
    "    if value_i ??? ???:       # write the condition (operator (1st \"???\") and test-value (2nd \"???\"))\n",
    "        px_dark_cnt += 1      # the += 1 means to add +1 to the variable on the left (\"px_dark_cnt\")\n",
    "\n",
    "print(\"The number of dark pixels is: \" + str(px_dark_cnt))"
   ]
  },
  {
   "cell_type": "markdown",
   "metadata": {},
   "source": [
    "### 3.2 \n",
    "Change all the pixels in columns 30 to 40 to white (value=255)\n",
    "This time the places where you need to change the code are indicated with more detailed informations inside `< >`.\n",
    "\n",
    "    - Use a for loop to go through all pixels of column 30 and 40 \n",
    "    - and assign a value of 255\n",
    "    - then plot the image\n",
    "    "
   ]
  },
  {
   "cell_type": "code",
   "execution_count": null,
   "metadata": {},
   "outputs": [],
   "source": [
    "# Find out the number of rows and columns with the numpy.array property \".shape\"; \n",
    "# first value is number of rows, second value is number of columns.\n",
    "arr1.shape"
   ]
  },
  {
   "cell_type": "code",
   "execution_count": null,
   "metadata": {},
   "outputs": [],
   "source": [
    "nrows = arr1.shape[0]  # Take first value for number of rows > index 0\n",
    "ncols = arr1.shape[1]  # Take second value for number of columns > index 1\n",
    "\n",
    "# A for loop to go through the columns (by index)\n",
    "for index_column in range(ncols):\n",
    "    # \"index_column\" will take values from 0 to 149 - you convince yourself with \"print(index_column)\"\n",
    "\n",
    "    # Which columns are of interest? \n",
    "    if index_column <condition1> <value1> <\"and\"/\"or\"> index_column <condition2> <value2>:\n",
    "        # Now that you are sure to have the correct column, what is next? \n",
    "        # - Use the column index inside the array[]\n",
    "        # - Select which/how many rows (1st \"???\")\n",
    "        # - What value should this/these pixel(s) get?\n",
    "        arr1[???, ???] = ??? \n",
    "        \n",
    "plt.imshow(arr1, cmap='grey')  # This should create an image that looks different now"
   ]
  },
  {
   "cell_type": "markdown",
   "metadata": {},
   "source": [
    "### 4\n",
    "We used the `numpy.array` within the `pandas.DataFrame` for this exercise. Let's go back to the original `pandas.DataFrame` and showcase how to do this more efficiently.\n",
    "\n",
    "In the cell below \"More efficient!\" you will see already prepared code that uses the `pandas.DataFrame`. The variables for the **attributes** to select the columns are **not yet correct**. \n",
    "\n",
    "1) Adjust the variables to recreate the final image from Exercise 3.2\n",
    "2) Duplicate the entire cell from (1)(copy + paste), and remove the `:increment` part inside `.iloc[ ]`. What happens?\n",
    "3) Duplicate the entire cell from (1)(copy + paste), and change `increment = 5`, what happens?\n",
    "\n",
    "Write your answers in a new `markdown cell` underneath.\n"
   ]
  },
  {
   "cell_type": "code",
   "execution_count": null,
   "metadata": {},
   "outputs": [],
   "source": [
    "# We make a copy of the dataset first so we can experiment - we use the copy package for this\n",
    "import copy\n",
    "\n",
    "# reload the image file\n",
    "df_parrot = pd.read_table(\"Parrot_EGA_monochrome_palette.txt\", sep=' ')"
   ]
  },
  {
   "cell_type": "code",
   "execution_count": null,
   "metadata": {},
   "outputs": [],
   "source": [
    "# More efficient!\n",
    "df_copy = copy.copy(df_parrot)  # this is our work copy\n",
    "\n",
    "index_start = 1\n",
    "index_end = 1\n",
    "increment = 1\n",
    "\n",
    "df_copy.iloc[:, index_start:index_end:increment] = 255\n",
    "plt.imshow(df_copy, cmap='grey')"
   ]
  },
  {
   "cell_type": "markdown",
   "metadata": {},
   "source": [
    "***\n",
    "### Submission\n",
    "Once you have finished the tasks,\n",
    "- save the notebook\n",
    "- donwload the notebook (right-click save)\n",
    "- Git > track/stage > commit > push\n",
    "- pause your session\n",
    "- upload the downloaded notebook (1 per group) to moodle."
   ]
  },
  {
   "cell_type": "code",
   "execution_count": null,
   "metadata": {},
   "outputs": [],
   "source": []
  }
 ],
 "metadata": {
  "kernelspec": {
   "display_name": "Python 3 (ipykernel)",
   "language": "python",
   "name": "python3"
  },
  "language_info": {
   "codemirror_mode": {
    "name": "ipython",
    "version": 3
   },
   "file_extension": ".py",
   "mimetype": "text/x-python",
   "name": "python",
   "nbconvert_exporter": "python",
   "pygments_lexer": "ipython3",
   "version": "3.10.11"
  }
 },
 "nbformat": 4,
 "nbformat_minor": 4
}
