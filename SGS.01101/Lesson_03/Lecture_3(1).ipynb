{
 "cells": [
  {
   "cell_type": "markdown",
   "metadata": {},
   "source": [
    "![title](https://www.dropbox.com/scl/fi/4te3zawuuvrd8g2iv6vmk/Header_SGS.01101_fancy.png?rlkey=eub0vjjwjqitlmxpf73o9c919&dl=1)"
   ]
  },
  {
   "cell_type": "markdown",
   "metadata": {
    "tags": []
   },
   "source": [
    "# Lesson 3 - Python programming"
   ]
  },
  {
   "cell_type": "markdown",
   "metadata": {},
   "source": [
    "## Introduction"
   ]
  },
  {
   "cell_type": "markdown",
   "metadata": {},
   "source": [
    "### Scope\n",
    "\n",
    "The aim of this lecture is to learn basics in programming with the language `Python`. In particular, this notebook will demonstrate:\n",
    "\n",
    "* Basics\n",
    "* Data structures\n",
    "* Indexing/indices\n",
    "* Functions\n",
    "* Control flow statements (loops and logic)\n"
   ]
  },
  {
   "cell_type": "markdown",
   "metadata": {},
   "source": [
    "\n",
    "Python is maybe the most popular open source language in science due to its versatility. Python is a language so there are rules (syntax). Due to the large user pool, there are thousands of pre-made (already programmed by others) modules that allow analysis of various data formats and application of various methods easily.\n",
    "\n",
    "\n",
    "\n",
    "We recall the baseline elements of programming from the previous lecture:\n",
    "\n",
    "* **input:** Get data from the keyboard, a file, or some other device. \n",
    "* **output:** Display data on the screen or send data to a file or other device. \n",
    "* **math:** Perform basic mathematical operations like addition and multiplication.\n",
    "* **conditional execution:** Check for certain conditions and execute the appropriate code. \n",
    "* **repetition:** Perform some action repeatedly, usually with some variation.\n",
    "\n"
   ]
  },
  {
   "cell_type": "markdown",
   "metadata": {},
   "source": [
    "The example from the previous lesson showed this function: `print('Hello World!')`.\n",
    "\n",
    "In one version, you saw a promt in which you entered the message that the `print()` function would `output`. This makes it already two of the elements.\n",
    "- `input`: We gave the `print()` function the input `'Hello World'` or whatever you wrote in the prompt.\n",
    "- `output`: We get the text output `Hello World!`\n",
    "\n",
    "Not so obvious are things that happen invisible for us in the `print()` function. But printing the sentence `'Hello World!'` actually covers **four** elements from the list. The additional two are:\n",
    "- `math`: in the background R takes the input and applies methods to create a string object, and defines how to display it on the screen \n",
    "- `conditional execution`: the print function checks if the input is valid \n",
    "\n",
    "*The `print()` function is actually written in a different programming language and many lines long. Great that someone else did that programming for us already  (╯°□°)╯*\n",
    "\n",
    "***"
   ]
  },
  {
   "cell_type": "markdown",
   "metadata": {},
   "source": [
    "## Basics\n",
    "### Comments"
   ]
  },
  {
   "cell_type": "code",
   "execution_count": 1,
   "metadata": {},
   "outputs": [],
   "source": [
    "# 2+2\n",
    "# This is \"only\" a comment (in fact, it is very useful)\n",
    "# A comment is created by using the \"#\" symbol. Everything after this symbol is not\n",
    "# executed by Python.\n",
    "# You will see no output from this cell ... that's how comments behave"
   ]
  },
  {
   "cell_type": "markdown",
   "metadata": {},
   "source": [
    "### Print Function\n",
    "\n",
    "The **`print()`** function can be used either directly with a string, or with a variable that represents a string:\n"
   ]
  },
  {
   "cell_type": "code",
   "execution_count": 2,
   "metadata": {
    "scrolled": true
   },
   "outputs": [
    {
     "name": "stdout",
     "output_type": "stream",
     "text": [
      "Hello World\n"
     ]
    }
   ],
   "source": [
    "# directly with a string\n",
    "print(\"Hello World\")"
   ]
  },
  {
   "cell_type": "code",
   "execution_count": 3,
   "metadata": {
    "scrolled": true
   },
   "outputs": [
    {
     "name": "stdout",
     "output_type": "stream",
     "text": [
      "Hello World\n"
     ]
    }
   ],
   "source": [
    "# with a variable\n",
    "string1=\"Hello World\"\n",
    "print(string1)"
   ]
  },
  {
   "cell_type": "markdown",
   "metadata": {},
   "source": [
    "***\n",
    "### *Exercise 1*\n",
    "Use the `print()` function to:\n",
    "\n",
    "- Print the string `\"My favorite number is:\"` \n",
    "- and in a next line to print your favorite number\n",
    "- Use the `+` function to combine the two (the sentence and the number) in one line, and then `print()` it\n",
    "- The `+` only works if both elements are strings (or numbers); You can use the `str()` function to transform something into a string.\n"
   ]
  },
  {
   "cell_type": "code",
   "execution_count": null,
   "metadata": {},
   "outputs": [],
   "source": [
    "# write your code here:\n",
    "# - remember the operator to combine strings \"+\"\n",
    "# - remember \"+\" does not work if one element is a number and the other one is a string\n",
    "# - the \"str()\" function transforms any input into a string !\n",
    "\n"
   ]
  },
  {
   "cell_type": "markdown",
   "metadata": {},
   "source": [
    "***"
   ]
  },
  {
   "cell_type": "markdown",
   "metadata": {},
   "source": [
    "### Relational Operators\n",
    "\n",
    "| Symbol | Task Performed |\n",
    "|----|---|\n",
    "| == | True, if it is equal |\n",
    "| !=  | True, if not equal to |\n",
    "| < | less than |\n",
    "| > | greater than |\n",
    "| <=  | less than or equal to |\n",
    "| >=  | greater than or equal to |"
   ]
  },
  {
   "cell_type": "code",
   "execution_count": 4,
   "metadata": {},
   "outputs": [
    {
     "data": {
      "text/plain": [
       "False"
      ]
     },
     "execution_count": 4,
     "metadata": {},
     "output_type": "execute_result"
    }
   ],
   "source": [
    "# What is the first and what is the second line of code doing?\n",
    "z = 10\n",
    "z == 1"
   ]
  },
  {
   "cell_type": "code",
   "execution_count": 5,
   "metadata": {
    "scrolled": true
   },
   "outputs": [
    {
     "data": {
      "text/plain": [
       "False"
      ]
     },
     "execution_count": 5,
     "metadata": {},
     "output_type": "execute_result"
    }
   ],
   "source": [
    "5>10"
   ]
  },
  {
   "cell_type": "code",
   "execution_count": 6,
   "metadata": {},
   "outputs": [
    {
     "data": {
      "text/plain": [
       "False"
      ]
     },
     "execution_count": 6,
     "metadata": {},
     "output_type": "execute_result"
    }
   ],
   "source": [
    "z==1"
   ]
  },
  {
   "cell_type": "code",
   "execution_count": 7,
   "metadata": {},
   "outputs": [
    {
     "data": {
      "text/plain": [
       "True"
      ]
     },
     "execution_count": 7,
     "metadata": {},
     "output_type": "execute_result"
    }
   ],
   "source": [
    "z!=2"
   ]
  },
  {
   "cell_type": "code",
   "execution_count": 8,
   "metadata": {},
   "outputs": [
    {
     "data": {
      "text/plain": [
       "True"
      ]
     },
     "execution_count": 8,
     "metadata": {},
     "output_type": "execute_result"
    }
   ],
   "source": [
    "z>1"
   ]
  },
  {
   "cell_type": "code",
   "execution_count": 9,
   "metadata": {},
   "outputs": [
    {
     "data": {
      "text/plain": [
       "False"
      ]
     },
     "execution_count": 9,
     "metadata": {},
     "output_type": "execute_result"
    }
   ],
   "source": [
    "z<3"
   ]
  },
  {
   "cell_type": "code",
   "execution_count": 10,
   "metadata": {
    "scrolled": true
   },
   "outputs": [
    {
     "data": {
      "text/plain": [
       "False"
      ]
     },
     "execution_count": 10,
     "metadata": {},
     "output_type": "execute_result"
    }
   ],
   "source": [
    "5>10"
   ]
  },
  {
   "cell_type": "markdown",
   "metadata": {},
   "source": [
    "## Data Structures\n",
    "In simple terms, it is the collection or group of data in a particular structure. An analogy with food could be that you store milk in a bottle, and biscuits in a box. There are some data structures that are more suitable to store a certain kind of data (milk in a bottle vs. cookies in a carton box).\n",
    "\n",
    "The main data structures in `Python` are:\n",
    "- `lists`: any concatenation of single data entries without otherwise specified structure --> `[]` or `list()`\n",
    "- `array`: similar to lists but strictly numeric data; Used for matrix representation; Normally using the `numpy` package --> `numpy.array([])`(1D), `numpy.array([[],[]])`(2D), ...\n",
    "- `dictionaries`: any data organized with specific `keys` --> `{\"a\":[1,2,3]}` (a list called `a`)\n",
    "- `pandas.DataFrame`: like matrices/tables with headers and option to represent time-series --> `pandas.DataFrame()`\n",
    "\n",
    "`Python` is a real programming language and thus it is sometimes \"picky\", meaning it requires specific data `structures`, and `data types`. You might see errors related to wrong data types and structures. Often you can translate the structure or data type into a different structure or type, e.g. \n",
    "\n",
    "- `list` to `matrix`: `numpy.array(my_list)`\n",
    "- `float` to `string`: `str(my_number)`\n",
    "  \n",
    "\n",
    "### Lists\n",
    "Lists are the most simple form of data structures in `Python`. They are initiated with the `[]` symbols which is the equivalent to writing `list()`. You can use the `type()` function to find about the `data structure` or `data type`.\n",
    "\n",
    "\n",
    "Values are included simply by separating them with a comma,\n",
    "e.g.:`[1,2,3,9,10]`"
   ]
  },
  {
   "cell_type": "code",
   "execution_count": 19,
   "metadata": {},
   "outputs": [
    {
     "data": {
      "text/plain": [
       "list"
      ]
     },
     "execution_count": 19,
     "metadata": {},
     "output_type": "execute_result"
    }
   ],
   "source": [
    "var1 = [1,2,4]\n",
    "type(var1)"
   ]
  },
  {
   "cell_type": "markdown",
   "metadata": {},
   "source": [
    "`Python` is doing also data type conversions for us. What happens if we add a `character` to the vector?"
   ]
  },
  {
   "cell_type": "code",
   "execution_count": 20,
   "metadata": {
    "scrolled": true
   },
   "outputs": [
    {
     "data": {
      "text/plain": [
       "[1, 2, 'u']"
      ]
     },
     "execution_count": 20,
     "metadata": {},
     "output_type": "execute_result"
    }
   ],
   "source": [
    "var1 = [1,2,'u']\n",
    "type(var1)\n",
    "var1"
   ]
  },
  {
   "cell_type": "markdown",
   "metadata": {},
   "source": [
    "> It is important to note here that all elements in the vector are changed to `character` at the same time ! You can see that each value and letter has quotation marks around them: `' '` "
   ]
  },
  {
   "cell_type": "code",
   "execution_count": null,
   "metadata": {},
   "outputs": [],
   "source": [
    "# There are several functions that check (True/False) if a variable is of a certain data structure (vector, matrix, list,...),\n",
    "# like so:\n",
    "is.vector(var1)"
   ]
  },
  {
   "cell_type": "markdown",
   "metadata": {},
   "source": [
    "### Lists\n",
    "Lists are more complex than simple vectors and are initiated with the `list()` function. **They can contain different data types (numeric & character)!**"
   ]
  },
  {
   "cell_type": "code",
   "execution_count": null,
   "metadata": {},
   "outputs": [],
   "source": [
    "a = list(1,'bread')\n",
    "a"
   ]
  },
  {
   "cell_type": "code",
   "execution_count": null,
   "metadata": {
    "scrolled": true
   },
   "outputs": [],
   "source": [
    "class(a)"
   ]
  },
  {
   "cell_type": "markdown",
   "metadata": {},
   "source": [
    "### Matrix (Arrays)\n",
    "<div>\n",
    "    <img src=\"https://drive.switch.ch/index.php/s/Htjt9X9IBDY8lVo/download\", width='200'>\n",
    "</div>\n",
    "\n",
    "A `matrix` is defined by 2 dimensions. If we go above two dimensions (e.g. a cube), we generally talk about an `array`. So a matrix is a special case of an array. \n",
    "\n",
    "The 2 dimensions are the rows and columns. If we define a matrix, we can use the function-arguments `nrow` and `ncol`, standing for number of rows and number of columns.\n"
   ]
  },
  {
   "cell_type": "code",
   "execution_count": null,
   "metadata": {
    "scrolled": true
   },
   "outputs": [],
   "source": [
    "m1 = matrix(c(1,2,3,4,5,6),\n",
    "            nrow = 2,\n",
    "            ncol = 3)\n",
    "class(m1)"
   ]
  },
  {
   "cell_type": "code",
   "execution_count": null,
   "metadata": {},
   "outputs": [],
   "source": [
    "m1"
   ]
  },
  {
   "cell_type": "markdown",
   "metadata": {},
   "source": [
    "We can find out about the dimensions with the `dim()` function."
   ]
  },
  {
   "cell_type": "code",
   "execution_count": null,
   "metadata": {},
   "outputs": [],
   "source": [
    "dim(m1)\n"
   ]
  },
  {
   "cell_type": "markdown",
   "metadata": {},
   "source": [
    "### Data Frame\n",
    "A `data.frame` structure is the most comprehensive data structure in `R`. \n",
    "- It can store `numeric` and `character` data types\n",
    "- Can have multiple dimensions like a `matrix`\n",
    "\n",
    "Data frames are very useful to work with tables that contain a mix of data. Data frames are created with the `data.frame()` function."
   ]
  },
  {
   "cell_type": "code",
   "execution_count": null,
   "metadata": {},
   "outputs": [],
   "source": [
    "df1 = data.frame(m1)\n",
    "class(df1)"
   ]
  },
  {
   "cell_type": "code",
   "execution_count": null,
   "metadata": {},
   "outputs": [],
   "source": [
    "df1"
   ]
  },
  {
   "cell_type": "markdown",
   "metadata": {},
   "source": [
    "As you can see above, `data.frames` are displayed also different than matrices. They have column names `colnames()`."
   ]
  },
  {
   "cell_type": "code",
   "execution_count": null,
   "metadata": {},
   "outputs": [],
   "source": [
    "colnames(df1)"
   ]
  },
  {
   "cell_type": "markdown",
   "metadata": {},
   "source": [
    "## Indexing\n",
    "Indexing refers to finding or accessing the data **at certain positions** in your variables. There are slightly different ways of indices, depending on the **data structure** (vector, list, matrix, data.frame).\n",
    "\n",
    "For multidimensional data (e.g. matrix, data.frame, array), we also need to provide more than one index (row-index, column-index).\n",
    "\n",
    "> In `R`, Indexing starts at **1** (in `Python` and some other languages it starts at 0).\n",
    "\n",
    "### Vector"
   ]
  },
  {
   "cell_type": "code",
   "execution_count": null,
   "metadata": {
    "scrolled": true
   },
   "outputs": [],
   "source": [
    "# Vector\n",
    "shopping_list = c('apple', 'orange', 'carrot','potato')\n",
    "shopping_list"
   ]
  },
  {
   "cell_type": "code",
   "execution_count": null,
   "metadata": {
    "scrolled": true
   },
   "outputs": [],
   "source": [
    "shopping_list[2]"
   ]
  },
  {
   "cell_type": "markdown",
   "metadata": {},
   "source": [
    "### List"
   ]
  },
  {
   "cell_type": "code",
   "execution_count": null,
   "metadata": {
    "scrolled": true
   },
   "outputs": [],
   "source": [
    "# List\n",
    "shopping_list = list('apple', 'orange', 'carrot','potato')\n",
    "shopping_list"
   ]
  },
  {
   "cell_type": "code",
   "execution_count": null,
   "metadata": {},
   "outputs": [],
   "source": [
    "# the list requires double brackets to get back the value:\n",
    "shopping_list[[2]]\n",
    "\n",
    "# # When using only a single bracket, we get the value in form of a new list back:\n",
    "# shopping_list[2]"
   ]
  },
  {
   "cell_type": "markdown",
   "metadata": {},
   "source": [
    "### Matrix"
   ]
  },
  {
   "cell_type": "code",
   "execution_count": null,
   "metadata": {
    "scrolled": true
   },
   "outputs": [],
   "source": [
    "m2 = matrix(data = c(1,2,3,4,5,6), nrow=2)\n",
    "m2"
   ]
  },
  {
   "cell_type": "code",
   "execution_count": null,
   "metadata": {
    "scrolled": true
   },
   "outputs": [],
   "source": [
    "m2[2,2]"
   ]
  },
  {
   "cell_type": "markdown",
   "metadata": {},
   "source": [
    "### Data frame"
   ]
  },
  {
   "cell_type": "code",
   "execution_count": null,
   "metadata": {
    "scrolled": true
   },
   "outputs": [],
   "source": [
    "df2 = data.frame(m2)\n",
    "df2"
   ]
  },
  {
   "cell_type": "code",
   "execution_count": null,
   "metadata": {
    "scrolled": true
   },
   "outputs": [],
   "source": [
    "df2[2,2]"
   ]
  },
  {
   "cell_type": "markdown",
   "metadata": {},
   "source": [
    "***\n",
    "### *Exercise 2*\n",
    "\n",
    "Use indexing to get the data stored in \n",
    "- the **2**nd position in the vector `var1`\n",
    "- the **3**rd position of the `shopping_list`\n",
    "- the **1**st row, **3**rd column of the data frame `df2`"
   ]
  },
  {
   "cell_type": "code",
   "execution_count": null,
   "metadata": {},
   "outputs": [],
   "source": [
    "# write your code here:"
   ]
  },
  {
   "cell_type": "markdown",
   "metadata": {},
   "source": [
    "***"
   ]
  },
  {
   "cell_type": "markdown",
   "metadata": {},
   "source": [
    "<font color=blue> $\\Rightarrow$ Indices can be used to **assess** OR to **assign** data</font>"
   ]
  },
  {
   "cell_type": "code",
   "execution_count": null,
   "metadata": {},
   "outputs": [],
   "source": [
    "# This shows us the value at position 2,2\n",
    "m2[2,2]"
   ]
  },
  {
   "cell_type": "code",
   "execution_count": null,
   "metadata": {
    "scrolled": true
   },
   "outputs": [],
   "source": [
    "# This writes a new value of 1000 at position 2,2\n",
    "m2[2,2] = 1000\n",
    "m2"
   ]
  },
  {
   "cell_type": "code",
   "execution_count": null,
   "metadata": {},
   "outputs": [],
   "source": [
    "shopping_list[[2]] = 'chocolate'\n",
    "shopping_list"
   ]
  },
  {
   "cell_type": "markdown",
   "metadata": {},
   "source": [
    "***\n",
    "## Indexing multiple items\n",
    "With the above methods, we can get always **1** item only. In the following you see how to get multiple items from the data structures in`R`.\n",
    "\n",
    "In general, you can use a **sequence** (of indices) for this, or a **start** and **end** index.\n",
    "\n",
    "### Vector\n"
   ]
  },
  {
   "cell_type": "code",
   "execution_count": null,
   "metadata": {
    "scrolled": true
   },
   "outputs": [],
   "source": [
    "var1 = c(1,2,7,8)\n",
    "var1[1:3]  # the 1:3 means from position 1 to 3"
   ]
  },
  {
   "cell_type": "markdown",
   "metadata": {},
   "source": [
    "### List"
   ]
  },
  {
   "cell_type": "code",
   "execution_count": null,
   "metadata": {},
   "outputs": [],
   "source": [
    "shopping_list[2:3]"
   ]
  },
  {
   "cell_type": "markdown",
   "metadata": {},
   "source": [
    "### Matrix"
   ]
  },
  {
   "cell_type": "code",
   "execution_count": null,
   "metadata": {},
   "outputs": [],
   "source": [
    "m2[1:2,2:3]  # the first part (1:2) means from row 1 to 2, and the second part (2:3) means from column 2 to 3"
   ]
  },
  {
   "cell_type": "markdown",
   "metadata": {},
   "source": [
    "### Data frame"
   ]
  },
  {
   "cell_type": "code",
   "execution_count": null,
   "metadata": {
    "scrolled": true
   },
   "outputs": [],
   "source": [
    "df2[1:2,2:3]"
   ]
  },
  {
   "cell_type": "markdown",
   "metadata": {
    "tags": []
   },
   "source": [
    "> Note that the data frame output shows the row names in this example (1,2). The column names (X2,X3) show us that really only the columns 2, and 3 were selected!\n",
    "\n",
    "### Tricks for indexing\n",
    "<font color=blue>$\\Rightarrow$In the case of `matrix` and `data.frame` objects, we can also select **entire** rows or columns by leaving the index for this dimension empty:</font><br>\n"
   ]
  },
  {
   "cell_type": "code",
   "execution_count": null,
   "metadata": {
    "scrolled": true
   },
   "outputs": [],
   "source": [
    "m2[,2:3]"
   ]
  },
  {
   "cell_type": "markdown",
   "metadata": {},
   "source": [
    "<font color=blue>$\\Rightarrow$A sequence of indices using either an additional `vector` </font><br>"
   ]
  },
  {
   "cell_type": "code",
   "execution_count": null,
   "metadata": {
    "scrolled": true
   },
   "outputs": [],
   "source": [
    "index_vector = c(1,3)\n",
    "df2[ ,index_vector]"
   ]
  },
  {
   "cell_type": "markdown",
   "metadata": {},
   "source": [
    "<font color=blue>$\\Rightarrow$or using the `seq()` function can be used</font><br>"
   ]
  },
  {
   "cell_type": "code",
   "execution_count": null,
   "metadata": {},
   "outputs": [],
   "source": [
    "seq(from=5,to=10,by = 2)"
   ]
  },
  {
   "cell_type": "code",
   "execution_count": null,
   "metadata": {},
   "outputs": [],
   "source": [
    "index_sequence = seq(from = 1,to = 2)\n",
    "df2[ ,index_sequence]"
   ]
  },
  {
   "cell_type": "markdown",
   "metadata": {},
   "source": [
    "***\n",
    "### *Exercise 3*\n",
    " \n",
    "- Create a sequence that goes backwards from 3 to 2 (assign it to the variable `my_sequence`\n",
    "- What happens if you use this sequence to select the columns of the data frame `df2`?\n",
    "- What happens if you use this sequence to assign a value"
   ]
  },
  {
   "cell_type": "code",
   "execution_count": null,
   "metadata": {},
   "outputs": [],
   "source": [
    "# write your code here (first two tasks)\n",
    "my_sequence = seq(from = ?, to = ?)\n",
    "my_sequence"
   ]
  },
  {
   "cell_type": "code",
   "execution_count": null,
   "metadata": {},
   "outputs": [],
   "source": [
    "df2[???]"
   ]
  },
  {
   "cell_type": "code",
   "execution_count": null,
   "metadata": {},
   "outputs": [],
   "source": [
    "# write your code here (third task)\n",
    "df2[???] = ???\n",
    "df2"
   ]
  },
  {
   "cell_type": "markdown",
   "metadata": {},
   "source": [
    "***"
   ]
  },
  {
   "cell_type": "markdown",
   "metadata": {},
   "source": [
    "## Functions\n",
    "\n",
    "We have already used several functions. You can identify them easily in `R` because they always require **parenthesis**:\n",
    "- `c()` to make a vector\n",
    "- `data.frame()` to make a matrix\n",
    "- `seq()` to make a sequence\n",
    "- ...\n",
    "\n",
    "You have also seen already that we can provide `arguments` to functions:\n",
    "- `matrix(nrow=, ncol=)`\n",
    "- You can find out about the arguments if you press the [Tab] key inside the parenthesis (in a \"Code Cell\")"
   ]
  },
  {
   "cell_type": "code",
   "execution_count": null,
   "metadata": {},
   "outputs": [],
   "source": [
    "# Try pressing the [Tab] key inside the parenthesis!\n",
    "matrix()\n",
    "c()"
   ]
  },
  {
   "cell_type": "markdown",
   "metadata": {},
   "source": [
    "### Defining a new function\n",
    "Below are examples of self-made functions.\n",
    "\n",
    "The most simple function:"
   ]
  },
  {
   "cell_type": "code",
   "execution_count": null,
   "metadata": {},
   "outputs": [],
   "source": [
    "thesimplestfunction = function(){\n",
    "    # here could be an operation\n",
    "    # but this is a very simple function that does absolutely nothing\n",
    "}"
   ]
  },
  {
   "cell_type": "markdown",
   "metadata": {},
   "source": [
    "### Using (calling) the function\n",
    "We execute or \"call\" the function the same way, we did with the other ones before"
   ]
  },
  {
   "cell_type": "code",
   "execution_count": null,
   "metadata": {
    "scrolled": true
   },
   "outputs": [],
   "source": [
    "thesimplestfunction()"
   ]
  },
  {
   "cell_type": "markdown",
   "metadata": {},
   "source": [
    "<font color=blue>$\\Rightarrow$But the real reasons to use our own functions are to do `math`, `conditional execution`, and `repetition`</font>"
   ]
  },
  {
   "cell_type": "code",
   "execution_count": null,
   "metadata": {},
   "outputs": [],
   "source": [
    "greet = function(name){\n",
    "    #This function greets a person, whose name is passed in as an argument\n",
    "    text_string = paste(\"Hello, \", name, \". Good morning!\")\n",
    "    print(text_string)\n",
    "} "
   ]
  },
  {
   "cell_type": "code",
   "execution_count": null,
   "metadata": {},
   "outputs": [],
   "source": [
    "greet('Nicolas')"
   ]
  },
  {
   "cell_type": "markdown",
   "metadata": {},
   "source": [
    "***\n",
    "### *Exercise 4*\n",
    "- Change the `greet` function into a function that prints your age (copy & paste is your friend!)"
   ]
  },
  {
   "cell_type": "code",
   "execution_count": null,
   "metadata": {},
   "outputs": [],
   "source": [
    "# write your code here\n"
   ]
  },
  {
   "cell_type": "markdown",
   "metadata": {},
   "source": [
    "***"
   ]
  },
  {
   "cell_type": "markdown",
   "metadata": {},
   "source": [
    "### Some more useful functions "
   ]
  },
  {
   "cell_type": "code",
   "execution_count": null,
   "metadata": {},
   "outputs": [],
   "source": [
    "var3 = c(10,40,299, 3)\n",
    "# Below   you find several functions. Use the vector \"var3\" as input to these arguments and see what they output\n",
    "#summary()\n",
    "#max()\n",
    "#min()\n",
    "#range()\n",
    "#length()"
   ]
  },
  {
   "cell_type": "markdown",
   "metadata": {},
   "source": [
    "## Control Flow Statements\n",
    "Often we need to control how our program executes a task, to include `conditional` information, or simply to prevent our model from crashing. \n",
    "\n",
    "\n",
    "- A navigation app will suggest the route ***`for`*** which the travel time will be the shortest\n",
    "\n",
    "- The app should take a different route ***`if`*** there is a traffic jam on the shortest route, and use a different combination of possible paths ***`if`*** we are on foot, or ***`if`*** we are going by car. \n",
    "\n",
    "- And ***`while`*** we are driving, the app should still check if the jam persists or dissolves, so we can reevaluate if we should go back to the old route\n",
    "\n"
   ]
  },
  {
   "cell_type": "markdown",
   "metadata": {},
   "source": [
    "![Gmap.png](https://www.dropbox.com/scl/fi/eyqvxydf118jyrhdz9b8l/01101_L3_gmap.jpg?rlkey=3yajszof5wy7t9kh8nyb448nu&dl=1)\n",
    "\n",
    "*Figure 1: Control flow in navigation example. Depending on transport means, here by foot (left) or by car (right), and depending on traffic situation, a different route is the fastest.*"
   ]
  },
  {
   "cell_type": "markdown",
   "metadata": {},
   "source": [
    "Control flow statements are created similar to a function\n",
    "```\n",
    "if(value1 conditional value2){\n",
    "        # then some operation\n",
    "}\n",
    "```\n",
    "\n"
   ]
  },
  {
   "cell_type": "markdown",
   "metadata": {},
   "source": [
    "### If and Else Statements\n",
    "    \n",
    "#### if\n",
    "- check if something is True \n",
    "    - if it is True --> do it\n",
    "    - if it is not True (False) --> don't do it\n",
    " "
   ]
  },
  {
   "cell_type": "markdown",
   "metadata": {},
   "source": [
    "Notice that the conditional statement is within the `parenthesis` (`( )`), and what shall be done is within the `swirly brackets` (`{ }`)"
   ]
  },
  {
   "cell_type": "code",
   "execution_count": null,
   "metadata": {},
   "outputs": [],
   "source": [
    "num = 3\n",
    "if(num <= 30){\n",
    "    print(\"The value of the variable 'num' is smaller or equal to 30 (TRUE)\")\n",
    "    }"
   ]
  },
  {
   "cell_type": "code",
   "execution_count": null,
   "metadata": {},
   "outputs": [],
   "source": [
    "# Nothing is outputted because num > 10 is FALSE\n",
    "num = 3\n",
    "if(num > 30){\n",
    "    print('Is this TRUE? If it is printed it is!')\n",
    "    }"
   ]
  },
  {
   "cell_type": "code",
   "execution_count": null,
   "metadata": {},
   "outputs": [],
   "source": [
    "if(TRUE){\n",
    "    print(\"TRUE is True\")\n",
    "    }"
   ]
  },
  {
   "cell_type": "code",
   "execution_count": null,
   "metadata": {},
   "outputs": [],
   "source": [
    "# Note that 1 stands also for TRUE and 0 for FALSE\n",
    "if(1){\n",
    "    print(\"1 is TRUE\")\n",
    "    }\n",
    "if(0){\n",
    "    print(\"0 is FALSE\")\n",
    "    }\n",
    "\n",
    "if(!0){\n",
    "    print(\"The exclamation mark means <<not>>; and 'not FALSE equals TRUE'\")\n",
    "    }"
   ]
  },
  {
   "cell_type": "markdown",
   "metadata": {},
   "source": [
    "#### else: \n",
    "- if resulted in FALSE. Now another action can take place (not neccessary to have an `else`):\n",
    "    - do something if and only if the `if` is FALSE"
   ]
  },
  {
   "cell_type": "code",
   "execution_count": null,
   "metadata": {},
   "outputs": [],
   "source": [
    "# the else statement executes whenever the previous if statement is FALSE\n",
    "# else needs to be ALWAYS directly behind the swirly bracket of the previous if\n",
    "num = 4\n",
    "if(num == 1){\n",
    "    print(\"num is 1\")\n",
    "}else{  # <- the else needs to be here\n",
    "    print(\"num is not 1\")\n",
    "}"
   ]
  },
  {
   "cell_type": "markdown",
   "metadata": {},
   "source": [
    "### Or / Not / And"
   ]
  },
  {
   "cell_type": "markdown",
   "metadata": {},
   "source": [
    "| Logical Operator | Name |\tDescription |\n",
    "| --- | --- | --- |\n",
    "| **&** |AND|\tIf both the operands are TRUE then condition becomes TRUE. |\n",
    "| **$|$** |OR|\tIf any of the two operands are TRUE then condition becomes TRUE. |\n",
    "| **!** |NOT|\tUsed to reverse the logical (not FALSE becomes TRUE, not TRUE becomes FALSE) |"
   ]
  },
  {
   "cell_type": "code",
   "execution_count": null,
   "metadata": {},
   "outputs": [],
   "source": [
    "num = 4\n",
    "num > 0 & num  > 15\n",
    "# You can use parenthesis to make it more clear\n",
    "# (num > 0) & (num > 15)"
   ]
  },
  {
   "cell_type": "code",
   "execution_count": null,
   "metadata": {},
   "outputs": [],
   "source": [
    "# both the conditions are true, so the num will be printed out\n",
    "if(num > 0 & num  < 15){\n",
    "    print(paste(num , \"is bigger than 0 and smaller than 15\"))\n",
    "}\n",
    "    "
   ]
  },
  {
   "cell_type": "code",
   "execution_count": null,
   "metadata": {},
   "outputs": [],
   "source": [
    "# | this operator means \"OR\"\n",
    "# num > 0 is True, num > 15 is False\n",
    "# Since the first condition is True, the overall condition is True (is EITHER statement True?)\n",
    "num = 4\n",
    "num > 0 | num  > 15"
   ]
  },
  {
   "cell_type": "markdown",
   "metadata": {},
   "source": [
    "### The \"for\" loop\n",
    "For loops iterates over a given `sequence`, `vector`, or `list`.\n",
    "You will see that the structure is again similar to what we had before:\n",
    "\n",
    "```\n",
    "for(value in sequence){\n",
    "    # do something (with the value)\n",
    "}\n",
    "```\n",
    "\n",
    "Here is an example:"
   ]
  },
  {
   "cell_type": "code",
   "execution_count": null,
   "metadata": {},
   "outputs": [],
   "source": [
    "# looping through a sequence\n",
    "sequence = seq(from = 1,to = 10,by = 2)\n",
    "for(i in sequence){\n",
    "    print(i)\n",
    "}"
   ]
  },
  {
   "cell_type": "code",
   "execution_count": null,
   "metadata": {},
   "outputs": [],
   "source": [
    "# looping through a vector and print the values\n",
    "primes = c(2, 3, 5, 7)\n",
    "for(prime in primes){\n",
    "    print(prime)\n",
    "}\n",
    "    "
   ]
  },
  {
   "cell_type": "code",
   "execution_count": null,
   "metadata": {},
   "outputs": [],
   "source": [
    "# looping through a list\n",
    "for(i in shopping_list){\n",
    "    print(i)\n",
    "}"
   ]
  },
  {
   "cell_type": "markdown",
   "metadata": {},
   "source": [
    "***\n",
    "### *Exercise 5*\n",
    "Write a program that counts the number of common elements in the vectors \n",
    "\n",
    "`a = c(1, 1, 2, 3, 5, 8, 13, 21, 34, 55, 89)` and \n",
    "\n",
    "\n",
    "`b = c(1, 2, 3, 4, 5, 6, 7, 8, 9, 10, 11, 12, 13)`"
   ]
  },
  {
   "cell_type": "code",
   "execution_count": null,
   "metadata": {},
   "outputs": [],
   "source": [
    "# replace the ???\n",
    "a = c(1, 1, 2, 3, 5, 8, 13, 21, 34, 55, 89) \n",
    "b = c(1, 2, 3, 4, 5, 6, 7, 8, 9, 10, 11, 12, 13)\n",
    "counted_in_both = ???\n",
    "for(i in ???){\n",
    "    for(j in ???){\n",
    "        if(??? == ???){\n",
    "            counted_in_both = counted_in_both + 1\n",
    "        }\n",
    "    }\n",
    "}\n",
    "counted_in_both"
   ]
  },
  {
   "cell_type": "markdown",
   "metadata": {},
   "source": [
    "***"
   ]
  },
  {
   "cell_type": "code",
   "execution_count": null,
   "metadata": {},
   "outputs": [],
   "source": []
  }
 ],
 "metadata": {
  "kernelspec": {
   "display_name": "Python 3 (ipykernel)",
   "language": "python",
   "name": "python3"
  },
  "language_info": {
   "codemirror_mode": {
    "name": "ipython",
    "version": 3
   },
   "file_extension": ".py",
   "mimetype": "text/x-python",
   "name": "python",
   "nbconvert_exporter": "python",
   "pygments_lexer": "ipython3",
   "version": "3.10.11"
  }
 },
 "nbformat": 4,
 "nbformat_minor": 4
}
