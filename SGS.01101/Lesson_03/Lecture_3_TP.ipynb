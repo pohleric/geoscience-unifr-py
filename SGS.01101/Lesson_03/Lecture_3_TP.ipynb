{
 "cells": [
  {
   "cell_type": "markdown",
   "metadata": {},
   "source": [
    "## Tasks - Lecture 3 - R Basics"
   ]
  },
  {
   "cell_type": "markdown",
   "metadata": {
    "tags": []
   },
   "source": [
    "### To be completed in the second half of the class or after class\n",
    "\n",
    "Use this Jupyter notebook for the tasks. Solve the tasks in new cells and paragraphs at the bottom of this notebook.  The individual tasks are listed below. You can write in English, German, or French. Make sure to stick to these two rules:\n",
    "- Notebooks have to be submitted (uploaded) the latest <font color=red>**by the  submission deadline (see moodle)**</font> via Moodle.\n",
    "- The notebook filename must be in the format `Name1Name2Name3_LectureN.ipynb`\n",
    "\n",
    "where Name1, Name2 and Name3 are your family names, and the \"N\" in `LectureN` stands for the number of our lecture, respectively. This means you have to **rename this notebook**.\n",
    "\n"
   ]
  },
  {
   "cell_type": "markdown",
   "metadata": {
    "tags": []
   },
   "source": [
    "## Tasks\n"
   ]
  },
  {
   "cell_type": "markdown",
   "metadata": {},
   "source": [
    "#### 1. Fill in the `???` so that all of the statements evaluate to TRUE. "
   ]
  },
  {
   "cell_type": "code",
   "execution_count": null,
   "metadata": {},
   "outputs": [],
   "source": [
    "var1 = ???\n",
    "var6 = ???\n",
    "var2 = ???\n",
    "var3 = ???\n",
    "\n",
    "############################################\n",
    "## Don't edit anything below this comment ##\n",
    "############################################\n",
    "\n",
    "var1 >= var6\n",
    "var2 != var1                 # the != means not equal to\n",
    "var6 < var1 & var6 < var2\n",
    "var2/var6 == 2\n",
    "\n",
    "# the following function \"is.character\" is doing exactly what you will hopefully think it does; it checks if the variable is of type character\n",
    "# use online resources to find out what the nchar() function is doing\n",
    "is.character(var3)\n",
    "nchar(var3) == 12"
   ]
  },
  {
   "cell_type": "markdown",
   "metadata": {},
   "source": [
    "#### 2. Create a function that greets a person \"Bonjour\"(6-16h), \"Bonsoir\"(16-22h) and \"Bonne Nuit\"(After 22h) based on the time of day. This function takes the `name` of the person and `time` as input arguments. Sample Input: `name= Eric`, `time = 1900` Sample Output: \"Bonsoir Eric!\". Remember that multiple logical operations can be combined, e.g.: (x > 4 & x <= 8).  \n",
    "\n",
    "![Flowchart_program_2](https://www.dropbox.com/scl/fi/n11p1k7yl723rwp1sk9fs/01101_L3_HW_2024-01-19.png?rlkey=x80olkaw3k4w3a05h1qszmkyk&dl=1)\n",
    "\n",
    "*Figure 1: Flowchart of task 2.*"
   ]
  },
  {
   "cell_type": "code",
   "execution_count": null,
   "metadata": {},
   "outputs": [],
   "source": [
    "# here is a rough outline:\n",
    "# use the print() function\n",
    "greet = function(???, ???){\n",
    "    if(??? ??? ???){\n",
    "        ???\n",
    "    }\n",
    "    if(??? ??? ???){\n",
    "        ???\n",
    "    }\n",
    "    if(??? ??? ???){\n",
    "        ???\n",
    "    }\n",
    "}\n",
    "\n",
    "# test the three different cases\n",
    "greet(???, ???)\n",
    "greet(???, ???)\n",
    "greet(???, ???)"
   ]
  },
  {
   "cell_type": "code",
   "execution_count": null,
   "metadata": {},
   "outputs": [],
   "source": []
  },
  {
   "cell_type": "markdown",
   "metadata": {},
   "source": [
    "#### 3. Display a small image (similar to a matrix) \n",
    "![parrot](https://www.dropbox.com/scl/fi/gv96mb2fjvi494fyjrsdq/01101_L3_HW_parrot_2024-01-19.png?rlkey=pox4g91m0rzwdjuiea94nzo0s&dl=1)\n",
    "\n",
    "You find the image on moodle and in the folder of this notebook. Run the cell below to display the image. \n",
    "- Un-comment the last two lines of code to rotate the image"
   ]
  },
  {
   "cell_type": "code",
   "execution_count": 7,
   "metadata": {},
   "outputs": [
    {
     "name": "stderr",
     "output_type": "stream",
     "text": [
      "Loading required package: readPNG\n",
      "\n",
      "Warning message in library(package, lib.loc = lib.loc, character.only = TRUE, logical.return = TRUE, :\n",
      "“there is no package called ‘readPNG’”\n"
     ]
    }
   ],
   "source": []
  },
  {
   "cell_type": "code",
   "execution_count": 1,
   "metadata": {},
   "outputs": [
    {
     "data": {
      "image/png": "[encoded data removed]",
      "text/plain": [
       "plot without title"
      ]
     },
     "metadata": {
      "image/png": {
       "height": 420,
       "width": 420
      }
     },
     "output_type": "display_data"
    }
   ],
   "source": [
    "# You need to change the path to where your picture (textfile) is saved. \n",
    "# You can add the file into your \"data\" folder\n",
    "# \n",
    "# The path is then:\n",
    "path = \"Parrot_EGA_monochrome_palette.txt\"\n",
    "\n",
    "# this reads the image\n",
    "img = read.table(path)\n",
    "\n",
    "# by default, read.table creates a \"data.frame\". \n",
    "# To display the image using the \"image\"-function, we transform it into a matrix object\n",
    "img_mat = as.matrix(img)\n",
    "\n",
    "# you can check\n",
    "image(img_mat, col  = gray((0:255)/255))\n",
    "\n",
    "# # or rotated\n",
    "# rotate <- function(x) t(apply(x, 2, rev))\n",
    "# image(rotate(img_mat), col  = gray((0:255)/255))"
   ]
  },
  {
   "cell_type": "markdown",
   "metadata": {},
   "source": [
    "#### 3.1 How many pixels are dark in column 30 (dark: pixel values of less than 30) \n",
    "    - Use a for loop to go through each pixel of column 30 \n",
    "    - and test for each pixel the condition (a value smaller than 30)\n",
    "  \n",
    "![task3.1](https://www.dropbox.com/scl/fi/id6oatp55kgwtqt2o8z3x/01101_L3_HW_task3.1_2024-02-25.png?rlkey=nep8xdtmcnd4ao8u0pi047zyg&dl=1)  \n",
    "*Figure 2: Program 3.1 as flowchart*\n",
    "    "
   ]
  },
  {
   "cell_type": "code",
   "execution_count": 2,
   "metadata": {},
   "outputs": [
    {
     "data": {
      "text/html": [
       "200"
      ],
      "text/latex": [
       "200"
      ],
      "text/markdown": [
       "200"
      ],
      "text/plain": [
       "[1] 200"
      ]
     },
     "metadata": {},
     "output_type": "display_data"
    }
   ],
   "source": [
    "nrow(img_mat)"
   ]
  },
  {
   "cell_type": "code",
   "execution_count": null,
   "metadata": {},
   "outputs": [],
   "source": [
    "# you need a variable to count\n",
    "???\n",
    "\n",
    "\n",
    "# you need to go through the column number 30 - look at the example in the CW - img_mat[???, ???]\n",
    "for(??? in ???){\n",
    "    \n",
    "}"
   ]
  },
  {
   "cell_type": "markdown",
   "metadata": {},
   "source": [
    "#### 3.2 Change all the pixels in columns 30:40 to white (value=255)\n",
    "    - Use a for loop to go through all pixels of column 30 and 40 \n",
    "    - and assign a value of 255\n",
    "    - then plot the image\n",
    "    "
   ]
  },
  {
   "cell_type": "code",
   "execution_count": null,
   "metadata": {},
   "outputs": [],
   "source": [
    "# The NROW() function gives us the number of rows - use the info for multiple indexing from the CW\n",
    "for(??? in seq(from = 1 , to = NROW(img_mat))){\n",
    "    img_mat[???, ???] = ??? \n",
    "}\n",
    "image(???, col  = gray((0:255)/255))"
   ]
  },
  {
   "cell_type": "markdown",
   "metadata": {},
   "source": [
    "### Submission\n",
    "Once you have finished the tasks,\n",
    "- save the notebook\n",
    "- donwload the notebook (right-click save)\n",
    "- pause your session\n",
    "- upload the downloaded notebook on moodle."
   ]
  }
 ],
 "metadata": {
  "kernelspec": {
   "display_name": "Python 3 (ipykernel)",
   "language": "python",
   "name": "python3"
  },
  "language_info": {
   "codemirror_mode": {
    "name": "ipython",
    "version": 3
   },
   "file_extension": ".py",
   "mimetype": "text/x-python",
   "name": "python",
   "nbconvert_exporter": "python",
   "pygments_lexer": "ipython3",
   "version": "3.10.11"
  }
 },
 "nbformat": 4,
 "nbformat_minor": 4
}
