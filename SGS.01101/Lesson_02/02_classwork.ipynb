{
 "cells": [
  {
   "cell_type": "markdown",
   "metadata": {},
   "source": [
    "![title](https://www.dropbox.com/scl/fi/4te3zawuuvrd8g2iv6vmk/Header_SGS.01101_fancy.png?rlkey=eub0vjjwjqitlmxpf73o9c919&dl=1)"
   ]
  },
  {
   "cell_type": "markdown",
   "metadata": {},
   "source": [
    "# Lesson 2 - Notebooks and first R program"
   ]
  },
  {
   "cell_type": "markdown",
   "metadata": {},
   "source": [
    "## Introduction"
   ]
  },
  {
   "cell_type": "markdown",
   "metadata": {},
   "source": [
    "### Scope\n",
    "\n",
    "The aim of this lecture is to learn how to use Jupyter Notebooks and to write your first own small R program.\n",
    "\n",
    "* How to Jupyter Notebook\n",
    "* Create, rename, edit, and save notebooks\n",
    "* Create a R program\n",
    "* Work independently on tasks and submit this work as a notebook (homework)"
   ]
  },
  {
   "cell_type": "markdown",
   "metadata": {},
   "source": [
    "### Notes on group work and submission of notebooks (homework)\n",
    "* We will work in **groups of three students**. Keep these groups for the entire period of the course.\n",
    "* In each lecture you will create a notebook, or work on a notebook that we provide. In general, we will have one lecture notebook or presentation for the first hour, and you will later on work on in a notebook yourself to finish your tasks. \n",
    "* Notebooks have to be submitted (uploaded on Moodle) the same week according to the deadline set on Moodle.\n",
    "* Always name the notebooks with your **family names** and the number of the lecture. For example, the notebook for lecture 4 should be called `Name1Name2Name3_Lecture4`.\n",
    "* You can write in English, French, or German to answer the tasks (programming obviously only works in English).\n"
   ]
  },
  {
   "cell_type": "markdown",
   "metadata": {},
   "source": [
    "### Approach\n",
    "We are going to work with the programming language **R** integrated in so-called **Jupyter Notebooks**. What you are reading right now is a Jupyter Notebook. It is an interactive website in which you can run code and write text.\n",
    "\n",
    "The reason we are using R is manyfold. 1) It is one of the most popular scientific programming languages. 2) The syntax (that is how you have to write the code in order to have R execute it) is relatively clear (easier than Python!) and easy to understand. 3) R is developped as open source and is free to download (open source = the code behind the language is open access; free = there is no fee you have to pay for using it). So you do not have to pay for licenses. You can install R also on your own computer (Windows/Mac/Linux) - see the Tutorial on moodle for how to install R and Rstudio.\n",
    "\n",
    "R is pre-installed on RENKU, as well as on the PC-pool computers. But it is also very easy to install on your own computer.\n"
   ]
  },
  {
   "cell_type": "markdown",
   "metadata": {},
   "source": [
    "***\n",
    "\n",
    "## The first notebook\n",
    "\n",
    "In the following you will find a run through of the basics and most important functions of Jupyter notebooks. The program is called `Jupyter Notebook`, which is run within renku and renkulab. We will refer to Jupyter Notebooks also simply as `notebook`.\n",
    "\n",
    "### Starting  of Jupyter Notebooks\n",
    "\n",
    "#### RENKU\n",
    "On RENKU you can simply open a new notebook by clicking on the \"New Notebook\" with the `R` symbol in the Launcher. If you do not see the Launcher window, you can `File --> New Launcher`.\n",
    "\n",
    "#### Own computer\n",
    "It is possible to run `R` and `RStudio` (these two are very easy to install - see instructions on moodle website) on your own computer. For the exact same setup as on this renku-server it is a bit more complicated. Instructions can be found on the rekulab.io website. You can run all the code that you create in a Notebook also in RStudio. \n",
    "\n",
    "\n"
   ]
  },
  {
   "cell_type": "markdown",
   "metadata": {},
   "source": [
    "### Create a new notebook\n",
    "\n",
    "The following instructions are all related to the renkulab.io website. In the Launcher window, you can click on new `Jupyter Notebook` with `R`. A new window will open that should look similar to Figure 1. This is our first Jupyter Notebook.\n"
   ]
  },
  {
   "cell_type": "markdown",
   "metadata": {},
   "source": [
    "![_2_fig_3.png](https://www.dropbox.com/scl/fi/v5dti93x5yhla08tqypka/01101_L2_f1.png?rlkey=nbgyfd79pcfh9jwc083og3taj&dl=1)"
   ]
  },
  {
   "cell_type": "markdown",
   "metadata": {},
   "source": [
    "*Figure 1: New and empty Jupyter Notebook - Check that the `R`-symbol is displayed in the upper right corner* "
   ]
  },
  {
   "cell_type": "markdown",
   "metadata": {},
   "source": [
    "### Open, Save, Rename, Close\n",
    "We start exploring the functionalities of a Jupyter notebook with the three basic functions:\n",
    "* identify where your notebook is \n",
    "    * on the lefthand side you can see the folder structure (&#x1F4C1;)\n",
    "    * you are probably in the folder `/SGS.01101/Lecture_2/` where this notebook is located\n",
    "    * your new notebook was probably created here too and has the name `Untitled notebook.ipynb`\n",
    "* saving a notebook - simply click the &#x1F4BE; button to save \n",
    "* rename a notebook - right-click on the notebook and select `Rename`\n",
    "* close a notebook - save (&#x1F4BE;) and simply close the the notebook window in the window bar above\n",
    "* re-open a notebook - navigate to the relevant folder and double click on a notebook\n",
    "\n",
    "  "
   ]
  },
  {
   "cell_type": "markdown",
   "metadata": {},
   "source": [
    "### Ending your work session\n",
    "\n",
    "The newsets version of Renku allows you to simply pause your session and resume it the next time you come back. In the top bar you can see a \"Pause button\"(&#x23F8;). Nothing else needed.\n",
    "\n"
   ]
  },
  {
   "cell_type": "markdown",
   "metadata": {},
   "source": [
    "***\n",
    "## Working with Jupyter Notebooks\n",
    "\n",
    "If you have closed your notebook just now, reopen it:\n",
    "- click on &#x1F4C1; on the lefthand side\n",
    "- go to /SGS.01101/Lecture_2/ and double click the `Untitled` notebook or whatever name you gave it\n",
    "\n",
    "\n",
    "Each Jupyter notebook consists of cells like the one displayed in Fig. 1 and Fig.2. **Cells can either contain programmming code or formatted text, including graphics**. \n",
    "You can add cells by chosing in the menu `Insert` and you can change the order of cells by dragging them up or down with the mouse. At any point, only *one* cell can be active and only one cell can be moved up or down. An active cell is marked with a <font color=blue>blue</font> or <font color=green>green</font> bar on the lefthand side (see Fig. 2). "
   ]
  },
  {
   "cell_type": "code",
   "execution_count": null,
   "metadata": {},
   "outputs": [],
   "source": []
  },
  {
   "cell_type": "markdown",
   "metadata": {},
   "source": [
    "![_2_fig_4.png](https://www.dropbox.com/scl/fi/vfzgf117q5mt5zd6f82le/01101_L2_f2.png?rlkey=94k3vazsaz6o09irondjnzwou&dl=1)"
   ]
  },
  {
   "cell_type": "markdown",
   "metadata": {},
   "source": [
    "*Figure 2: Jupyter Notebook with three cells. The first and last cell are of type `Code` and the middle one is of type `Markdown`. You can recognize the `Code` type cells because they start with the `In [ ]` statement.*"
   ]
  },
  {
   "cell_type": "markdown",
   "metadata": {},
   "source": [
    "\n",
    "\n",
    "<font color=blue> $\\Rightarrow$ Do not forget to save the notebook on a regular basis (floppy disk symbol in the upper left). *Jupyter also automatically saves the notebook though*.</font><br><br>\n",
    "\n",
    "<font color=blue> $\\Rightarrow$ There is only a very limited 'Undo' function. That means you cannot undo (most) changes made to your notebook. However, in the menu under `File/Save and Checkpoint` you can define checkpoints. A checkpoint is a saved version of the notebook to which you can return via `File/Revert to Checkpoint`.</font>"
   ]
  },
  {
   "cell_type": "markdown",
   "metadata": {},
   "source": [
    "## Text and graphics in Jupyter Notebooks\n"
   ]
  },
  {
   "cell_type": "markdown",
   "metadata": {},
   "source": [
    "### Text composition\n",
    "\n",
    "Before we get into programming with `R` we will learn some basic functions to write and format text in notebooks.\n",
    "The cell below is of type `Markdown` and empty. \n",
    "\n",
    "You can change the type of cell by selecting a different type in the menu bar dropdown menu [`Markdown` or `Code`].\n",
    "We keep the type `Markdown` and write the following:\n",
    "\n",
    "\n",
    "`# My first Notebook`<br>\n",
    "`Hello World!`\n"
   ]
  },
  {
   "cell_type": "markdown",
   "metadata": {},
   "source": []
  },
  {
   "cell_type": "markdown",
   "metadata": {},
   "source": [
    "### Executing cells\n",
    "\n",
    "To execute a cell we use the key combination `Shift`+`Enter` (alternatively you can click the `Run`(Play) button in the menu bar).\n",
    "\n",
    "The cell was executed and is now displayed in a formatted form. The `#` symbol has made the first line of text a heading (in fact the highest level of heading). The second line appears as standard text (text body).\n",
    "\n",
    "If we now try to place the cursor in this cell it does not work. In order to change the content of the cell we have to double click. The cell switches into the editing mode again. You can change, for example, `Hello World` to `Hello Fribourg`. Execute the cell again (`Shift`+`Enter`).<br><br>\n",
    "\n",
    "If you execute the cell without anything written in it, Jupyter will display the type of of cell (in this case: `Type Markdown and LaTeX: 𝛼2`).<br><br>\n",
    "\n",
    "\n",
    "<font color=blue> $\\Rightarrow$ Instead of executing every cell individually, we can execute all cells in a notebook at once. This is done by chosing in the menu `Cell/Run All`. Depending on how much code (markdown and python) is included in the notebook, and whether images are (down)loaded in the cells, this can take several seconds! If we have an error anywhere in the code, Jupyter will stop the notebook execution at the cell, where the error occurs. This makes it easy for us to find the mistake and correct it.\n"
   ]
  },
  {
   "cell_type": "markdown",
   "metadata": {},
   "source": [
    "### Insert and delete cells\n",
    "\n",
    "To insert a new cell select an existing cell (for example this one) and select in the menu `Insert/Cell Above`. New cells will by default be of type `Code`. Select `Markdown` from the dropdown menu in the menu bar if you want to write text. Write some text into the cell ('any text will do!') and execute the cell `Shift` + `Enter`. \n",
    "\n",
    "You can delete a cell by selecting it, and then chosing from the menu bar `Edit/Delete Cells`.\n"
   ]
  },
  {
   "cell_type": "markdown",
   "metadata": {},
   "source": [
    "### Formating text\n",
    "\n",
    "In the first small example (`# My first Notebook` `Hello World!`) you have seen that the text can appear in different ways, i.e. not just simple text body (<- this is plain text body). Similar to MS Office Word, the `Markdown` language enables us to format text in various ways (*italic*, **bold**, different headings, etc.). Because we can utilize `HTML`code in the `Markdown` cells, we have plenty of possibilities to format our text.\n",
    "In our example, the use of `#` has resulted in the first line of text to be displayed as bold and large heading.\n",
    "\n",
    "\n",
    "On the website https://medium.com/ibm-data-science-experience/markdown-for-jupyter-notebooks-cheatsheet-386c05aeebed you will find a summary of different `Markdown` commands to change the text formatting.\n"
   ]
  },
  {
   "cell_type": "markdown",
   "metadata": {},
   "source": [
    "Is the next cell is a very short overview of how different `Markdown` commands change the text appearances. You can double click into the next cell to see which command is causing which effect. Simply execute the cell again to see the result:"
   ]
  },
  {
   "cell_type": "markdown",
   "metadata": {},
   "source": [
    "# Heading 1\n",
    "## Heading 2\n",
    "### Heading 3\n",
    "#### Heading 4\n",
    "\n",
    "normal text body \n",
    "\n",
    "*italic font*\n",
    "\n",
    "**bold font** \n",
    "\n",
    "***italic bold font*** \n",
    "\n",
    "`code`\n",
    "\n",
    "\n",
    "```\n",
    "a code block\n",
    "do you notice the different font type of the code section?\n",
    "```\n",
    "\n",
    "\n",
    "here comes a line to seperate a paragraph:\n",
    "*** \n",
    "\n",
    "- a list entry\n",
    "- another one\n",
    "    - with a different indent\n",
    "        - and even further\n",
    "            - and further ...\n",
    "\n",
    "1. the same with numbers\n",
    "2. works ...\n",
    "    * except that indents don't work as expected\n",
    "3. not a big deal (the purpose is to have some basic structuring of the text - not to win a design award!)\n",
    "\n",
    "> and finally quotes\n",
    "***\n"
   ]
  },
  {
   "cell_type": "markdown",
   "metadata": {},
   "source": [
    "- > You can combine **different** `Markdown` *commands* in a single ***line***"
   ]
  },
  {
   "cell_type": "markdown",
   "metadata": {},
   "source": [
    "### Insert graphics\n",
    "\n",
    "In cells of type `Markdown` you can insert graphics. These can be included via a link from the internet or a network, or from a local source on your computer (<font color=red>note:</font> a graphic file from your local computer cannot be displayed if the notebook is run on a different computer that does not have access to this file). \n",
    "\n",
    "For example, to display an image of PNG-file format, include the following code in the cell below: `![R Logo](https://cran.r-project.org/Rlogo.svg)`. Execute the cell afterwards."
   ]
  },
  {
   "cell_type": "code",
   "execution_count": null,
   "metadata": {},
   "outputs": [],
   "source": []
  },
  {
   "cell_type": "markdown",
   "metadata": {},
   "source": []
  },
  {
   "cell_type": "markdown",
   "metadata": {},
   "source": [
    "The R logo should be displayed now. A caption is missing (e.g. `Figure 3: R logo (source: https://cran.r-project.org/`) but there is no build-in function in Jupyter to do so (yet).\n",
    "Instead, insert a new cell just below the figure and add a caption.\n",
    "<br><br>\n",
    "\n",
    "<font color=blue> $\\Rightarrow$ A note to the insert command: The `!` tells Jupyter to insert a figure. The text in the brackets `[ ]` is used as a placeholder for text that will be displayed in case the figure cannot be displayed for any reason (e.g. the file is not available any longer on the internet). You can test that by changing the link to the figure file that is inside the parenthesis `( )`, and execute the cell. Jupyter will not find the file any longer and will display the alternative text.</font>\n",
    "\n"
   ]
  },
  {
   "cell_type": "markdown",
   "metadata": {},
   "source": [
    "### Insert formulas\n",
    "The `Markdown` language also lets you insert formulas like in MS Word. For this you can make use of Markdowns ability to interpret $\\LaTeX$ code. The following $\\LaTeX$ code ``$$\\bar x={\\frac {1}{n}}\\sum _{i=1}^{n}x_{i}$$`` is for example translating into:\n",
    "\n",
    "$$\\bar x={\\frac {1}{n}}\\sum _{i=1}^{n}x_{i}$$\n",
    "\n",
    "You can find more infos on that under https://jupyter-notebook.readthedocs.io ***not for now - but after the lesson***\n"
   ]
  },
  {
   "cell_type": "markdown",
   "metadata": {},
   "source": [
    "> So these are the basics to write and format text in a Jupyter notebook. Why is this relevant in this course? \n",
    "\n",
    "> The aim of this course is to get practical expereince in applied statistics. Therefore, you will use primarily Jupyter notebooks to solve simple programming tasks with statistics. Part of the learning process is to document the individual steps you have taken and to explain why these steps were taken. This is why you have to be able to write text alongside the actual programming code. As always in life, you should present it in a \"neat\" way (neat means here e.g. esthetic, clean, easy to understand, etc.)\n",
    "\n",
    "***\n"
   ]
  },
  {
   "cell_type": "markdown",
   "metadata": {},
   "source": [
    "### Finally, here is a list of `Jupyter` shortcut commands that let you do actions in the notebook if you are too lazy to click around with the mouse\n",
    "\n",
    "- ESC – Enter Command Mode / Exit Edit Mode\n",
    "- ENTER – Enter Edit Mode / Exit Command Mode\n",
    "- ↓/U – Move a cell down\n",
    "- ↑/K – Move a cell up\n",
    "- SHIFT-↓/SHIFT-U – Select a cell down\n",
    "- SHIFT-↑/SHIFT-K – Select a cell up\n",
    "- SHIFT-ENTER – Execute cell and move to net\n",
    "- CTRL-ENTER – Execute cell and remain in cell\n",
    "- A – Create new cell above\n",
    "- B – Create new cell below\n",
    "- DD – Delete selected cell\n",
    "- Z – Undo deletion\n",
    "- X – Cut selected cell\n",
    "- C – Copy selected cell\n",
    "- V – Paste cut/copied cell\n",
    "- SHIFT-M – Merge cells\n",
    "- Y – Convert cell to a Code cell\n",
    "- M – Convert cell to a Markdown cell\n",
    "- R – Convert cell to a Raw cell\n",
    "\n",
    "***"
   ]
  },
  {
   "cell_type": "markdown",
   "metadata": {},
   "source": [
    "# Programming - What is a Program?\n",
    "\n",
    "In a nutshell, a program is a seqeunce of orders, that determine how a calculation has to be done.\n",
    "\n",
    "What this calculation is, can vary quite a lot - from the calculation of an arithmetic mean, over the calculation of probabilities for rainfall the next day,  to the detection of keywords in a text.\n",
    "If a computer or smartphone can do it, it is a program.\n",
    "\n",
    "The individual pieces a program consists of are the same:\n",
    "\n",
    "* **input:** Get data from the keyboard, a file, or some other device. \n",
    "* **output:** Display data on the screen or send data to a file or other device. \n",
    "* **math:** Perform basic mathematical operations like addition and multiplication.\n",
    "* **conditional execution:** Check for certain conditions and execute the appropriate code. \n",
    "* **repetition:** Perform some action repeatedly, usually with some variation.\n",
    "\n",
    "*(free after: Allen Downey - Think Python www.thinkpython.com)*\n",
    "\n",
    "That is basically it! Even complex programs like Microsoft Windows is build up based on these simple pieces. Their interaction like puzzle pieces form the complex end product. So it depends on \"How to utilize the individual components?\"."
   ]
  },
  {
   "cell_type": "markdown",
   "metadata": {},
   "source": [
    "![image_programming](https://www.dropbox.com/scl/fi/qmbq83jsyzc7x1jgl3sb8/01101_L2_f4_bakery_code_v3.jpg?rlkey=12l8hwwo8r23xhfogfma52ygc&dl=1)\n",
    "\n",
    "*Figure 3: Programming analogy: A bakery where inputs (ingredients) used with the right methods (kneading, baking) produces the output (bread, pastries).*\n",
    "\n",
    "<br/><br/>\n"
   ]
  },
  {
   "cell_type": "markdown",
   "metadata": {
    "tags": []
   },
   "source": [
    "### Interaction of components \n",
    "\n",
    "\n",
    "Here is a small example that compares a daily life activity to a program. Imagine the activity of \"making a cake\" as a program (**`make_a_cake`**). We need ingredients (**`input`**), which at the end will transform into a cake (**`output`**). The individual work steps, for example **mixing the ingredients**, and **baking the cake** correspond to the operations (**`math`**). Furthermore, we have to follow certain rules and stick to a chronological order (**`conditional execution`**), for example, only bake the cake `when` the ingredients have been mixed; and only bake it for 40 minutes at a temperature 180 degree Celsius. If we change the ingredients (**`repetition`**), e.g. take cherrys instead of apples we will get a different kind of cake (but it is still a cake!).\n"
   ]
  },
  {
   "cell_type": "markdown",
   "metadata": {},
   "source": [
    "![kitchen_flowchart](https://www.dropbox.com/scl/fi/ud3q2b2bttbad5p1lkcp6/01101_L2_f4_flowchart.png?rlkey=3lt8bn2r7f1vjoamnxk0632dw&dl=1)\n",
    "\n",
    "*Figure 4: **Making a cake** as a flow chart*\n",
    "\n",
    "The required processes, inputs, and decisions of **making a cake** are shown also (in a reduced version) in form of a flowchart. We will make use of flowcharts to break down a program into single steps. \n",
    "\n",
    "<font color=blue> $\\Rightarrow$ We will use flowcharts also in the exam, so get familiar with them.</font>"
   ]
  },
  {
   "cell_type": "markdown",
   "metadata": {},
   "source": [
    "\n",
    "\n",
    "### Why programming?\n",
    "\n",
    "- <font color=red>Automated **problem solving**</font>\n",
    "    - vs. manual work (comfort)\n",
    "- <font color=red>Application of advanced methods</font>\n",
    "    - Quantitative methods require (complex) mathematical operations, too difficult to apply by hand in many cases\n",
    "- <font color=red>Recurring application</font>\n",
    "    - Same data format and operations but different data (e.g. climate diagrams, population growth, demography, COVID)\n",
    "        - Anything where the data is updated but the format stays the same\n",
    "    - You can change the input data and all caluclations/analyses are performed the same way.\n",
    "- <font color=red>Reproducibility </font>\n",
    "    - Allow others to come to the same results (Scientific standard) \n",
    "- <font color=red>Large data amounts</font>\n",
    "- <font color=red>Interdisciplinarity</font>\n",
    "    - Dealing with data from different fields\n",
    "    - Different formats\n",
    "    - Merging them into combined analysis\n",
    "    \n",
    "### How to write your programs?\n",
    "\n",
    "- <font color=red>Concept / Idea !</font>\n",
    "    - Understand the problem (Human language)\n",
    "    - Translate into logic and mathematical operations\n",
    "    - Think of what kind of data needs to be used\n",
    "- <font color=red>Single case solution</font>\n",
    "    - Testing the logical and mathematical operations\n",
    "    - Use training data or a small sample of the original dataset\n",
    "- <font color=red>Upscaling </font>\n",
    "    - Application to the general case / all the data\n",
    "    - Loops\n",
    "    - Functions (self-made)\n",
    "\n"
   ]
  },
  {
   "cell_type": "markdown",
   "metadata": {},
   "source": [
    "## Programming with R in Jupyter Notebooks\n",
    "\n",
    "The name ***Jupyter*** derives from the names of three programming languages that Jupyter can handle:\n",
    "\n",
    "- Julia\n",
    "- Python\n",
    "- R\n",
    "\n",
    "#### The most important feature of Jupyter is that it runs independently of the computer operating system on a Web-Interface.\n",
    "In this course we will use the programming language **R**. The following section will deal with the basics of R (they apply also to Python!) and to create the very first programs.\n",
    "We use R in a strict problem-oriented way. That means the scope is **not** to become an awesome programmer but to learn <font color=red>**how to apply R as a tool to solve our problems with statistical analyses!**</font>\n",
    "\n",
    "If you are interested in *real* programming, **Python** might be a better choice (more possibilities but also more complex). You can have a look at the recommended online resources."
   ]
  },
  {
   "cell_type": "markdown",
   "metadata": {},
   "source": [
    "### First things first: Working with online resources\n",
    "\n",
    "Programming aims to **find solutions for our problems**! It is not of central scope, or even impossible, to know all the programming syntax. \n",
    "It is more important to know that most solutions for programming-related issues have already been dealt with by others. These solutions often result from someone asking in online forums \"How can I solve this particular problem?\". It might be a challenge to find these solutions because you will have to know the search terms.<br> (**note:** *searching in English will often have a higher success rate because the English speaking community is the biggest*)\n",
    "\n",
    "\n",
    "\n",
    "<font color=blue> $\\Rightarrow$ We will provide you with programming problems in this course that you can always solve with material introduced in the course. This does, however, require combining the introduced parts by yourself. </font>\n",
    "\n",
    "You can also find plenty of R online books, courses and tutorials. \n",
    "\n",
    "* In English: A large variety of online courses and tutorials exists, check out the following link for an (very incomplete) overview: https://r-dir.com/learn/e-books.html (for python a good start is here: https://wiki.python.org/moin/BeginnersGuide/Programmers)\n",
    "\n",
    "* In German: \"Angewandte Statistik - Methodensammlung mit R\" Hedderich and Sachs (DOI 10.1007/978-3-662-45691-0))\n",
    "\n",
    "\n",
    "A good source to look for specific questions is the website of stackexchange:\n",
    "\n",
    "* https://stackoverflow.com/questions/tagged/r\n",
    "\n",
    "OpenAI's ChatGPT is also able to produce programming code in `R` that works most of the time if the problem is not too complex.\n",
    "\n",
    "* https://chat.openai.com/\n",
    "\n",
    "\n",
    "\n",
    "<font color=blue> $\\Rightarrow$ You will come accross the terms IDE (integrated development environment) and GUI (graphical user interface). If you are going to program more seriously in the future it is recommended to download such an IDE/GUI platform. They will help to organize bigger programming task. However, for this course it is absolutely not neccessary because Jupyter is providing us with all neccessary functionalities for the course. </font>\n",
    "***"
   ]
  },
  {
   "cell_type": "markdown",
   "metadata": {},
   "source": [
    "### R program 1\n",
    "Add a cell below and keep the `Code` cell type (not `Markdown`). Type the following line of code in the cell and then execute the cell:\n",
    "\n",
    "`print('Hello World!')`\n",
    "\n"
   ]
  },
  {
   "cell_type": "code",
   "execution_count": null,
   "metadata": {},
   "outputs": [],
   "source": [
    "print('Hello World!)"
   ]
  },
  {
   "cell_type": "markdown",
   "metadata": {},
   "source": [
    "\n",
    "Add another cell below and do the same thing except that you change:\n",
    "\n",
    "`'Hello World!'`\n",
    "\n",
    "to \n",
    "\n",
    "`'My first R program'`\n",
    "\n",
    "If you get an error message: Read and think about the message. Does it give you a hint what went wrong?\n",
    "\n",
    "***"
   ]
  },
  {
   "cell_type": "markdown",
   "metadata": {},
   "source": [
    "### R program 2\n",
    "\n",
    "The second program already introduces something called a `variable`.\n",
    "We say we **assign** a `variable` if we define a value for it. The variable called `var` in the example below is assigned the text `'Hello World'`.\n",
    "\n",
    "The assignment comes through the `=` symbol. We read:<br>\n",
    "- var **is defined as** (or **assigned as/declared as**) \"Hello World\" <br> \n",
    "- <font col=red>We do not read **equal**, which is used when testing if two values are the same `==` (subject of next lecture)</font>\n",
    "\n",
    "\n",
    "Add a cell below and keep the `Code` cell type. Type the following line of code in the cell and then execute the cell:\n",
    "\n",
    "`var = 'Hello World'`<br>\n",
    "`print(var)`<br>\n",
    "\n",
    "***"
   ]
  },
  {
   "cell_type": "markdown",
   "metadata": {},
   "source": [
    "### R program 3\n",
    "\n",
    "Instead of pre-defining the value of the variable `var`, we allow for an interactive input. The `readline()` function will ask you to provide a text that will then be printed.\n",
    "\n",
    "\n",
    "Add a cell below and keep the `Code` cell type. Type the following line of code in the cell and then execute the cell:\n",
    "\n",
    "`var = readline(prompt=\"Type the text to be printed:\")`<br>\n",
    "`print(var)`<br>\n",
    "\n",
    "***"
   ]
  },
  {
   "cell_type": "code",
   "execution_count": null,
   "metadata": {},
   "outputs": [],
   "source": [
    "var = readline(prompt=\"Type the text to be printed:\")\n",
    "print(var)"
   ]
  },
  {
   "cell_type": "markdown",
   "metadata": {},
   "source": [
    "### R program 4\n",
    "\n",
    "Add another cell below as you did before but this time the code shall be:\n",
    "\n",
    "`a = 1`<br>\n",
    "`b = 3`<br>\n",
    "`c = a + b`<br>\n",
    "`print(c)`<br>\n",
    "\n"
   ]
  },
  {
   "cell_type": "markdown",
   "metadata": {},
   "source": [
    "![Programs_as_flowchart](https://www.dropbox.com/scl/fi/yzptmufz3me4n3rqtbumt/01101_L2_f5_program_flowcharts_2024-01-17.png?rlkey=r2xep8a9hkdtb9cjqwuy909hi&dl=1)\n",
    "\n",
    "*Figure 5: The 4 programs as flowcharts. \"Input\" referes usually to external sources (data files, prompt input via keyboard, etc.).*"
   ]
  },
  {
   "cell_type": "markdown",
   "metadata": {},
   "source": [
    "***\n",
    "\n",
    "### Summary of the first four programs\n",
    "\n",
    "We have seen 3 major program components in action: \n",
    "\n",
    "- input\n",
    "- output\n",
    "- math\n",
    "\n",
    "The `math` part in our program are the operations/processes `print()` and `+`. For the operations we used some text or numbers as `input` (e.g. 'Hello World!', or the numbers 1 and 3, and displayed the result of the print operation as text `output`.\n",
    "\n",
    "***"
   ]
  },
  {
   "cell_type": "markdown",
   "metadata": {},
   "source": [
    "## Variables\n",
    "Additionally, we have introduced **variables** in the second and third program (we gave our variables the names `var`,`a`, `b` and `c`).\n",
    "\n",
    "\n",
    "<font color=blue> $\\Rightarrow$ What comes into your mind if you hear the word **variable**?  </font><br><br>\n",
    "Recall the `make_a_cake` program where we can change the ingredient \"apple\" to \"cherry\". This ingredient is a variable that is **either** a fruit or could even be something like \"chocolate\". As long as this variable is **suitable** for the program, we can change it. In contrast, an \"oven\" would **not** be suitable at this place - even though it might be a variable to bake the cake in. \n",
    "Another variable we can think of in our example could be that we want to vary the amount of ingredients. So there could be a variable for the amount of apples (instead of 3, we could use 4 apples).  \n",
    "\n",
    "\n",
    "<font color=blue> $\\Rightarrow$ Variables can have different qualities. In programming, we say they can be of a different <font color=red>data **type**</font>. In the three programming examples the variables were of the following two types:\n",
    "- text or **strings** (strings can be indentified as they are always in quotation marks `\" \"`)\n",
    "- **numbers**\n",
    "\n",
    "</font>\n",
    "Variables must be suitable for the operation. Some operations do not work with the wrong type of variable. \n",
    "The `print()` operation to print either text **or** a number works with all types of input. However, the `+` operation does not. \n",
    "\n",
    "\n",
    "*In the `make_a_cake` example we cannot change the ingredient from \"apple\" to anything other than something eatable because it would not make sense!*\n",
    "\n",
    "\n",
    "`R` requires the right type of input for its operations and will usually tell you if there is an error.\n",
    "Let us try this by executing the code cell below. Read the error message. What does it say in the last line of this error message?\n"
   ]
  },
  {
   "cell_type": "code",
   "execution_count": null,
   "metadata": {},
   "outputs": [],
   "source": [
    "a = \"apple\"\n",
    "b = 3\n",
    "c = a + b\n",
    "print(c)"
   ]
  },
  {
   "cell_type": "markdown",
   "metadata": {},
   "source": [
    "The error message is: `Error in a + b: non-numeric argument to binary operator` . It tells us that the `type` of the  variables are not suited for the operator `+`. `+` requires a ***numeric variable***.\n",
    "\n",
    "What are numeric and non-numeric variables?\n"
   ]
  },
  {
   "cell_type": "code",
   "execution_count": null,
   "metadata": {},
   "outputs": [],
   "source": [
    "a = \"apple\"\n",
    "class(a)"
   ]
  },
  {
   "cell_type": "code",
   "execution_count": null,
   "metadata": {
    "scrolled": true
   },
   "outputs": [],
   "source": [
    "b = 3\n",
    "class(b)"
   ]
  },
  {
   "cell_type": "markdown",
   "metadata": {},
   "source": [
    "`R` differentiates mainly between two classes of variables: \n",
    "- <font color=blue>**character**</font> : text or any sequence of characters (often also called a `string`) that is not a number (*FR:chaîne de texte, DE: Textzeichenkette*) - a word is for example a sequence of letters.\n",
    "- <font color=blue>**numeric**</font> : all *numeric* variables, including integers (*FR: Entier, DE: Ganze Zahl*), and floats (*FR: nombre à virgule flottante, DE: Fliesskommazahl*)\n",
    "\n",
    "`R` is very forgiving about the class of number (`integer` or `float` or others), whereas `Python` often requires you to specify what type of numeric value you have.\n",
    "\n",
    "<font color=blue> $\\Rightarrow$ Error messages are normal; don't feel ashamed. Use them to your advantage to find the problem. The error message above even shows in which line the error occured !</font>"
   ]
  },
  {
   "cell_type": "markdown",
   "metadata": {},
   "source": [
    "### Variables and their operators\n",
    "\n",
    "So we cannot add the string `\"apple\"` and the number `3`. They can be printed seperately:"
   ]
  },
  {
   "cell_type": "code",
   "execution_count": null,
   "metadata": {},
   "outputs": [],
   "source": [
    "a = \"apple\"\n",
    "b = 3\n",
    "print(a)\n",
    "print(b)"
   ]
  },
  {
   "cell_type": "markdown",
   "metadata": {},
   "source": [
    "We can also `print()` both of the variables if we `paste` them together:"
   ]
  },
  {
   "cell_type": "code",
   "execution_count": null,
   "metadata": {},
   "outputs": [],
   "source": [
    "a = \"apple\"\n",
    "b = 3\n",
    "d = paste(a,b)\n",
    "print(d)"
   ]
  },
  {
   "cell_type": "markdown",
   "metadata": {},
   "source": [
    "Note in the two examples above that the first example produces two lines of output, each indicated with `[1]`:\n",
    "```\n",
    "[1] \"apple\"\n",
    "[1] 3\n",
    "```\n",
    "And the second example only one line of output:\n",
    "```\n",
    "[1] \"apple 3\"\n",
    "```\n",
    "\n",
    "### Repeating\n",
    "It is also possible to repeat a string using the `rep` function:"
   ]
  },
  {
   "cell_type": "code",
   "execution_count": null,
   "metadata": {},
   "outputs": [],
   "source": [
    "a = \"apple\"\n",
    "b = 3\n",
    "d = rep(a,b)\n",
    "print(d)"
   ]
  },
  {
   "cell_type": "markdown",
   "metadata": {},
   "source": [
    "Note that there are 3 individual strings `\"apple\"`.\n",
    "\n",
    "<font color=blue> $\\Rightarrow$ It makes no sense to add the **number** 3 and the **string** \"apple\", but it makes sense to repeat the string \"apple\" 3 times. </font>\n",
    "    \n",
    "\n",
    "Compare the output with the output from the next code:"
   ]
  },
  {
   "cell_type": "code",
   "execution_count": null,
   "metadata": {},
   "outputs": [],
   "source": [
    "a = \"apple\"\n",
    "b = 3\n",
    "d = rep(a, b) \n",
    "e = paste(d, collapse = ' ')\n",
    "print(e)"
   ]
  },
  {
   "cell_type": "markdown",
   "metadata": {},
   "source": [
    "In this example there is only 1 **single string** (`\" ... \"`), where the individual words \"apple\" are connected. This is done using the `paste` function in combination with the **function argument** `collapse = ' '`. "
   ]
  },
  {
   "cell_type": "code",
   "execution_count": null,
   "metadata": {},
   "outputs": [],
   "source": [
    "# An alternative way to combine, specifically to concatenate different values:\n",
    "a = \"apple\"\n",
    "b = 3\n",
    "d = c(a,a,b)\n",
    "print(d)"
   ]
  },
  {
   "cell_type": "markdown",
   "metadata": {},
   "source": [
    "<font color=blue> The `c` is a function in `R` to **concatenate** values together!</font>\n",
    "<br>\n",
    "    \n",
    "The four functions can also be combined:\n",
    "- rep\n",
    "- c\n",
    "- paste\n",
    "- print"
   ]
  },
  {
   "cell_type": "code",
   "execution_count": null,
   "metadata": {},
   "outputs": [],
   "source": [
    "a = \"apple\"\n",
    "b = 3\n",
    "d = c(rep(a,b), 3)\n",
    "print(d)"
   ]
  },
  {
   "cell_type": "code",
   "execution_count": null,
   "metadata": {},
   "outputs": [],
   "source": [
    "a = \"apple\"\n",
    "b = 3\n",
    "d = c(rep(a,b), b)\n",
    "e = paste(d, collapse = ' ')\n",
    "print(e)"
   ]
  },
  {
   "cell_type": "markdown",
   "metadata": {},
   "source": [
    "First the string apple is `rep`eated three times (now we have three individual strings), then the number 3 is attached using `c`, and then `paste` (with `collapse = ' '`) transforms it into 1 string. Finally it is `print`ed."
   ]
  },
  {
   "cell_type": "markdown",
   "metadata": {},
   "source": [
    "### Different number types\n",
    "\n",
    "The same way some of our daily life objects only exist if they are in one piece (e.g. a chair), it makes only sense to count these objects in whole numbers (<font color=blue>**integer**</font>). Otherwise these objects are not that same object anymore. *What is half a chair?*\n",
    "\n",
    "This principle applies to variables too. What happens if we `rep`eat a string 1.5 times (using a <font color=blue>**float**</font>):"
   ]
  },
  {
   "cell_type": "code",
   "execution_count": null,
   "metadata": {},
   "outputs": [],
   "source": [
    "a = \"apple\"\n",
    "b = 2.9\n",
    "d = rep(a,b)\n",
    "print(d)"
   ]
  },
  {
   "cell_type": "markdown",
   "metadata": {},
   "source": [
    "R is smart and knows this does not work and transforms the float into an integer first. (Python does not do that and you would get an error).\n"
   ]
  },
  {
   "cell_type": "markdown",
   "metadata": {},
   "source": [
    "### Using variables in the `Markdown` cells\n",
    "In the examples above we always wrote **all** the variables again and again. However, Jupyter remembers the cells from before. So in a cell further below we can **call** a variable again that was **assigned** before."
   ]
  },
  {
   "cell_type": "code",
   "execution_count": null,
   "metadata": {},
   "outputs": [],
   "source": [
    "print(b)"
   ]
  },
  {
   "cell_type": "markdown",
   "metadata": {},
   "source": [
    "### Variable names: good practice\n",
    "* Avoid variable names that already exist (e.g. the name of a function `c`: see example below) \n",
    "* Use either \"camel-style\" variable names like \"myVariableName\", or using underscores \"my_variable_name\"\n",
    "* Use short but understandable variable names:\n",
    "    * ~~allOfMyDataInASingleTableForTheYear2022~~ --> data_2022"
   ]
  },
  {
   "cell_type": "code",
   "execution_count": null,
   "metadata": {},
   "outputs": [],
   "source": [
    "a = \"apple\"\n",
    "b = 3\n",
    "# next, the variable \"c\" is assigned - but c() is also a function\n",
    "c = \"tomato\"\n",
    "# the function c() still works ! But you should avoid doing this!!!\n",
    "d = c(a,b,c)\n",
    "print(d)"
   ]
  },
  {
   "cell_type": "markdown",
   "metadata": {},
   "source": [
    "### Summary of variables\n",
    "Variables make programming easier. There are two major reasons to use variables:\n",
    "- Reduction of work - if we use a number or a string several times, we can use the variable instead of writing the actual number and text again and again\n",
    "- Simplicity - rather than writing a long number or text, the code will read easier if we use short variable names\n",
    "- In the `repetition` process it allows us to change the input easily at the beginning of a program\n",
    "\n",
    "Variables can be of different type. We have looked so far at variables that represented `characters`, and `numbers`. In the next lecture we will see that 1 variable can in fact represent more than just one value, for example a whole `list` of values, a `matrix`, or a `data.frame`. Then it will also be more evident that the use of variables, instead of writing the values by hand, is a big help for us.\n"
   ]
  },
  {
   "cell_type": "markdown",
   "metadata": {},
   "source": [
    "***\n",
    "# Finally: \n",
    "When you are done with your work in the second half of the class:\n",
    "* Save your notebooks once again (&#x1F4BE;). \n",
    "* Download your notebooks (&#x1F4C1; on the left --> Notebook name --> Download).\n",
    "* Pause your session/notebooks with the &#x23F8; button in the \"topleft\" of this webpage.\n",
    "* And finally log out of renku.\n",
    " \n",
    "\n"
   ]
  },
  {
   "cell_type": "code",
   "execution_count": null,
   "metadata": {},
   "outputs": [],
   "source": []
  }
 ],
 "metadata": {
  "kernelspec": {
   "display_name": "Python 3 (ipykernel)",
   "language": "python",
   "name": "python3"
  },
  "language_info": {
   "codemirror_mode": {
    "name": "ipython",
    "version": 3
   },
   "file_extension": ".py",
   "mimetype": "text/x-python",
   "name": "python",
   "nbconvert_exporter": "python",
   "pygments_lexer": "ipython3",
   "version": "3.10.11"
  },
  "toc-autonumbering": false
 },
 "nbformat": 4,
 "nbformat_minor": 4
}
