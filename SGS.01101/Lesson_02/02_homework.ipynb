{
 "cells": [
  {
   "cell_type": "markdown",
   "metadata": {},
   "source": [
    "## Tasks - Lecture 2 - Jupyter Notebooks and Variables"
   ]
  },
  {
   "cell_type": "markdown",
   "metadata": {
    "tags": []
   },
   "source": [
    "### To be completed in the second half of the class or after class\n",
    "\n",
    "Use this Jupyter notebook for the tasks. Solve the tasks in new cells and paragraphs at the bottom of this notebook.  The individual tasks are listed below. You can write in English, German, or French. Make sure to stick to these two rules:\n",
    "- Notebooks have to be submitted (uploaded) the latest <font color=red>**by the  submission deadline (see moodle)**</font> via Moodle.\n",
    "- The notebook filename must be in the format `Name1Name2Name3_LectureN.ipynb`\n",
    "\n",
    "where Name1, Name2 and Name3 are your family names, and the \"N\" in `LectureN` stands for the number of our lecture (today this is **2**), respectively. This means you have to **rename this notebook**.\n",
    "\n",
    "\n",
    "<font color=blue> Try to solve the assignments as best as possible. You will get feedback from the tutor on the tasks. Especially all task on programming are important as they will set the base for the forthcoming lessons.</font><br><br>\n",
    "\n",
    "\n",
    "\n"
   ]
  },
  {
   "cell_type": "markdown",
   "metadata": {
    "tags": []
   },
   "source": [
    "## Tasks\n",
    "\n",
    "- Create a new notebook and rename the notebook in the introduced way to `Name1Name2Name_Lecture2` (the file extension `.ipynb` need not to be written because it is automatically added by Jupyter). \n",
    "- Add a cell that will be your heading (Heading level 1). The heading should be the same as in this notebook \"Tasks - Lecture2 - Jup...\". \n",
    "- Add a cell with a second heading (one level lower) that states your names (family names)\n"
   ]
  },
  {
   "cell_type": "markdown",
   "metadata": {
    "tags": []
   },
   "source": [
    "### Markdown\n",
    "- Add a cell and include the following graphic file from the web (https://www.dropbox.com/s/n923f455mlg8420/01101_L2_HW.png?dl=1) (*hint: even though a file ending like .jpeg is missing, Jupyter will figure out that this is a graphic file and how to display it)\n",
    "    - Add a figure caption in a cell below that informs that this grpahic is an example layout \n",
    "- Add a `Markdown` cell and recreate the layout from the graphic (it will not be 100% exactly the same because the image is scaled - that is fine!) :\n",
    "    - You shall use the learned `Markdown` commands to recreate what is displayed in the figure.\n",
    "    - But adjust the text in the following way:\n",
    "        - Change `Name 1` and `Name 2` to your respective family names\n",
    "        - Change the answers (you will see in the graphic and shortly explained below) to match your personal experiences and expectations about programming, respectively\n",
    "            - First question: Do you have already experience with programming? Simple yes/no answer\n",
    "            - Second question: Write in one sentence how you learn(ed) it (e.g. course, self-taught), and name the programming language. If you do not have any experience yet: Did you ever think about learning a programming language and why (not)?\n",
    "            - Third question: What are your expections from the course (one sentence per group member)?\n"
   ]
  },
  {
   "cell_type": "markdown",
   "metadata": {
    "tags": []
   },
   "source": [
    "### Variables\n",
    "You have to write small programs. Each program has to be in a seperate `code` cell and should be preceded by a `Markdown` cell (insert it above the `code` cells). These `Markdown` cells will structure the notebook and will simply say:\n",
    "\n",
    "**Program N**\n",
    "\n",
    ", where N is the number of the program.\n",
    "\n",
    "The following figure will give you also a graphical flowchart representation of what the individual programs shall look like.\n",
    "![flowchart_HW](https://www.dropbox.com/scl/fi/w11czp3lic5j3652fyv3l/01101_L2_HW_2024-01-18.png?rlkey=93capgc9jv29g8kef9ggxhb5x&dl=1)\n",
    "\n",
    "*Figure 1: Flowcharts for the individual tasks. All examples for 2 students. Adjust according to the number of students in your group! More details are given below in the task descriptions.*\n",
    "\n",
    "- Write a program that introduces the names of the group members in **one line of output per group member** (that is what the program is producing - it will be displayed after the code cell with your code; see the examples from our lecture). \n",
    "    - Use the `print` function\n",
    "    - You must use at least 1 variable in each `print` function\n",
    "    - The output can be multiple strings or a single string\n",
    "\n",
    "\n",
    "- Write a program that prints the **name and the age** of the group members, as well as the **average age**. Print the output in a total of three (or 4 if you are 3 team members) lines. Each output line has to be a **single string**.\n",
    "    - Lines 1, and 2 (and 3, if three team members) of **output** shall provide information about the individual age of the team members *(\"Name1's age is: \")*\n",
    "    - the last line of **output** shall provide the information about the average age \n",
    "    - inside the `print()` operation use **only variables**, do not write numbers or strings directly in there\n",
    "    - (hint: you have to make use of the `paste` function with the `collapse = ' '` argument)\n",
    "    - (hint: look at the output to make sure you have a single string: ` \"blabla\" \"blabla\" vs. \"blabla blabla\"`\n",
    "    \n",
    "    \n",
    "- Write a program that informs about the maximum age difference in your group in one line of **output**\n",
    "    - use only variables inside the `print()` operation and produce a single string output\n",
    "    - if you are three team members, the program shall inform about the maximum age difference , i.e. the oldest minus the jungest\n",
    "    - (hint: look at the output to make sure you have a single string: ` \"blabla\" \"blabla\" vs. \"blabla blabla\"`\n",
    "\n",
    "    \n",
    "    \n",
    "- Find out how to calculate the mean (use any online resource you want) of your ages with a `R` function and write a program with it.\n",
    "    - use 2 (or 3 if you are three members) variables for your individual ages (`numeric` format)\n",
    "    - use the new \"secret\" function with these 2(3) variables to calculate the mean and assign it to a new variable\n",
    "    - `print` this variable in a sentence to report the mean age of your group \n",
    "    - (hint: you can re-use much of the code from before except the function you have to find out)\n",
    "\n",
    "    \n",
    "\n"
   ]
  },
  {
   "cell_type": "markdown",
   "metadata": {},
   "source": [
    "### Submission\n",
    "Once you have finished the tasks,\n",
    "- save the notebook\n",
    "- donwload the notebook (right-click save)\n",
    "- pause your session\n",
    "- upload the downloaded notebook on moodle."
   ]
  },
  {
   "cell_type": "markdown",
   "metadata": {},
   "source": []
  }
 ],
 "metadata": {
  "kernelspec": {
   "display_name": "Python 3 (ipykernel)",
   "language": "python",
   "name": "python3"
  },
  "language_info": {
   "codemirror_mode": {
    "name": "ipython",
    "version": 3
   },
   "file_extension": ".py",
   "mimetype": "text/x-python",
   "name": "python",
   "nbconvert_exporter": "python",
   "pygments_lexer": "ipython3",
   "version": "3.10.11"
  }
 },
 "nbformat": 4,
 "nbformat_minor": 4
}
