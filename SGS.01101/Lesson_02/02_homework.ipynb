{
 "cells": [
  {
   "cell_type": "markdown",
   "metadata": {},
   "source": [
    "## Tasks - Lecture 2 - Jupyter Notebooks and Variables"
   ]
  },
  {
   "cell_type": "markdown",
   "metadata": {
    "jp-MarkdownHeadingCollapsed": true,
    "tags": []
   },
   "source": [
    "### To be completed in the second half of the class or after class\n",
    "\n",
    "Use this Jupyter notebook for the tasks. Solve the tasks in new cells and paragraphs at the bottom of this notebook.  The individual tasks are listed below. You can write in English, German, or French. Make sure to stick to these two rules:\n",
    "- Notebooks have to be submitted (uploaded) the latest <font color=red>**by the  submission deadline (see moodle)**</font> via Moodle.\n",
    "- The notebook filename must be in the format `Name1Name2Name3_LectureN.ipynb`\n",
    "\n",
    "where Name1, Name2 and Name3 are your family names, and the \"N\" in `LectureN` stands for the number of our lecture (today this is **2**), respectively. This means you have to **rename this notebook**. Notebooks must be submitted on **moodle**; one submission per group is enough! \n",
    "\n",
    "\n",
    "<font color=blue> Try to solve the assignments as best as possible. Understanding coding is a requirement to pass the exam! Therefore, you must pass the homework assignments (9/12) to be eligible for the exam!</font><br><br>\n",
    "\n",
    "\n",
    "***\n"
   ]
  },
  {
   "cell_type": "markdown",
   "metadata": {
    "tags": []
   },
   "source": [
    "## Tasks\n",
    "\n",
    "- **Rename** this notebook in the introduced way to `Name1Name2Name_Lecture2` (the file extension `.ipynb` need not to be written because it is automatically added by Jupyter). \n"
   ]
  },
  {
   "cell_type": "markdown",
   "metadata": {
    "tags": []
   },
   "source": [
    "### 1. Markdown\n",
    "\n",
    "In the first exercise block you will exercise the markdown language. The aim is that you understand how to properly format a notebook. We expect you to write full sentences when answering questions and use appropriate (markdown) cells for that. Use the `classwork` notebook to solve the following tasks. Every step required is referenced in the classwork notebook!\n",
    "\n",
    "- Add a cell and include the following graphic file from the web (https://www.dropbox.com/s/n923f455mlg8420/01101_L2_HW.png?dl=1) (*hint1: even though a file ending like .jpeg is missing, Jupyter will figure out that this is a graphic file and how to display it. *hint2: double-click on an existing figure to see how it is included in a Notebook.)\n",
    "    - Add a figure caption in a cell below that informs that this grpahic is an example layout. \n",
    "- Add a `Markdown` cell and recreate the layout from the graphic (it will not be 100% exactly the same because the image is scaled - that is fine!) :\n",
    "    - You shall use the learned `Markdown` commands (**classwork notebook**) to recreate what is displayed in the figure.\n",
    "    - But adjust the text in the following way:\n",
    "        - Change `Name 1` and `Name 2` to your respective family names\n",
    "        - Change the answers (you will see in the graphic and shortly explained below) to match your personal experiences and expectations about programming, respectively\n",
    "            - First question: Do you have already experience with programming? Simple yes/no answer\n",
    "            - Second question: Write in one sentence how you learn(ed) it (e.g. course, self-taught), and name the programming language. If you do not have any experience yet: Did you ever think about learning a programming language and why (not)?\n",
    "            - Third question: What are your expections from the course (one sentence per group member)?\n"
   ]
  },
  {
   "cell_type": "markdown",
   "metadata": {
    "tags": []
   },
   "source": [
    "### 2. Variables\n",
    "You have to write small programs. Each program has to be in a seperate `code` cell and should be preceded by a `Markdown` cell (insert it above the `code` cells). These `Markdown` cells will structure the notebook and will simply say:\n",
    "\n",
    "**Program N**\n",
    "\n",
    ", where N is the number of the program.\n",
    "\n",
    "The following figure will give you also a graphical flowchart representation of what the individual programs shall look like.\n",
    "![flowchart_HW](https://www.dropbox.com/scl/fi/w11czp3lic5j3652fyv3l/01101_L2_HW_2024-01-18.png?rlkey=93capgc9jv29g8kef9ggxhb5x&dl=1)\n",
    "\n",
    "*Figure 1: Flowcharts for the individual tasks. All examples for 2 students. Adjust according to the number of students in your group! More details are given below in the task descriptions.*\n",
    "\n",
    "1) Write a program that introduces the names of the group members in **one line of output per group member** (that is what the program is producing - it will be displayed after the code cell with your code; see the examples from our lecture). \n",
    "    - Use the `print` function\n",
    "    - You must use at least 1 variable in each `print` function\n",
    "    - The output can be multiple strings or a single string\n",
    "\n",
    "\n",
    "2) Write a program that prints the **name and the age** of the group members, as well as the **average age**. Print the output in a total of three (or 4 if you are 3 team members) lines. Each output line has to be a **single string**.\n",
    "    - Lines 1, and 2 (and 3, if three team members) of **output** shall provide information about the individual age of the team members *(\"Name1's age is: \")*\n",
    "    - the last line of **output** shall provide the information about the average age \n",
    "    - inside the `print()` operation use **only variables**, do not write numbers or strings directly in there\n",
    "    - (hint: you have to make use of the `paste` function with the `collapse = ' '` argument)\n",
    "    - (hint: look at the output to make sure you have a single string: ` \"blabla\" \"blabla\" vs. \"blabla blabla\"`\n",
    "    \n",
    "    \n",
    "3) Write a program that informs about the maximum age difference in your group in one line of **output**\n",
    "    - use only variables inside the `print()` operation and produce a single string output\n",
    "    - if you are three team members, the program shall inform about the maximum age difference , i.e. the oldest minus the jungest\n",
    "    - (hint: look at the output to make sure you have a single string: ` \"blabla\" \"blabla\" vs. \"blabla blabla\"`\n",
    "\n",
    "    \n",
    "    \n",
    "4) Find out how to calculate the mean (use any online resource you want) of your ages with a `Python` function and write a program with it.\n",
    "    - use the new \"secret\" function with these 2(3) variables to calculate the mean and assign it to a new variable\n",
    "    - `print()` this variable in a sentence to report the mean age of your group \n",
    "    - (hint: you can re-use much of the code from before except the function you have to find out)\n",
    "\n",
    "    \n",
    "\n"
   ]
  },
  {
   "cell_type": "markdown",
   "metadata": {},
   "source": [
    "### Submission\n",
    "Once you have finished the tasks,\n",
    "- save the notebook\n",
    "- donwload the notebook (right-click save)\n",
    "- Save with git: track > commit > push\n",
    "- pause your session\n",
    "- upload the downloaded notebook on moodle.\n",
    "***"
   ]
  },
  {
   "cell_type": "code",
   "execution_count": null,
   "metadata": {},
   "outputs": [],
   "source": []
  },
  {
   "cell_type": "markdown",
   "metadata": {},
   "source": [
    "## Here you can work on task 1 - Markdown"
   ]
  },
  {
   "cell_type": "markdown",
   "metadata": {},
   "source": [
    "- You can use this cell (delete this and the following explanation lines when you are done).\n",
    "- Make sure this cell is of type `markdown`.\n",
    "- Insert the figure at the top of the cell (find out how to do that by double-clicking on a figure inside the classwork file).\n",
    "- Use the markdown examples from the `classwork` file to reconstruct the figure by using only markdown commands."
   ]
  },
  {
   "cell_type": "markdown",
   "metadata": {},
   "source": [
    "## Here you can work on task(s) 2 - Variables"
   ]
  },
  {
   "cell_type": "code",
   "execution_count": 2,
   "metadata": {},
   "outputs": [
    {
     "name": "stdout",
     "output_type": "stream",
     "text": [
      "EricHello\n"
     ]
    }
   ],
   "source": [
    "# general hints:\n",
    "\n",
    "# assigning variables:\n",
    "name1 = \"Eric\"\n",
    "message1 = \"Hello\"\n",
    "\n",
    "# adding strings together:\n",
    "greeting1 = name1 + message1\n",
    "\n",
    "# output/printing - produces a single line of output from two variables\n",
    "print(greeting1)\n",
    "\n",
    "# ... adjust to your needs!"
   ]
  },
  {
   "cell_type": "code",
   "execution_count": null,
   "metadata": {},
   "outputs": [],
   "source": [
    "# Task 2.1\n",
    "# You can have several lines of code before printing, e.g. to assign variables. Use one print() command for each person of your group.\n",
    "\n",
    "<some_variable_here?> = \"???\" # replace <some_variable_here?> with the correct code, and do the same for ???. You can have multiple lines.\n",
    "\n",
    "print(<something_person_1>)  # replace <something_person_n> with the correct code/variable\n",
    "print(<something_person_2>)  \n",
    "print(<something_person_3>)  "
   ]
  },
  {
   "cell_type": "code",
   "execution_count": null,
   "metadata": {},
   "outputs": [],
   "source": [
    "# Task 2.2\n",
    "<some_variables_here> = \"???\" # Names? Ages? Use multiple lines to assign names and ages. You can use one variable each, i.e. name1, age1, name2, age2, ...\n",
    "\n",
    "print(<something_person_1>)  # replace <something_person_n> with the correct combination of variables. Remember how \"+\" works when applied on variables. What \"type\" do they need to be?\n",
    "print(<something_person_2>)  \n",
    "print(<something_person_3>)  "
   ]
  },
  {
   "cell_type": "code",
   "execution_count": null,
   "metadata": {},
   "outputs": [],
   "source": [
    "# Task 2.3\n",
    "# You already have the variables for age from taks 2.2. \n",
    "# You can use the min() function to determine the minimum, and the max() function for the maximum: Range = maximum - minimum\n",
    "# Example minimum: min([2,5,10])\n",
    "# Recycle code from before to calculate, and print the output."
   ]
  },
  {
   "cell_type": "code",
   "execution_count": 4,
   "metadata": {},
   "outputs": [],
   "source": [
    "# Task 2.4\n",
    "# At this point, you only need to search the internet for a function that can calculate the mean. The rest is copy paste."
   ]
  }
 ],
 "metadata": {
  "kernelspec": {
   "display_name": "Python 3 (ipykernel)",
   "language": "python",
   "name": "python3"
  },
  "language_info": {
   "codemirror_mode": {
    "name": "ipython",
    "version": 3
   },
   "file_extension": ".py",
   "mimetype": "text/x-python",
   "name": "python",
   "nbconvert_exporter": "python",
   "pygments_lexer": "ipython3",
   "version": "3.10.11"
  }
 },
 "nbformat": 4,
 "nbformat_minor": 4
}
