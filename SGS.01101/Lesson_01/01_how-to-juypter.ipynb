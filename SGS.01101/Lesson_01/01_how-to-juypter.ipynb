{
 "cells": [
  {
   "cell_type": "markdown",
   "id": "bb7f00a3-a428-47e3-858a-ee8d5e71caa7",
   "metadata": {},
   "source": [
    "# How to Jupyter - Practical Exercises\n",
    "\n",
    "The purpose of this Jupyter Notebook is to practically learn the use of Jupyter Land and especially Jupyter Notebooks. The exercises are directly linked to the PDF document *How to Jupyter*. \n",
    "\n",
    "At the end of each chapter in *How to Jupyter* you will find a reference to a practical exercise in this notebook. The practical exercises here have the same name as the chapters in the PDF document.\n"
   ]
  },
  {
   "cell_type": "markdown",
   "id": "7c9d9edd-3ad4-4eeb-855f-1609d0c14c25",
   "metadata": {},
   "source": [
    "---\n",
    "---\n",
    "\n",
    "### **Exercise 1:** Working with Renku\n",
    "\n",
    "- Save this file using the save-button above\n",
    "- Upload (in technical terms *commit and push*) your project files to Git.\n",
    "- Download this file and check in the `Downloads` folder on your computer whether you now have file there called `how_to_jupyter.ipynb`\n"
   ]
  },
  {
   "cell_type": "markdown",
   "id": "74eada22-eb61-425f-a000-27fea2dfb8c4",
   "metadata": {},
   "source": [
    "---\n",
    "---\n",
    "\n",
    "### **Exercise 2:** Basics of Computer File Structure\n",
    "\n",
    "Below you find three small pieces of Python code (Exercises 2a, 2b and 2c). Both pieces of code read a file and display the file. In both cases the path to the file is defined in the variable `filename`. \n",
    "\n",
    "To run the code, you will have to click on a cell and then press `shift + enter` (further details on how to use and work with cells in a Jupyter Notebook you will learn in Exercise 3). \n"
   ]
  },
  {
   "cell_type": "markdown",
   "id": "e61aafb5-f075-435c-90d2-192933481191",
   "metadata": {},
   "source": [
    "#### **2a:** reading and displaying a table\n",
    "\n",
    "The code below tries to read a table and displays the table. That table is in the folder `data` (see the folder tree on the left-hand side of the Jupyter Lab screen in front of you).\n",
    "\n",
    "Run the cell as instructed above. You will get an error message that tells you that the file cannot be found.\n",
    "\n",
    "- **Correct the path by modifying the text that is between the qutations marks `filename = '...'`.**\n",
    "- **run the cell again.**\n",
    "- **Try to figure out the correct path until the error message does not appear any more and the table is being shown as output**"
   ]
  },
  {
   "cell_type": "code",
   "execution_count": null,
   "id": "dcca169f-c8cc-407c-a36b-aa8613e92201",
   "metadata": {},
   "outputs": [],
   "source": [
    "import pandas as pd\n",
    "\n",
    "filename = 'movie_list.csv'\n",
    "\n",
    "df = pd.read_csv(filename, sep=';')\n",
    "\n",
    "df"
   ]
  },
  {
   "cell_type": "markdown",
   "id": "cce2849e-213c-451e-8e2a-57ffdfce668b",
   "metadata": {},
   "source": [
    "#### **2b:** reading and displaying a digital elevation model (DEM)\n",
    "\n",
    "The code below tries to read and displays a digtial elevation model. The file that contains the elevation data is called `DEM_250m_fribourg.tif` and is in the folder `fribourg` which is in the folder `MODIS` which is in the folder `data`.\n",
    "\n",
    "Run the cell as instructed above. You will get an error message that tells you that the file cannot be found.\n",
    "\n",
    "- **Correct *all errors* in the path by modifying the text that is between the qutations marks `filename = '...'`.**\n",
    "- **run the cell again.**\n",
    "- **Try to figure out the correct path and name until the error message does not appear any more and the DEM is being shown as output**"
   ]
  },
  {
   "cell_type": "code",
   "execution_count": null,
   "id": "b369869a-36c6-4115-ab71-0cbc22f95b15",
   "metadata": {},
   "outputs": [],
   "source": [
    "import rioxarray\n",
    "\n",
    "frimap = rioxarray.open_rasterio(\"/data/fribourg/DEM_1000m_fribourg.tif\")\n",
    "\n",
    "frimap.plot(cbar_kwargs={'label': 'elevation (m a.s.l.)'})"
   ]
  },
  {
   "cell_type": "markdown",
   "id": "51e0c30b-37ec-40ae-ba02-997896ecb28a",
   "metadata": {},
   "source": [
    "#### **2c:** reading and displaying another table\n",
    "\n",
    "Almost back to Exercise 2a - the code below tries to read and displays an Excel table named `Snowdepth_GPR-insitu.xlsx`. That table is in the folder `data`.\n",
    "\n",
    "Run the cell as instructed above. You will get an error message that tells you that the file cannot be found.\n",
    "\n",
    "- **Correct the *small error* in the path until the error message does not appear any more and the first five lines of the table are being shown as output**"
   ]
  },
  {
   "cell_type": "code",
   "execution_count": null,
   "id": "89ac5444-6540-4e3e-8421-d63e19352926",
   "metadata": {},
   "outputs": [],
   "source": [
    "import pandas as pd\n",
    "\n",
    "filename = 'data/Snowdepth_GPR-insitu.xlsx'\n",
    "\n",
    "df = pd.read_excel(filename)\n",
    "\n",
    "df.head()"
   ]
  },
  {
   "cell_type": "markdown",
   "id": "fbb37950-9192-49e6-adbd-8cdfbf3a98b6",
   "metadata": {},
   "source": [
    "---\n",
    "---\n",
    "### **Exercise 3:** Introduction to Jupyter Lab and Jupyter Notebooks\n",
    "\n",
    "**3a** In front of you is a Jupyter Notebook. You will now create a copy and rename this Notebook. The copied and renamed file you will have to eventually upload to Moodle (once you also did Exercise 4).\n",
    "\n",
    "- Save this file by pressing the save button above (Important!).\n",
    "- Right-click on the file in the file browser and select `duplicate`.\n",
    "- Right-click on the duplicated file and select `rename` to `how-to-jupyter_AllNamesInYourGroup.ipynb`, where `AllNamesInYourGroup` are the familiy names of your group members.\n",
    "- Open the new file and continue working therein (close the tab with the original file to avoid confusion and accidentally working therein).\n",
    "---\n",
    "**3b** Now we do some changes to this entire Notebook using the file menu:\n",
    "\n",
    "- In the file menu go to `Edit`, then click `Clear All Outputs`\n",
    "- All outputs of all of the above code cells should disappear. \n",
    "- To run all cells again, in the file menu select `Run`, then `Run All Above Selected Cell`.\n",
    "- Now all the output from the code cells is back. \n",
    "- Important: if you still had an error in a cell, then only those cells until the error are run.\n",
    "---\n",
    "**3c** Here is how to use the conceptual help:\n",
    "\n",
    "- In the file menu go to `Help`and then `Show Conceptual Help`\n",
    "- Then, as the new window is asking you, click on a function (these are the texts shwon in blue in the code cells (`pd.read_csv(...` is one example).\n",
    "\n",
    "If you have not done any coding before, you will not understand the information shown. This is no problem, you might understand a bit more towards the end of this course.\n",
    "\n",
    "---\n",
    "**3d** Finally, we will look into restarting the Kernel. The Kernel is the instance of Python that runs this Notebook. \n",
    "\n",
    "- In the file menu under `Kernel`, click on either `Restart Kernel ...` or `Restart Kernel and Run All Cells`.\n",
    "- You will be asked `Do you want to restart the current kernel? All variables will be lost.`, click yes.\n",
    "- If you have only restarted the Kernel without immediately running all cells, do this now as you've learned above with `Run All Above Selected Cell`.\n",
    "\n",
    "Important is to understand that the Kernel is only the program that executes this Jupyter Notebook. *Restarting the Kernel will never delete the Notebook,* it will only delete the temporary results that are stored in the computers memory (RAM; Random-access memory). It will also never delete any files or data that you have saved to disk. As you have all the code in your Notebook, you can very easily re-create all the information by running the cells of the Notebook again."
   ]
  },
  {
   "cell_type": "markdown",
   "id": "7ca183ad-1793-4df1-879b-d4757690b39f",
   "metadata": {},
   "source": [
    "---\n",
    "---\n",
    "### **Exercise 4:** How to work with Jupyter Notebooks\n",
    "\n",
    "You have now already worked a bit with this Jupyter Notebook, let us dive a bit deeper into what we can do in this Notebook.\n",
    "\n",
    "**4a** Let's convert this cell into edit mode:\n",
    "\n",
    "- Double click on this cell \n",
    "\n",
    "You will see that this cel of the type *markdown* has converted into edit mode.\n",
    "\n",
    "- Correct the typo in the line above\n",
    "- Run this cell as instructed in the PDF document\n",
    "\n",
    "When done, go to the next cells"
   ]
  },
  {
   "cell_type": "markdown",
   "id": "0ca067ac-f2fe-408d-a267-0ce3b02a9876",
   "metadata": {},
   "source": [
    "---\n",
    "**4b** \n",
    "\n",
    "- Create a new cell below this one (as described in the PDF) \n",
    "- Convert the new cell to type *markdown*\n",
    "- In that cell write a very brief text which contains (i) at least two levels of headers, (ii) a bulleted list of two or three elements, (iii) some text in **bold** and (iv) and some text in *italic*\n",
    "- At the bottom of your text add a hoizontal line (`---`)\n",
    "- Run the cell"
   ]
  },
  {
   "cell_type": "markdown",
   "id": "b0fef063-4edc-4fd4-8380-fa4318f8f4d0",
   "metadata": {},
   "source": [
    "---\n",
    "**4c**\n",
    "\n",
    "- Create a new cell below, leave it as type *code*\n",
    "- Write into the cell `print('hello world')\n",
    "- Run the cell"
   ]
  },
  {
   "cell_type": "markdown",
   "id": "8efc231b-04e4-4d93-a802-67ec34b396bc",
   "metadata": {},
   "source": [
    "---\n",
    "**4d**\n",
    "\n",
    "- Create three new cells below this one\n",
    "- Leave them as type *code* and add the code as shown in Fig. 15 in the PDF document.\n",
    "- Now run the cell `b = 12` and the cell `c = a + b` (do not run the first cell `a = 36`)\n",
    "\n",
    "You will get the error message as shown in the script. The variable `a` does not yet exist, hence the calculation a + b cannot be done and results in the error message.\n",
    "\n",
    "- Now run the three cells in sequential order - you will not get any error message\n",
    "- Now re-run the last cell.\n",
    "\n",
    "As you ran the last cell again, you also had no error message. This is because the information that the variable `a`contains the value 36 (as well as `b` containing 12) is still in the computer's memory (to be more precise, in the computer memory that the kernel uses). "
   ]
  },
  {
   "cell_type": "markdown",
   "id": "0ce37991-73a0-4327-b830-c11c2fb5e937",
   "metadata": {},
   "source": [
    "---\n",
    "**4e**\n",
    "Below you find two cells. The first one imports the package *numpy* used for many mathematical calculations with arrays. The second one reads a so-called *list* to a variable `l`, calculates the mean of all values in the array (`np.mean(l)`) and saves the result in the variable `lm`. Finally, the result is displayed (`print(lm)`)\n",
    "\n",
    "- Run only the second cell.\n",
    "- Look at the error message.\n",
    "\n",
    "The error message says *name 'np' is not defined*. The reson for the error is, obviously, that the package *numpy* has not yet been imported. \n",
    "\n",
    "Why does the message not say *numpy is not defined*? \n",
    "\n",
    "The reason is that it is very common in Python to abbreviate package names while importing. Here, the import statement says `import numpy as np` and hence in the code we always write `np.something()` when we want to use a fucntion from the *numpy* package (`something()` stands for any *numpy* function).\n",
    "\n",
    "- Now run both cells sequentially\n",
    "\n",
    "You should now see the correct mean of all the values in the list."
   ]
  },
  {
   "cell_type": "code",
   "execution_count": 2,
   "id": "3f1e47c4-fd84-4974-bd77-014d23cb5aac",
   "metadata": {},
   "outputs": [],
   "source": [
    "import numpy as np"
   ]
  },
  {
   "cell_type": "code",
   "execution_count": 3,
   "id": "180ccb61-bcd5-43b1-868d-4fa1dc7b6a9d",
   "metadata": {},
   "outputs": [
    {
     "name": "stdout",
     "output_type": "stream",
     "text": [
      "4.5\n"
     ]
    }
   ],
   "source": [
    "l = [3,6,3,2,7,5,9,1]\n",
    "lm = np.mean(l)\n",
    "print(lm)"
   ]
  },
  {
   "cell_type": "markdown",
   "id": "0f763040-458f-47f4-81a8-f2cb2a0824d0",
   "metadata": {},
   "source": [
    "---\n",
    "---\n",
    "\n",
    "### Conclusions\n",
    "\n",
    "We hope this Notebook. together with the PDF, has provided you with a first impression how to work with Jupyter Notebooks. We also wanted to make you familiar with the most common error messages, so that you will be able to handle them efficiently during the remainder of the course.\n",
    "\n",
    "- Before finishing this Notebook, **make sure all cells are run in this Notebook** and there are no more error messages.\n",
    "- Before closing the file: save the file, upload to git. \n",
    "- Download the Notebook\n",
    "- Pause your renkulab.io session\n",
    "- Upload the Notebook to Moodle\n",
    "\n",
    "\n",
    "---\n",
    "___"
   ]
  }
 ],
 "metadata": {
  "kernelspec": {
   "display_name": "Python 3 (ipykernel)",
   "language": "python",
   "name": "python3"
  },
  "language_info": {
   "codemirror_mode": {
    "name": "ipython",
    "version": 3
   },
   "file_extension": ".py",
   "mimetype": "text/x-python",
   "name": "python",
   "nbconvert_exporter": "python",
   "pygments_lexer": "ipython3",
   "version": "3.9.12"
  }
 },
 "nbformat": 4,
 "nbformat_minor": 5
}
